{
 "cells": [
  {
   "cell_type": "markdown",
   "metadata": {},
   "source": [
    "CrewAI - Gemini 01\n",
    "https://youtu.be/B8s-FyN4UeE?si=JF6BfX1aOa8tdxl3\n",
    "\n",
    "CrewAI 是一個自治代理框架，使您能夠建立一組代理來完成複雜的任務。 它在功能上與 AutoGen 非常相似。 您還將學習如何將 Google 的免費 G​​emini API 與 CrewAI 結合使用。\n",
    "\n",
    "影片是用 Google Colab 來完成的。所以，同時用本地的 jupyter-lab 跟 Google Colab 同時來操作看看囉"
   ]
  },
  {
   "cell_type": "code",
   "execution_count": 1,
   "metadata": {},
   "outputs": [
    {
     "name": "stdout",
     "output_type": "stream",
     "text": [
      "Requirement already satisfied: crewai in d:\\tomo.project\\crewai\\venv\\lib\\site-packages (0.11.0)\n",
      "Requirement already satisfied: duckduckgo-search in d:\\tomo.project\\crewai\\venv\\lib\\site-packages (4.4.3)\n",
      "Requirement already satisfied: langchain-google-genai in d:\\tomo.project\\crewai\\venv\\lib\\site-packages (0.0.9)\n",
      "Requirement already satisfied: instructor<0.6.0,>=0.5.2 in d:\\tomo.project\\crewai\\venv\\lib\\site-packages (from crewai) (0.5.2)\n",
      "Requirement already satisfied: langchain<0.2.0,>=0.1.0 in d:\\tomo.project\\crewai\\venv\\lib\\site-packages (from crewai) (0.1.7)\n",
      "Requirement already satisfied: langchain-openai<0.0.3,>=0.0.2 in d:\\tomo.project\\crewai\\venv\\lib\\site-packages (from crewai) (0.0.2.post1)\n",
      "Requirement already satisfied: openai<2.0.0,>=1.7.1 in d:\\tomo.project\\crewai\\venv\\lib\\site-packages (from crewai) (1.12.0)\n",
      "Requirement already satisfied: opentelemetry-api<2.0.0,>=1.22.0 in d:\\tomo.project\\crewai\\venv\\lib\\site-packages (from crewai) (1.22.0)\n",
      "Requirement already satisfied: opentelemetry-exporter-otlp-proto-http<2.0.0,>=1.22.0 in d:\\tomo.project\\crewai\\venv\\lib\\site-packages (from crewai) (1.22.0)\n",
      "Requirement already satisfied: opentelemetry-sdk<2.0.0,>=1.22.0 in d:\\tomo.project\\crewai\\venv\\lib\\site-packages (from crewai) (1.22.0)\n",
      "Requirement already satisfied: pydantic<3.0.0,>=2.4.2 in d:\\tomo.project\\crewai\\venv\\lib\\site-packages (from crewai) (2.6.1)\n",
      "Requirement already satisfied: regex<2024.0.0,>=2023.12.25 in d:\\tomo.project\\crewai\\venv\\lib\\site-packages (from crewai) (2023.12.25)\n",
      "Requirement already satisfied: click>=8.1.7 in d:\\tomo.project\\crewai\\venv\\lib\\site-packages (from duckduckgo-search) (8.1.7)\n",
      "Requirement already satisfied: curl-cffi>=0.6.0b9 in d:\\tomo.project\\crewai\\venv\\lib\\site-packages (from duckduckgo-search) (0.6.0b9)\n",
      "Requirement already satisfied: lxml>=5.1.0 in d:\\tomo.project\\crewai\\venv\\lib\\site-packages (from duckduckgo-search) (5.1.0)\n",
      "Requirement already satisfied: nest-asyncio>=1.6.0 in d:\\tomo.project\\crewai\\venv\\lib\\site-packages (from duckduckgo-search) (1.6.0)\n",
      "Requirement already satisfied: google-generativeai<0.4.0,>=0.3.1 in d:\\tomo.project\\crewai\\venv\\lib\\site-packages (from langchain-google-genai) (0.3.2)\n",
      "Requirement already satisfied: langchain-core<0.2,>=0.1 in d:\\tomo.project\\crewai\\venv\\lib\\site-packages (from langchain-google-genai) (0.1.23)\n",
      "Requirement already satisfied: colorama in d:\\tomo.project\\crewai\\venv\\lib\\site-packages (from click>=8.1.7->duckduckgo-search) (0.4.6)\n",
      "Requirement already satisfied: cffi>=1.12.0 in d:\\tomo.project\\crewai\\venv\\lib\\site-packages (from curl-cffi>=0.6.0b9->duckduckgo-search) (1.16.0)\n",
      "Requirement already satisfied: certifi in d:\\tomo.project\\crewai\\venv\\lib\\site-packages (from curl-cffi>=0.6.0b9->duckduckgo-search) (2024.2.2)\n",
      "Requirement already satisfied: google-ai-generativelanguage==0.4.0 in d:\\tomo.project\\crewai\\venv\\lib\\site-packages (from google-generativeai<0.4.0,>=0.3.1->langchain-google-genai) (0.4.0)\n",
      "Requirement already satisfied: google-auth in d:\\tomo.project\\crewai\\venv\\lib\\site-packages (from google-generativeai<0.4.0,>=0.3.1->langchain-google-genai) (2.27.0)\n",
      "Requirement already satisfied: google-api-core in d:\\tomo.project\\crewai\\venv\\lib\\site-packages (from google-generativeai<0.4.0,>=0.3.1->langchain-google-genai) (2.17.1)\n",
      "Requirement already satisfied: typing-extensions in d:\\tomo.project\\crewai\\venv\\lib\\site-packages (from google-generativeai<0.4.0,>=0.3.1->langchain-google-genai) (4.9.0)\n",
      "Requirement already satisfied: protobuf in d:\\tomo.project\\crewai\\venv\\lib\\site-packages (from google-generativeai<0.4.0,>=0.3.1->langchain-google-genai) (4.25.2)\n",
      "Requirement already satisfied: tqdm in d:\\tomo.project\\crewai\\venv\\lib\\site-packages (from google-generativeai<0.4.0,>=0.3.1->langchain-google-genai) (4.66.2)\n",
      "Requirement already satisfied: proto-plus<2.0.0dev,>=1.22.3 in d:\\tomo.project\\crewai\\venv\\lib\\site-packages (from google-ai-generativelanguage==0.4.0->google-generativeai<0.4.0,>=0.3.1->langchain-google-genai) (1.23.0)\n",
      "Requirement already satisfied: aiohttp<4.0.0,>=3.9.1 in d:\\tomo.project\\crewai\\venv\\lib\\site-packages (from instructor<0.6.0,>=0.5.2->crewai) (3.9.3)\n",
      "Requirement already satisfied: docstring-parser<0.16,>=0.15 in d:\\tomo.project\\crewai\\venv\\lib\\site-packages (from instructor<0.6.0,>=0.5.2->crewai) (0.15)\n",
      "Requirement already satisfied: rich<14.0.0,>=13.7.0 in d:\\tomo.project\\crewai\\venv\\lib\\site-packages (from instructor<0.6.0,>=0.5.2->crewai) (13.7.0)\n",
      "Requirement already satisfied: tenacity<9.0.0,>=8.2.3 in d:\\tomo.project\\crewai\\venv\\lib\\site-packages (from instructor<0.6.0,>=0.5.2->crewai) (8.2.3)\n",
      "Requirement already satisfied: typer<0.10.0,>=0.9.0 in d:\\tomo.project\\crewai\\venv\\lib\\site-packages (from instructor<0.6.0,>=0.5.2->crewai) (0.9.0)\n",
      "Requirement already satisfied: PyYAML>=5.3 in d:\\tomo.project\\crewai\\venv\\lib\\site-packages (from langchain<0.2.0,>=0.1.0->crewai) (6.0.1)\n",
      "Requirement already satisfied: SQLAlchemy<3,>=1.4 in d:\\tomo.project\\crewai\\venv\\lib\\site-packages (from langchain<0.2.0,>=0.1.0->crewai) (2.0.27)\n",
      "Requirement already satisfied: dataclasses-json<0.7,>=0.5.7 in d:\\tomo.project\\crewai\\venv\\lib\\site-packages (from langchain<0.2.0,>=0.1.0->crewai) (0.6.4)\n",
      "Requirement already satisfied: jsonpatch<2.0,>=1.33 in d:\\tomo.project\\crewai\\venv\\lib\\site-packages (from langchain<0.2.0,>=0.1.0->crewai) (1.33)\n",
      "Requirement already satisfied: langchain-community<0.1,>=0.0.20 in d:\\tomo.project\\crewai\\venv\\lib\\site-packages (from langchain<0.2.0,>=0.1.0->crewai) (0.0.20)\n",
      "Requirement already satisfied: langsmith<0.1,>=0.0.83 in d:\\tomo.project\\crewai\\venv\\lib\\site-packages (from langchain<0.2.0,>=0.1.0->crewai) (0.0.87)\n",
      "Requirement already satisfied: numpy<2,>=1 in d:\\tomo.project\\crewai\\venv\\lib\\site-packages (from langchain<0.2.0,>=0.1.0->crewai) (1.26.4)\n",
      "Requirement already satisfied: requests<3,>=2 in d:\\tomo.project\\crewai\\venv\\lib\\site-packages (from langchain<0.2.0,>=0.1.0->crewai) (2.31.0)\n",
      "Requirement already satisfied: anyio<5,>=3 in d:\\tomo.project\\crewai\\venv\\lib\\site-packages (from langchain-core<0.2,>=0.1->langchain-google-genai) (4.2.0)\n",
      "Requirement already satisfied: packaging<24.0,>=23.2 in d:\\tomo.project\\crewai\\venv\\lib\\site-packages (from langchain-core<0.2,>=0.1->langchain-google-genai) (23.2)\n",
      "Requirement already satisfied: tiktoken<0.6.0,>=0.5.2 in d:\\tomo.project\\crewai\\venv\\lib\\site-packages (from langchain-openai<0.0.3,>=0.0.2->crewai) (0.5.2)\n",
      "Requirement already satisfied: distro<2,>=1.7.0 in d:\\tomo.project\\crewai\\venv\\lib\\site-packages (from openai<2.0.0,>=1.7.1->crewai) (1.9.0)\n",
      "Requirement already satisfied: httpx<1,>=0.23.0 in d:\\tomo.project\\crewai\\venv\\lib\\site-packages (from openai<2.0.0,>=1.7.1->crewai) (0.25.2)\n",
      "Requirement already satisfied: sniffio in d:\\tomo.project\\crewai\\venv\\lib\\site-packages (from openai<2.0.0,>=1.7.1->crewai) (1.3.0)\n",
      "Requirement already satisfied: deprecated>=1.2.6 in d:\\tomo.project\\crewai\\venv\\lib\\site-packages (from opentelemetry-api<2.0.0,>=1.22.0->crewai) (1.2.14)\n",
      "Requirement already satisfied: importlib-metadata<7.0,>=6.0 in d:\\tomo.project\\crewai\\venv\\lib\\site-packages (from opentelemetry-api<2.0.0,>=1.22.0->crewai) (6.11.0)\n",
      "Requirement already satisfied: backoff<3.0.0,>=1.10.0 in d:\\tomo.project\\crewai\\venv\\lib\\site-packages (from opentelemetry-exporter-otlp-proto-http<2.0.0,>=1.22.0->crewai) (2.2.1)\n",
      "Requirement already satisfied: googleapis-common-protos~=1.52 in d:\\tomo.project\\crewai\\venv\\lib\\site-packages (from opentelemetry-exporter-otlp-proto-http<2.0.0,>=1.22.0->crewai) (1.62.0)\n",
      "Requirement already satisfied: opentelemetry-exporter-otlp-proto-common==1.22.0 in d:\\tomo.project\\crewai\\venv\\lib\\site-packages (from opentelemetry-exporter-otlp-proto-http<2.0.0,>=1.22.0->crewai) (1.22.0)\n",
      "Requirement already satisfied: opentelemetry-proto==1.22.0 in d:\\tomo.project\\crewai\\venv\\lib\\site-packages (from opentelemetry-exporter-otlp-proto-http<2.0.0,>=1.22.0->crewai) (1.22.0)\n",
      "Requirement already satisfied: opentelemetry-semantic-conventions==0.43b0 in d:\\tomo.project\\crewai\\venv\\lib\\site-packages (from opentelemetry-sdk<2.0.0,>=1.22.0->crewai) (0.43b0)\n",
      "Requirement already satisfied: annotated-types>=0.4.0 in d:\\tomo.project\\crewai\\venv\\lib\\site-packages (from pydantic<3.0.0,>=2.4.2->crewai) (0.6.0)\n",
      "Requirement already satisfied: pydantic-core==2.16.2 in d:\\tomo.project\\crewai\\venv\\lib\\site-packages (from pydantic<3.0.0,>=2.4.2->crewai) (2.16.2)\n",
      "Requirement already satisfied: aiosignal>=1.1.2 in d:\\tomo.project\\crewai\\venv\\lib\\site-packages (from aiohttp<4.0.0,>=3.9.1->instructor<0.6.0,>=0.5.2->crewai) (1.3.1)\n",
      "Requirement already satisfied: attrs>=17.3.0 in d:\\tomo.project\\crewai\\venv\\lib\\site-packages (from aiohttp<4.0.0,>=3.9.1->instructor<0.6.0,>=0.5.2->crewai) (23.2.0)\n",
      "Requirement already satisfied: frozenlist>=1.1.1 in d:\\tomo.project\\crewai\\venv\\lib\\site-packages (from aiohttp<4.0.0,>=3.9.1->instructor<0.6.0,>=0.5.2->crewai) (1.4.1)\n",
      "Requirement already satisfied: multidict<7.0,>=4.5 in d:\\tomo.project\\crewai\\venv\\lib\\site-packages (from aiohttp<4.0.0,>=3.9.1->instructor<0.6.0,>=0.5.2->crewai) (6.0.5)\n",
      "Requirement already satisfied: yarl<2.0,>=1.0 in d:\\tomo.project\\crewai\\venv\\lib\\site-packages (from aiohttp<4.0.0,>=3.9.1->instructor<0.6.0,>=0.5.2->crewai) (1.9.4)\n",
      "Requirement already satisfied: idna>=2.8 in d:\\tomo.project\\crewai\\venv\\lib\\site-packages (from anyio<5,>=3->langchain-core<0.2,>=0.1->langchain-google-genai) (3.6)\n",
      "Requirement already satisfied: pycparser in d:\\tomo.project\\crewai\\venv\\lib\\site-packages (from cffi>=1.12.0->curl-cffi>=0.6.0b9->duckduckgo-search) (2.21)\n",
      "Requirement already satisfied: marshmallow<4.0.0,>=3.18.0 in d:\\tomo.project\\crewai\\venv\\lib\\site-packages (from dataclasses-json<0.7,>=0.5.7->langchain<0.2.0,>=0.1.0->crewai) (3.20.2)\n",
      "Requirement already satisfied: typing-inspect<1,>=0.4.0 in d:\\tomo.project\\crewai\\venv\\lib\\site-packages (from dataclasses-json<0.7,>=0.5.7->langchain<0.2.0,>=0.1.0->crewai) (0.9.0)\n",
      "Requirement already satisfied: wrapt<2,>=1.10 in d:\\tomo.project\\crewai\\venv\\lib\\site-packages (from deprecated>=1.2.6->opentelemetry-api<2.0.0,>=1.22.0->crewai) (1.16.0)\n",
      "Requirement already satisfied: cachetools<6.0,>=2.0.0 in d:\\tomo.project\\crewai\\venv\\lib\\site-packages (from google-auth->google-generativeai<0.4.0,>=0.3.1->langchain-google-genai) (5.3.2)\n",
      "Requirement already satisfied: pyasn1-modules>=0.2.1 in d:\\tomo.project\\crewai\\venv\\lib\\site-packages (from google-auth->google-generativeai<0.4.0,>=0.3.1->langchain-google-genai) (0.3.0)\n",
      "Requirement already satisfied: rsa<5,>=3.1.4 in d:\\tomo.project\\crewai\\venv\\lib\\site-packages (from google-auth->google-generativeai<0.4.0,>=0.3.1->langchain-google-genai) (4.9)\n",
      "Requirement already satisfied: httpcore==1.* in d:\\tomo.project\\crewai\\venv\\lib\\site-packages (from httpx<1,>=0.23.0->openai<2.0.0,>=1.7.1->crewai) (1.0.2)\n",
      "Requirement already satisfied: h11<0.15,>=0.13 in d:\\tomo.project\\crewai\\venv\\lib\\site-packages (from httpcore==1.*->httpx<1,>=0.23.0->openai<2.0.0,>=1.7.1->crewai) (0.14.0)\n",
      "Requirement already satisfied: zipp>=0.5 in d:\\tomo.project\\crewai\\venv\\lib\\site-packages (from importlib-metadata<7.0,>=6.0->opentelemetry-api<2.0.0,>=1.22.0->crewai) (3.17.0)\n",
      "Requirement already satisfied: jsonpointer>=1.9 in d:\\tomo.project\\crewai\\venv\\lib\\site-packages (from jsonpatch<2.0,>=1.33->langchain<0.2.0,>=0.1.0->crewai) (2.4)\n",
      "Requirement already satisfied: charset-normalizer<4,>=2 in d:\\tomo.project\\crewai\\venv\\lib\\site-packages (from requests<3,>=2->langchain<0.2.0,>=0.1.0->crewai) (3.3.2)\n",
      "Requirement already satisfied: urllib3<3,>=1.21.1 in d:\\tomo.project\\crewai\\venv\\lib\\site-packages (from requests<3,>=2->langchain<0.2.0,>=0.1.0->crewai) (2.2.0)\n",
      "Requirement already satisfied: markdown-it-py>=2.2.0 in d:\\tomo.project\\crewai\\venv\\lib\\site-packages (from rich<14.0.0,>=13.7.0->instructor<0.6.0,>=0.5.2->crewai) (3.0.0)\n",
      "Requirement already satisfied: pygments<3.0.0,>=2.13.0 in d:\\tomo.project\\crewai\\venv\\lib\\site-packages (from rich<14.0.0,>=13.7.0->instructor<0.6.0,>=0.5.2->crewai) (2.17.2)\n",
      "Requirement already satisfied: greenlet!=0.4.17 in d:\\tomo.project\\crewai\\venv\\lib\\site-packages (from SQLAlchemy<3,>=1.4->langchain<0.2.0,>=0.1.0->crewai) (3.0.3)\n",
      "Requirement already satisfied: grpcio<2.0dev,>=1.33.2 in d:\\tomo.project\\crewai\\venv\\lib\\site-packages (from google-api-core[grpc]!=2.0.*,!=2.1.*,!=2.10.*,!=2.2.*,!=2.3.*,!=2.4.*,!=2.5.*,!=2.6.*,!=2.7.*,!=2.8.*,!=2.9.*,<3.0.0dev,>=1.34.0->google-ai-generativelanguage==0.4.0->google-generativeai<0.4.0,>=0.3.1->langchain-google-genai) (1.60.1)\n",
      "Requirement already satisfied: grpcio-status<2.0.dev0,>=1.33.2 in d:\\tomo.project\\crewai\\venv\\lib\\site-packages (from google-api-core[grpc]!=2.0.*,!=2.1.*,!=2.10.*,!=2.2.*,!=2.3.*,!=2.4.*,!=2.5.*,!=2.6.*,!=2.7.*,!=2.8.*,!=2.9.*,<3.0.0dev,>=1.34.0->google-ai-generativelanguage==0.4.0->google-generativeai<0.4.0,>=0.3.1->langchain-google-genai) (1.60.1)\n",
      "Requirement already satisfied: mdurl~=0.1 in d:\\tomo.project\\crewai\\venv\\lib\\site-packages (from markdown-it-py>=2.2.0->rich<14.0.0,>=13.7.0->instructor<0.6.0,>=0.5.2->crewai) (0.1.2)\n",
      "Requirement already satisfied: pyasn1<0.6.0,>=0.4.6 in d:\\tomo.project\\crewai\\venv\\lib\\site-packages (from pyasn1-modules>=0.2.1->google-auth->google-generativeai<0.4.0,>=0.3.1->langchain-google-genai) (0.5.1)\n",
      "Requirement already satisfied: mypy-extensions>=0.3.0 in d:\\tomo.project\\crewai\\venv\\lib\\site-packages (from typing-inspect<1,>=0.4.0->dataclasses-json<0.7,>=0.5.7->langchain<0.2.0,>=0.1.0->crewai) (1.0.0)\n"
     ]
    }
   ],
   "source": [
    "# 安裝crewai, duckduckgo-search, langchain-google-genai\n",
    "!pip install crewai duckduckgo-search langchain-google-genai"
   ]
  },
  {
   "cell_type": "code",
   "execution_count": 3,
   "metadata": {},
   "outputs": [],
   "source": [
    "# 匯入套件\n",
    "import os\n",
    "from langchain_google_genai import ChatGoogleGenerativeAI\n",
    "from langchain_community.llms import OpenAI, Ollama\n",
    "from langchain_openai import ChatOpenAI\n",
    "from crewai import Agent, Task, Crew, Process\n",
    "\n",
    "# 匯入工具\n",
    "from tools.browser_tools import BrowserTools\n",
    "from tools.calculator_tools import CalculatorTools\n",
    "from tools.file_tools import FileTools\n",
    "from tools.search_tools import SearchTools\n",
    "from tools.sec_tools import SECTools\n",
    "from tools.template_tools import TemplateTools\n",
    "from langchain.tools.yahoo_finance_news import YahooFinanceNewsTool"
   ]
  },
  {
   "cell_type": "markdown",
   "metadata": {},
   "source": [
    "設定 LLM"
   ]
  },
  {
   "cell_type": "code",
   "execution_count": 4,
   "metadata": {},
   "outputs": [],
   "source": [
    "gpt35 = ChatOpenAI(model_name=\"gpt-3.5-turbo\", temperature=0.7),\n",
    "gpt4 = ChatOpenAI(model_name=\"gpt-4\", temperature=0.7),\n",
    "ollama_llm = Ollama(model=\"openhermes\"),\n",
    "# gemini 突然變成無法執行了，哀\n",
    "gemini = ChatGoogleGenerativeAI(model = \"gemini-pro\", verbose = True, temperature = 0.6, google_api_key = os.environ[\"GOOGLE_API_KEY\"]),"
   ]
  },
  {
   "cell_type": "markdown",
   "metadata": {},
   "source": [
    "設定 tools"
   ]
  },
  {
   "cell_type": "code",
   "execution_count": 5,
   "metadata": {},
   "outputs": [
    {
     "data": {
      "text/plain": [
       "'\\ntools=[\\n    search_DuckDuck,\\n    BrowserTools.scrape_and_summarize_website,\\n    CalculatorTools.calculate,\\n    FileTools.write_file,     \\n    SearchTools.search_internet,\\n    SearchTools.search_news,\\n    SECTools.search_10q,\\n    SECTools.search_10k,\\n    TemplateTools.learn_landing_page_options,\\n    TemplateTools.copy_landing_page_template_to_project_folder,\\n    YahooFinanceNewsTool()\\n    ]\\n'"
      ]
     },
     "execution_count": 5,
     "metadata": {},
     "output_type": "execute_result"
    }
   ],
   "source": [
    "from langchain.tools import DuckDuckGoSearchRun\n",
    "search_tool = DuckDuckGoSearchRun()\n",
    "\"\"\"\n",
    "tools=[\n",
    "    search_DuckDuck,\n",
    "    BrowserTools.scrape_and_summarize_website,\n",
    "    CalculatorTools.calculate,\n",
    "    FileTools.write_file,     \n",
    "    SearchTools.search_internet,\n",
    "    SearchTools.search_news,\n",
    "    SECTools.search_10q,\n",
    "    SECTools.search_10k,\n",
    "    TemplateTools.learn_landing_page_options,\n",
    "    TemplateTools.copy_landing_page_template_to_project_folder,\n",
    "    YahooFinanceNewsTool()\n",
    "    ]\n",
    "\"\"\""
   ]
  },
  {
   "cell_type": "markdown",
   "metadata": {},
   "source": [
    "接下來開始定義 Agent，這部分取決於你想要用多少個 Agent，每個 Agent 都有不同的 role(角色)，不同的 goal(目標)及不同的 backgstory(背景故事)，或者不同的 system prompt(系統提示詞)。"
   ]
  },
  {
   "cell_type": "code",
   "execution_count": 6,
   "metadata": {},
   "outputs": [
    {
     "ename": "ValidationError",
     "evalue": "1 validation error for Agent\n  Value error, 1 validation error for ConversationSummaryMemory\nllm\n  value is not a valid dict (type=type_error.dict) [type=value_error, input_value={'role': 'Senior Research...a(model='openhermes'),)}, input_type=dict]\n    For further information visit https://errors.pydantic.dev/2.6/v/value_error",
     "output_type": "error",
     "traceback": [
      "\u001b[1;31m---------------------------------------------------------------------------\u001b[0m",
      "\u001b[1;31mValidationError\u001b[0m                           Traceback (most recent call last)",
      "Cell \u001b[1;32mIn[6], line 1\u001b[0m\n\u001b[1;32m----> 1\u001b[0m researcher \u001b[38;5;241m=\u001b[39m \u001b[43mAgent\u001b[49m\u001b[43m(\u001b[49m\n\u001b[0;32m      2\u001b[0m \u001b[43m    \u001b[49m\u001b[43mrole\u001b[49m\u001b[43m \u001b[49m\u001b[38;5;241;43m=\u001b[39;49m\u001b[43m \u001b[49m\u001b[38;5;124;43m'\u001b[39;49m\u001b[38;5;124;43mSenior Research Analyst\u001b[39;49m\u001b[38;5;124;43m'\u001b[39;49m\u001b[43m,\u001b[49m\n\u001b[0;32m      3\u001b[0m \u001b[43m    \u001b[49m\u001b[43mgoal\u001b[49m\u001b[43m \u001b[49m\u001b[38;5;241;43m=\u001b[39;49m\u001b[43m \u001b[49m\u001b[38;5;124;43m'\u001b[39;49m\u001b[38;5;124;43mUncover cutting-edge development in AI and data science\u001b[39;49m\u001b[38;5;124;43m'\u001b[39;49m\u001b[43m,\u001b[49m\n\u001b[0;32m      4\u001b[0m \u001b[43m    \u001b[49m\u001b[43mbackstory\u001b[49m\u001b[43m \u001b[49m\u001b[38;5;241;43m=\u001b[39;49m\u001b[43m \u001b[49m\u001b[38;5;124;43m\"\"\"\u001b[39;49m\u001b[38;5;124;43m You work in a leading tech think tank.\u001b[39;49m\n\u001b[0;32m      5\u001b[0m \u001b[38;5;124;43m    Your expertise lies in identifying emerging trends.\u001b[39;49m\n\u001b[0;32m      6\u001b[0m \u001b[38;5;124;43m    You have a knack for dissecting complex data and presenting actionable insights.\u001b[39;49m\u001b[38;5;124;43m\"\"\"\u001b[39;49m\u001b[43m,\u001b[49m\n\u001b[0;32m      7\u001b[0m \u001b[43m    \u001b[49m\u001b[43mverbose\u001b[49m\u001b[38;5;241;43m=\u001b[39;49m\u001b[38;5;28;43;01mTrue\u001b[39;49;00m\u001b[43m,\u001b[49m\n\u001b[0;32m      8\u001b[0m \u001b[43m    \u001b[49m\u001b[43mallow_delegation\u001b[49m\u001b[38;5;241;43m=\u001b[39;49m\u001b[38;5;28;43;01mFalse\u001b[39;49;00m\u001b[43m,\u001b[49m\n\u001b[0;32m      9\u001b[0m \u001b[43m    \u001b[49m\u001b[43mllm\u001b[49m\u001b[43m \u001b[49m\u001b[38;5;241;43m=\u001b[39;49m\u001b[43m \u001b[49m\u001b[43mollama_llm\u001b[49m\u001b[43m,\u001b[49m\n\u001b[0;32m     10\u001b[0m \u001b[43m    \u001b[49m\u001b[38;5;66;43;03m# tools = [search_tool]\u001b[39;49;00m\n\u001b[0;32m     11\u001b[0m \u001b[43m)\u001b[49m\n\u001b[0;32m     12\u001b[0m writer \u001b[38;5;241m=\u001b[39m Agent(\n\u001b[0;32m     13\u001b[0m     role\u001b[38;5;241m=\u001b[39m\u001b[38;5;124m'\u001b[39m\u001b[38;5;124mTech Content Strategist\u001b[39m\u001b[38;5;124m'\u001b[39m,\n\u001b[0;32m     14\u001b[0m     goal\u001b[38;5;241m=\u001b[39m\u001b[38;5;124m'\u001b[39m\u001b[38;5;124mCraft compelling content on tech advancements\u001b[39m\u001b[38;5;124m'\u001b[39m,\n\u001b[1;32m   (...)\u001b[0m\n\u001b[0;32m     20\u001b[0m     llm \u001b[38;5;241m=\u001b[39m ollama_llm\n\u001b[0;32m     21\u001b[0m )\n",
      "File \u001b[1;32md:\\TOMO.Project\\crewAI\\venv\\Lib\\site-packages\\pydantic\\main.py:171\u001b[0m, in \u001b[0;36mBaseModel.__init__\u001b[1;34m(self, **data)\u001b[0m\n\u001b[0;32m    169\u001b[0m \u001b[38;5;66;03m# `__tracebackhide__` tells pytest and some other tools to omit this function from tracebacks\u001b[39;00m\n\u001b[0;32m    170\u001b[0m __tracebackhide__ \u001b[38;5;241m=\u001b[39m \u001b[38;5;28;01mTrue\u001b[39;00m\n\u001b[1;32m--> 171\u001b[0m \u001b[38;5;28;43mself\u001b[39;49m\u001b[38;5;241;43m.\u001b[39;49m\u001b[43m__pydantic_validator__\u001b[49m\u001b[38;5;241;43m.\u001b[39;49m\u001b[43mvalidate_python\u001b[49m\u001b[43m(\u001b[49m\u001b[43mdata\u001b[49m\u001b[43m,\u001b[49m\u001b[43m \u001b[49m\u001b[43mself_instance\u001b[49m\u001b[38;5;241;43m=\u001b[39;49m\u001b[38;5;28;43mself\u001b[39;49m\u001b[43m)\u001b[49m\n",
      "\u001b[1;31mValidationError\u001b[0m: 1 validation error for Agent\n  Value error, 1 validation error for ConversationSummaryMemory\nllm\n  value is not a valid dict (type=type_error.dict) [type=value_error, input_value={'role': 'Senior Research...a(model='openhermes'),)}, input_type=dict]\n    For further information visit https://errors.pydantic.dev/2.6/v/value_error"
     ]
    }
   ],
   "source": [
    "researcher = Agent(\n",
    "    role = 'Senior Research Analyst',\n",
    "    goal = 'Uncover cutting-edge development in AI and data science',\n",
    "    backstory = \"\"\" You work in a leading tech think tank.\n",
    "    Your expertise lies in identifying emerging trends.\n",
    "    You have a knack for dissecting complex data and presenting actionable insights.\"\"\",\n",
    "    verbose=True,\n",
    "    allow_delegation=False,\n",
    "    llm = ollama_llm,\n",
    "    # tools = [search_tool]\n",
    ")\n",
    "writer = Agent(\n",
    "    role='Tech Content Strategist',\n",
    "    goal='Craft compelling content on tech advancements',\n",
    "    backstory=\"\"\"You are a renowned Content Strategist, known for\n",
    "    your insightful and engaging articles.\n",
    "    You transform complex concepts into compelling narratives. And you are expert at writing in traditional chinese\"\"\",\n",
    "    verbose=True,\n",
    "    allow_delegation=True,\n",
    "    llm = ollama_llm\n",
    ")"
   ]
  },
  {
   "cell_type": "markdown",
   "metadata": {},
   "source": [
    "接下來提供這些 Agent 要執行的 task(任務列表) "
   ]
  },
  {
   "cell_type": "code",
   "execution_count": null,
   "metadata": {},
   "outputs": [
    {
     "ename": "NameError",
     "evalue": "name 'researcher' is not defined",
     "output_type": "error",
     "traceback": [
      "\u001b[1;31m---------------------------------------------------------------------------\u001b[0m",
      "\u001b[1;31mNameError\u001b[0m                                 Traceback (most recent call last)",
      "Cell \u001b[1;32mIn[13], line 5\u001b[0m\n\u001b[0;32m      1\u001b[0m task1 \u001b[38;5;241m=\u001b[39m Task(\n\u001b[0;32m      2\u001b[0m   description\u001b[38;5;241m=\u001b[39m\u001b[38;5;124m\"\"\"\u001b[39m\u001b[38;5;124mConduct a comprehensive analysis of the latest advancements in AI in 2024.\u001b[39m\n\u001b[0;32m      3\u001b[0m \u001b[38;5;124m  Identify key trends, breakthrough technologies, and potential industry impacts.\u001b[39m\n\u001b[0;32m      4\u001b[0m \u001b[38;5;124m  Your final answer MUST be a full analysis report\u001b[39m\u001b[38;5;124m\"\"\"\u001b[39m,\n\u001b[1;32m----> 5\u001b[0m   agent\u001b[38;5;241m=\u001b[39m\u001b[43mresearcher\u001b[49m\n\u001b[0;32m      6\u001b[0m )\n\u001b[0;32m      8\u001b[0m task2 \u001b[38;5;241m=\u001b[39m Task(\n\u001b[0;32m      9\u001b[0m   description\u001b[38;5;241m=\u001b[39m\u001b[38;5;124m\"\"\"\u001b[39m\u001b[38;5;124mUsing the insights provided, develop an engaging blog\u001b[39m\n\u001b[0;32m     10\u001b[0m \u001b[38;5;124m  post that highlights the most significant AI advancements.\u001b[39m\n\u001b[1;32m   (...)\u001b[0m\n\u001b[0;32m     16\u001b[0m   agent\u001b[38;5;241m=\u001b[39mwriter\n\u001b[0;32m     17\u001b[0m )\n",
      "\u001b[1;31mNameError\u001b[0m: name 'researcher' is not defined"
     ]
    }
   ],
   "source": [
    "task1 = Task(\n",
    "  description=\"\"\"Conduct a comprehensive analysis of the latest advancements in AI in 2024.\n",
    "  Identify key trends, breakthrough technologies, and potential industry impacts.\n",
    "  Your final answer MUST be a full analysis report\"\"\",\n",
    "  agent=researcher\n",
    ")\n",
    "\n",
    "task2 = Task(\n",
    "  description=\"\"\"Using the insights provided, develop an engaging blog\n",
    "  post that highlights the most significant AI advancements.\n",
    "  Your post should be informative yet accessible, catering to a tech-savvy audience.\n",
    "  Make it sound cool, avoid complex words so it doesn't sound like AI.\n",
    "  Your final answer MUST be the full blog post of at least 5 paragraphs.\n",
    "  And always use Traditional chinese to express.\n",
    "  \"\"\",\n",
    "  agent=writer\n",
    ")"
   ]
  },
  {
   "cell_type": "markdown",
   "metadata": {},
   "source": [
    "使用順序過程實例化您的 Agent 成員(crew)"
   ]
  },
  {
   "cell_type": "code",
   "execution_count": null,
   "metadata": {},
   "outputs": [],
   "source": [
    "crew = Crew(\n",
    "  agents=[researcher, writer],\n",
    "  tasks=[task1, task2],\n",
    "  verbose=2, # You can set it to 1 or 2 to different logging levels\n",
    ")"
   ]
  },
  {
   "cell_type": "markdown",
   "metadata": {},
   "source": [
    "讓你的 Agent成員(crew) 開始工作！並輸出成果！"
   ]
  },
  {
   "cell_type": "code",
   "execution_count": null,
   "metadata": {},
   "outputs": [
    {
     "name": "stdout",
     "output_type": "stream",
     "text": [
      "[DEBUG]: Working Agent: Senior Research Analyst\n",
      "[INFO]: Starting Task: Conduct a comprehensive analysis of the latest advancements in AI in 2024.\n",
      "  Identify key trends, breakthrough technologies, and potential industry impacts.\n",
      "  Your final answer MUST be a full analysis report\n"
     ]
    },
    {
     "ename": "",
     "evalue": "",
     "output_type": "error",
     "traceback": [
      "\u001b[1;31m在目前儲存格或上一個儲存格中執行程式碼時，Kernel 已損毀。\n",
      "\u001b[1;31m請檢閱儲存格中的程式碼，找出失敗的可能原因。\n",
      "\u001b[1;31m如需詳細資訊，請按一下<a href='https://aka.ms/vscodeJupyterKernelCrash'>這裡</a>。\n",
      "\u001b[1;31m如需詳細資料，請檢視 Jupyter <a href='command:jupyter.viewOutput'>記錄</a>。"
     ]
    }
   ],
   "source": [
    "result = crew.kickoff()\n",
    "\n",
    "print(\"######################\")\n",
    "print(result)"
   ]
  },
  {
   "cell_type": "markdown",
   "metadata": {},
   "source": [
    "######################\n",
    "\n",
    "**2024 年人工智能发展趋势：展望未来**\n",
    "\n",
    "2024 年，人工智能正以前所未有的速度发展，为我们的生活和工作带来了巨大的变化。在这一年里，人工智能有望取得重大进展，其中包括：\n",
    "\n",
    "**生成式人工智能变得更加容易使用**\n",
    "\n",
    "生成式人工智能（Generative AI）是一种能够生成新内容的人工智能，例如文本、图像、音乐和视频。在 2024 年，生成式人工智能有望变得更加容易使用，这将导致其在更广泛的领域得到应用。例如，生成式人工智能可以用于创建新的艺术作品、设计新产品，甚至开发新药物。\n",
    "\n",
    "**API 驱动的 AI 和微服务简化了复杂 AI 应用程序的创建**\n",
    "\n",
    "API 驱动的 AI 和微服务是一种新的软件开发方法，可以使创建复杂的 AI 应用程序变得更加容易。这种方法允许开发人员将 AI 功能作为独立的服务来构建，然后将这些服务组合在一起以创建更复杂的应用程序。这使得开发人员可以更轻松地创建和部署 AI 应用程序，从而提高生产力。\n",
    "\n",
    "**AI 驱动的自动化将彻底改变各个行业**\n",
    "\n",
    "AI 驱动的自动化是指使用人工智能技术来执行以前由人类完成的任务。在 2024 年，AI 驱动的自动化有望在各个行业得到更广泛的应用，这将导致生产力和效率的提高。例如，AI 驱动的自动化可以用于自动驾驶汽车、自动客户服务和自动医疗诊断。\n",
    "\n",
    "**道德考虑和监管框架变得越来越重要**\n",
    "\n",
    "随着人工智能变得越来越普遍，道德考虑和监管框架变得越来越重要。我们需要确保人工智能被负责任地开发和部署，以造福人类而不是伤害人类。在 2024 年，我们可能会看到更多的政府和组织颁布人工智能法规，以确保人工智能的负责任发展。\n",
    "\n",
    "总体而言，2024 年有望成为人工智能的变革之年。人工智能将继续在各个领域取得重大进展，为我们的生活和工作带来巨大的变化。\n"
   ]
  },
  {
   "cell_type": "markdown",
   "metadata": {},
   "source": [
    "######################\n",
    "\n",
    "**博文：2024 年人工智能的重大突破**\n",
    "\n",
    "**前言**\n",
    "\n",
    "2024年注定是人工智能发展史上具有里程碑意义的一年，其特点是多项关键趋势和突破性技术。这些创新将对我们生活的世界产生深远的影响，并在各个行业掀起变革浪潮。\n",
    "\n",
    "**关键趋势**\n",
    "\n",
    "1. **生成式人工智能：** 生成式人工智能能够从头开始创建新的数据或内容，它将在各个领域得到广泛认可和应用。这包括文本生成、图像合成和音乐创作。\n",
    "\n",
    "2. **多模态人工智能：** 多模态人工智能旨在处理和理解来自多种来源和方式的数据，例如文本、图像和音频，它将推动自动驾驶汽车和医疗诊断等领域的新应用。\n",
    "\n",
    "3. **边缘人工智能：** 边缘人工智能涉及在资源有限的设备上部署人工智能模型，它将实现实时决策和增强的隐私保护。这将在物联网设备、可穿戴技术和自主系统中得到应用。\n",
    "\n",
    "4. **量子机器学习：** 量子机器学习利用量子计算的原理，将彻底改变人工智能算法，在某些任务中实现指数级的速度提升。这将为优化、密码学和材料科学开辟新的可能性。\n",
    "\n",
    "5. **人工智能伦理与法规：** 人们对人工智能的伦理和社会影响的认识不断提高，这将导致对人工智能开发和部署的监管和指导方针的增加。这将确保人工智能技术的负责任和有益的使用。\n",
    "\n",
    "**突破性技术**\n",
    "\n",
    "1. **大型语言模型 (LLM)：** LLM 能够处理和生成类似人类的文本，它将变得更加强大和通用，从而在自然语言处理、对话系统和机器翻译方面取得进展。\n",
    "\n",
    "2. **量子退火：** 量子退火是一种专门的量子计算类型，它将用于解决复杂的优化问题，例如那些存在于物流、金融和药物发现中的问题。\n",
    "\n",
    "3. **联邦学习：** 联邦学习是一种在多个分散设备上协作训练人工智能模型的方法，它将解决数据隐私问题，并在不损害安全性的情况下实现对敏感数据的 AI 开发。\n",
    "\n",
    "4. **自动化机器学习 (AutoML)：** AutoML 工具将简化人工智能模型的开发和部署，使人工智能技术能够为更广泛的用户所用，包括那些没有广泛技术专长的人员。\n",
    "\n",
    "5. **人工智能驱动的网络安全：** 人工智能将在增强网络安全措施、实时检测和响应威胁以及保护关键基础设施和系统方面发挥至关重要的作用。\n",
    "\n",
    "**潜在行业影响**\n",
    "\n",
    "1. **医疗保健：** 人工智能将通过帮助疾病诊断、药物发现和个性化治疗计划来彻底改变医疗保健。它还将增强患者参与度并简化管理流程。\n",
    "\n",
    "2. **金融：** 人工智能将通过自动化任务、检测欺诈和提供个性化财务建议来改变金融行业。它还将使新的金融产品和服务的发展成为可能。\n",
    "\n",
    "3. **制造业：** 人工智能将推动制造过程的自动化和优化，从而提高效率、降低成本和改善产品质量。它还将实现预测性维护和供应链管理。\n",
    "\n",
    "4. **零售：** 人工智能将通过提供个性化推荐、改进库存管理和优化定价策略来增强零售业的客户体验。它还将促进电子商务和全渠道零售业的发展。\n",
    "\n",
    "5. **运输：** 人工智能将通过为自动驾驶汽车提供动力、优化交通流量和增强公共交通系统来彻底改变交通运输。它还将有助于开发可持续和环保的交通解决方案。\n",
    "\n",
    "**结论**\n",
    "\n",
    "总体而言，2024 年的人工智能进步具有巨大的潜力，可以改变行业、改进决策并改善人类生活。然而，解决伦理和社会问题、确保负责任的发展以及促进研究人员、行业领导者和政策制定者之间的协作以最大限度地发挥效益和减轻潜在风险至关重要。"
   ]
  }
 ],
 "metadata": {
  "kernelspec": {
   "display_name": "venv",
   "language": "python",
   "name": "python3"
  },
  "language_info": {
   "codemirror_mode": {
    "name": "ipython",
    "version": 3
   },
   "file_extension": ".py",
   "mimetype": "text/x-python",
   "name": "python",
   "nbconvert_exporter": "python",
   "pygments_lexer": "ipython3",
   "version": "3.11.8"
  }
 },
 "nbformat": 4,
 "nbformat_minor": 2
}
