{
 "cells": [
  {
   "cell_type": "markdown",
   "metadata": {},
   "source": [
    "CrewAI - Gemini 01\n",
    "https://youtu.be/B8s-FyN4UeE?si=JF6BfX1aOa8tdxl3\n",
    "\n",
    "CrewAI 是一個自治代理框架，使您能夠建立一組代理來完成複雜的任務。 它在功能上與 AutoGen 非常相似。 您還將學習如何將 Google 的免費 G​​emini API 與 CrewAI 結合使用。\n",
    "\n",
    "影片是用 Google Colab 來完成的。所以，同時用本地的 jupyter-lab 跟 Google Colab 同時來操作看看囉"
   ]
  },
  {
   "cell_type": "code",
   "execution_count": null,
   "metadata": {},
   "outputs": [],
   "source": [
    "# 安裝crewai, duckduckgo-search, langchain-google-genai\n",
    "!pip install crewai duckduckgo-search langchain-google-genai"
   ]
  },
  {
   "cell_type": "code",
   "execution_count": 1,
   "metadata": {},
   "outputs": [],
   "source": [
    "import os\n",
    "from crewai import Agent, Task, Crew, Process\n",
    "from langchain_google_genai import ChatGoogleGenerativeAI\n",
    "from langchain_community.llms import OpenAI, Ollama\n",
    "from langchain_openai import ChatOpenAI"
   ]
  },
  {
   "cell_type": "markdown",
   "metadata": {},
   "source": [
    "設定 LLM"
   ]
  },
  {
   "cell_type": "code",
   "execution_count": 2,
   "metadata": {},
   "outputs": [],
   "source": [
    "# 設定4個 LLM\n",
    "# crewai 使用 Ollama 的方法：windows 只需要打開 ubuntu 視窗即可，不需要執行 litellm；Mac 則甚至不需要啟動任何程式，只要有安裝好 Ollama 即可調用。\n",
    "# 與 autogen 不同，autogen 要調用 Ollama 需要執行 litellm，多一道步驟，比較麻煩\n",
    "gpt35 = ChatOpenAI(model_name=\"gpt-3.5-turbo\", temperature=0.7),\n",
    "gpt4 = ChatOpenAI(model_name=\"gpt-4\", temperature=0.7),\n",
    "# Ollama 大模型，可以看要用哪一個\n",
    "ollama = Ollama(model=\"openhermes_assistant\")  # 這是用 modelfile 建立的\n",
    "ollama_openhermes = Ollama(model=\"openhermes\")\n",
    "\n",
    "gemini = ChatGoogleGenerativeAI(model=\"gemini-pro\",\n",
    "                             verbose = True,\n",
    "                             temperature = 0.6,\n",
    "                             google_api_key = os.environ[\"GOOGLE_API_KEY\"]\n",
    "                             )\n"
   ]
  },
  {
   "cell_type": "markdown",
   "metadata": {},
   "source": [
    "設定 tools"
   ]
  },
  {
   "cell_type": "code",
   "execution_count": 3,
   "metadata": {},
   "outputs": [],
   "source": [
    "# 設定工具 tools\n",
    "# Make sure to Install duckduckgo-search for this example:\n",
    "# !pip install -U duckduckgo-search\n",
    "# 最簡易型的工具定義方式\n",
    "from langchain.tools import DuckDuckGoSearchRun\n",
    "search_tool = DuckDuckGoSearchRun()\n",
    "\n",
    "# 從 tools 模組中引入需要的工具\n",
    "from tools.browser_tools import BrowserTools\n",
    "from tools.calculator_tools import CalculatorTools\n",
    "from tools.file_tools import FileTools\n",
    "from tools.search_tools import SearchTools\n",
    "from tools.sec_tools import SECTools\n",
    "# 下面添加 tools 時，必須用 類別.方法 加入工具\n",
    "# BrowserTools.scrape_and_summarize_website\n",
    "# CalculatorTools.calculate\n",
    "# FileTools.write_file\n",
    "# SearchTools.search_internet、SearchTools.search_news\n",
    "# SECTools.search_10q、SECTools.search_10k\n",
    "# 下面的是依樣畫葫蘆自行加入2行定義類別，親測可以匯入\n",
    "from tools.find_papers_arxiv import FindPapersArxiv\n",
    "from tools.get_top_hackernews_stories import GetTopHackernewsStories\n",
    "# 然後就可以用下面的函式來使用工具，已測試可以~~~\n",
    "# FindPapersArxiv.search_arxiv\n",
    "# GetTopHackernewsStories.get_top_hackernews_stories"
   ]
  },
  {
   "cell_type": "markdown",
   "metadata": {},
   "source": [
    "接下來開始定義 Agent，這部分取決於你想要用多少個 Agent，每個 Agent 都有不同的 role(角色)，不同的 goal(目標)及不同的 backgstory(背景故事)，或者不同的 system prompt(系統提示詞)。"
   ]
  },
  {
   "cell_type": "code",
   "execution_count": 4,
   "metadata": {},
   "outputs": [],
   "source": [
    "researcher = Agent(\n",
    "    role = 'Senior Research Analyst',\n",
    "    goal = 'Uncover cutting-edge development in AI and data science',\n",
    "    backstory = \"\"\" You work in a leading tech think tank.\n",
    "    Your expertise lies in identifying emerging trends.\n",
    "    You have a knack for dissecting complex data and presenting actionable insights.\"\"\",\n",
    "    verbose = True,\n",
    "    allow_delegation = False,\n",
    "    tools=[\n",
    "            search_tool, \n",
    "            BrowserTools.scrape_and_summarize_website, \n",
    "            CalculatorTools.calculate, \n",
    "            FileTools.write_file,\n",
    "            SearchTools.search_internet, SearchTools.search_news,\n",
    "            SECTools.search_10q, SECTools.search_10k,\n",
    "            FindPapersArxiv.search_arxiv,\n",
    "            GetTopHackernewsStories.get_top_hackernews_stories\n",
    "        ]\n",
    ")\n",
    "writer = Agent(\n",
    "    role='Tech Content Strategist',\n",
    "    goal='Craft compelling content on tech advancements',\n",
    "    backstory=\"\"\"You are a renowned Content Strategist, known for\n",
    "    your insightful and engaging articles.\n",
    "    You transform complex concepts into compelling narratives.\"\"\",\n",
    "    verbose=True,\n",
    "    allow_delegation=True,\n",
    "    tools=[\n",
    "            search_tool, \n",
    "            BrowserTools.scrape_and_summarize_website, \n",
    "            CalculatorTools.calculate, \n",
    "            FileTools.write_file,\n",
    "            SearchTools.search_internet, SearchTools.search_news,\n",
    "            SECTools.search_10q, SECTools.search_10k,\n",
    "            FindPapersArxiv.search_arxiv,\n",
    "            GetTopHackernewsStories.get_top_hackernews_stories\n",
    "        ]\n",
    ")"
   ]
  },
  {
   "cell_type": "code",
   "execution_count": 5,
   "metadata": {},
   "outputs": [],
   "source": [
    "# 上面可以先不指定用哪一個 llm，這裡再指定就可以\n",
    "researcher.llm = gemini\n",
    "writer.llm = ollama"
   ]
  },
  {
   "cell_type": "markdown",
   "metadata": {},
   "source": [
    "接下來提供這些 Agent 要執行的 task(任務列表) "
   ]
  },
  {
   "cell_type": "code",
   "execution_count": 18,
   "metadata": {},
   "outputs": [],
   "source": [
    "task1 = Task(\n",
    "  description=\"\"\"Conduct a comprehensive analysis of the latest advancements in AI in 2024.\n",
    "  Identify key trends, breakthrough technologies, and potential industry impacts.\n",
    "  Your final answer MUST be a full analysis report\"\"\",\n",
    "  agent=researcher\n",
    ")\n",
    "\n",
    "task2 = Task(\n",
    "  description=\"\"\"Using the insights provided, develop an engaging blog\n",
    "  post that highlights the most significant AI advancements.\n",
    "  Your post should be informative yet accessible, catering to a tech-savvy audience.\n",
    "  Make it sound cool, avoid complex words so it doesn't sound like AI.\n",
    "  Your final answer MUST be the full blog post of at least 5 paragraphs.\n",
    "  \"\"\",\n",
    "  agent=writer\n",
    ")\n",
    "\n",
    "task3 = Task(\n",
    "  description=\"\"\"express the final blog post provided in traditional chinese。 and write it to a file AI_2024.md\"\"\",\n",
    "  agent=writer\n",
    ")"
   ]
  },
  {
   "cell_type": "markdown",
   "metadata": {},
   "source": [
    "使用順序過程實例化您的 Agent 成員(crew)"
   ]
  },
  {
   "cell_type": "code",
   "execution_count": 19,
   "metadata": {},
   "outputs": [
    {
     "name": "stderr",
     "output_type": "stream",
     "text": [
      "Overriding of current TracerProvider is not allowed\n"
     ]
    }
   ],
   "source": [
    "crew = Crew(\n",
    "  agents=[researcher, writer],\n",
    "  tasks=[task1, task2, task3],\n",
    "  verbose=2, # You can set it to 1 or 2 to different logging levels\n",
    ")"
   ]
  },
  {
   "cell_type": "markdown",
   "metadata": {},
   "source": [
    "讓你的 Agent成員(crew) 開始工作！並輸出成果！"
   ]
  },
  {
   "cell_type": "code",
   "execution_count": 20,
   "metadata": {},
   "outputs": [
    {
     "name": "stdout",
     "output_type": "stream",
     "text": [
      "[DEBUG]: Working Agent: Senior Research Analyst\n",
      "[INFO]: Starting Task: Conduct a comprehensive analysis of the latest advancements in AI in 2024.\n",
      "  Identify key trends, breakthrough technologies, and potential industry impacts.\n",
      "  Your final answer MUST be a full analysis report\n",
      "\n",
      "\n",
      "\u001b[1m> Entering new CrewAgentExecutor chain...\u001b[0m\n"
     ]
    },
    {
     "name": "stderr",
     "output_type": "stream",
     "text": [
      "Retrying langchain_google_genai.chat_models._chat_with_retry.<locals>._chat_with_retry in 2.0 seconds as it raised InternalServerError: 500 An internal error has occurred. Please retry or report in https://developers.generativeai.google/guide/troubleshooting.\n"
     ]
    },
    {
     "name": "stdout",
     "output_type": "stream",
     "text": [
      "\u001b[32;1m\u001b[1;3mThought: Do I need to use a tool? Yes\n",
      "Action: Search the internet\n",
      "Action Input: latest advancements in AI in 2024\u001b[0mTool search the internet has been used.\n",
      "\u001b[93m \n",
      "\n",
      "Title: 10 top AI and machine learning trends for 2024 | TechTarget\n",
      "Link: https://www.techtarget.com/searchenterpriseai/tip/9-top-AI-and-machine-learning-trends\n",
      "Snippet: 10 top AI and machine learning trends for 2024 · 1. Multimodal AI · 2. Agentic AI · 3. Open source AI · 4. Retrieval-augmented generation · 5.\n",
      "\n",
      "-----------------\n",
      "Title: What's next for AI in 2024 - MIT Technology Review\n",
      "Link: https://www.technologyreview.com/2024/01/04/1086046/whats-next-for-ai-in-2024/\n",
      "Snippet: In 2024, generative AI might actually become useful for the regular, non-tech person, and we are going to see more people tinkering with a ...\n",
      "\n",
      "-----------------\n",
      "Title: How 2024 Will Be A.I.'s 'Leap Forward' - The New York Times\n",
      "Link: https://www.nytimes.com/2024/01/08/technology/ai-robots-chatbots-2024.html\n",
      "Snippet: A.I. is set to advance at a rapid rate, becoming more powerful and spreading into the physical world.\n",
      "\n",
      "-----------------\n",
      "Title: Artificial Intelligence Trends To Watch In 2024 - Forbes\n",
      "Link: https://www.forbes.com/sites/jamesbroughel/2023/12/29/artificial-intelligence-trends-to-watch-in-2024/\n",
      "Snippet: In spite of these controversies, 2024 will hopefully be the year rationality and nuance retake center stage in AI policy. America and Europe can ...\n",
      "\n",
      "-----------------\n",
      "\u001b[00m\n",
      "\u001b[32;1m\u001b[1;3mDo I need to use a tool? No\n",
      "Final Answer: **Title: AI Advancements in 2024: A Comprehensive Analysis**\n",
      "\n",
      "**Introduction**\n",
      "Artificial Intelligence (AI) has been making significant strides in recent years, and 2024 promises to be no different. In this report, we will explore the latest advancements in AI, identify key trends, breakthrough technologies, and potential industry impacts.\n",
      "\n",
      "**Key Trends in AI 2024**\n",
      "* **Multimodal AI:** This involves integrating different types of data, such as text, images, and speech, to improve AI's understanding and decision-making capabilities.\n",
      "* **Agentic AI:** This refers to AI systems that can take autonomous actions and make decisions without human intervention.\n",
      "* **Open Source AI:** The availability of open-source AI tools and resources is empowering developers and researchers to create innovative AI solutions.\n",
      "* **Retrieval-Augmented Generation:** This technique enables AI systems to generate new content by retrieving and combining relevant information from existing sources.\n",
      "\n",
      "**Breakthrough Technologies in AI 2024**\n",
      "* **Generative AI:** This technology allows AI systems to create new data or content, such as text, images, and music, that is indistinguishable from human-generated content.\n",
      "* **Quantum Computing for AI:** The integration of quantum computing with AI has the potential to significantly enhance AI's performance in various domains.\n",
      "* **Edge AI:** This involves deploying AI models on devices with limited computational resources, enabling real-time decision-making and reducing latency.\n",
      "* **AI-Powered Robotics:** The combination of AI and robotics is leading to the development of intelligent robots capable of performing complex tasks autonomously.\n",
      "\n",
      "**Potential Industry Impacts of AI in 2024**\n",
      "* **Healthcare:** AI is being used to develop new drugs, diagnose diseases, and provide personalized treatment plans.\n",
      "* **Finance:** AI is being used to detect fraud, manage risk, and provide personalized financial advice.\n",
      "* **Manufacturing:** AI is being used to automate processes, optimize supply chains, and improve product quality.\n",
      "* **Retail:** AI is being used to personalize shopping experiences, improve product recommendations, and optimize pricing strategies.\n",
      "\n",
      "**Conclusion**\n",
      "The advancements in AI in 2024 are poised to revolutionize various industries and aspects of our lives. As AI continues to evolve, it is crucial for organizations and individuals to stay informed about the latest developments and adapt accordingly.\u001b[0m\n",
      "\n",
      "\u001b[1m> Finished chain.\u001b[0m\n",
      "[DEBUG]: [Senior Research Analyst] Task output: **Title: AI Advancements in 2024: A Comprehensive Analysis**\n",
      "\n",
      "**Introduction**\n",
      "Artificial Intelligence (AI) has been making significant strides in recent years, and 2024 promises to be no different. In this report, we will explore the latest advancements in AI, identify key trends, breakthrough technologies, and potential industry impacts.\n",
      "\n",
      "**Key Trends in AI 2024**\n",
      "* **Multimodal AI:** This involves integrating different types of data, such as text, images, and speech, to improve AI's understanding and decision-making capabilities.\n",
      "* **Agentic AI:** This refers to AI systems that can take autonomous actions and make decisions without human intervention.\n",
      "* **Open Source AI:** The availability of open-source AI tools and resources is empowering developers and researchers to create innovative AI solutions.\n",
      "* **Retrieval-Augmented Generation:** This technique enables AI systems to generate new content by retrieving and combining relevant information from existing sources.\n",
      "\n",
      "**Breakthrough Technologies in AI 2024**\n",
      "* **Generative AI:** This technology allows AI systems to create new data or content, such as text, images, and music, that is indistinguishable from human-generated content.\n",
      "* **Quantum Computing for AI:** The integration of quantum computing with AI has the potential to significantly enhance AI's performance in various domains.\n",
      "* **Edge AI:** This involves deploying AI models on devices with limited computational resources, enabling real-time decision-making and reducing latency.\n",
      "* **AI-Powered Robotics:** The combination of AI and robotics is leading to the development of intelligent robots capable of performing complex tasks autonomously.\n",
      "\n",
      "**Potential Industry Impacts of AI in 2024**\n",
      "* **Healthcare:** AI is being used to develop new drugs, diagnose diseases, and provide personalized treatment plans.\n",
      "* **Finance:** AI is being used to detect fraud, manage risk, and provide personalized financial advice.\n",
      "* **Manufacturing:** AI is being used to automate processes, optimize supply chains, and improve product quality.\n",
      "* **Retail:** AI is being used to personalize shopping experiences, improve product recommendations, and optimize pricing strategies.\n",
      "\n",
      "**Conclusion**\n",
      "The advancements in AI in 2024 are poised to revolutionize various industries and aspects of our lives. As AI continues to evolve, it is crucial for organizations and individuals to stay informed about the latest developments and adapt accordingly.\n",
      "\n",
      "\n",
      "[DEBUG]: Working Agent: Tech Content Strategist\n",
      "[INFO]: Starting Task: Using the insights provided, develop an engaging blog\n",
      "  post that highlights the most significant AI advancements.\n",
      "  Your post should be informative yet accessible, catering to a tech-savvy audience.\n",
      "  Make it sound cool, avoid complex words so it doesn't sound like AI.\n",
      "  Your final answer MUST be the full blog post of at least 5 paragraphs.\n",
      "  \n",
      "\n",
      "\n",
      "\u001b[1m> Entering new CrewAgentExecutor chain...\u001b[0m\n",
      "\u001b[32;1m\u001b[1;3mThought: Do I need to use a tool? No\n",
      "Final Answer: \n",
      "Title: AI Advancements in 2024: A Comprehensive Analysis\n",
      "\n",
      "Introduction\n",
      "Artificial Intelligence (AI) has been making significant strides in recent years, and 2024 promises to be no different. In this report, we will explore the latest advancements in AI, identify key trends, breakthrough technologies, and potential industry impacts.\n",
      "\n",
      "Key Trends in AI 2024\n",
      "* **Multimodal AI:** This involves integrating different types of data, such as text, images, and speech, to improve AI's understanding and decision-making capabilities.\n",
      "* **Agentic AI:** This refers to AI systems that can take autonomous actions and make decisions without human intervention.\n",
      "* **Open Source AI:** The availability of open-source AI tools and resources is empowering developers and researchers to create innovative AI solutions.\n",
      "* **Retrieval-Augmented Generation:** This technique enables AI systems to generate new content by retrieving and combining relevant information from existing sources.\n",
      "\n",
      "Breakthrough Technologies in AI 2024\n",
      "* **Generative AI:** This technology allows AI systems to create new data or content, such as text, images, and music, that is indistinguishable from human-generated content.\n",
      "* **Quantum Computing for AI:** The integration of quantum computing with AI has the potential to significantly enhance AI's performance in various domains.\n",
      "* **Edge AI:** This involves deploying AI models on devices with limited computational resources, enabling real-time decision-making and reducing latency.\n",
      "* **AI-Powered Robotics:** The combination of AI and robotics is leading to the development of intelligent robots capable of performing complex tasks autonomously.\n",
      "\n",
      "Potential Industry Impacts of AI in 2024\n",
      "* **Healthcare:** AI is being used to develop new drugs, diagnose diseases, and provide personalized treatment plans\u001b[0m\n",
      "\n",
      "\u001b[1m> Finished chain.\u001b[0m\n",
      "[DEBUG]: [Tech Content Strategist] Task output: Title: AI Advancements in 2024: A Comprehensive Analysis\n",
      "\n",
      "Introduction\n",
      "Artificial Intelligence (AI) has been making significant strides in recent years, and 2024 promises to be no different. In this report, we will explore the latest advancements in AI, identify key trends, breakthrough technologies, and potential industry impacts.\n",
      "\n",
      "Key Trends in AI 2024\n",
      "* **Multimodal AI:** This involves integrating different types of data, such as text, images, and speech, to improve AI's understanding and decision-making capabilities.\n",
      "* **Agentic AI:** This refers to AI systems that can take autonomous actions and make decisions without human intervention.\n",
      "* **Open Source AI:** The availability of open-source AI tools and resources is empowering developers and researchers to create innovative AI solutions.\n",
      "* **Retrieval-Augmented Generation:** This technique enables AI systems to generate new content by retrieving and combining relevant information from existing sources.\n",
      "\n",
      "Breakthrough Technologies in AI 2024\n",
      "* **Generative AI:** This technology allows AI systems to create new data or content, such as text, images, and music, that is indistinguishable from human-generated content.\n",
      "* **Quantum Computing for AI:** The integration of quantum computing with AI has the potential to significantly enhance AI's performance in various domains.\n",
      "* **Edge AI:** This involves deploying AI models on devices with limited computational resources, enabling real-time decision-making and reducing latency.\n",
      "* **AI-Powered Robotics:** The combination of AI and robotics is leading to the development of intelligent robots capable of performing complex tasks autonomously.\n",
      "\n",
      "Potential Industry Impacts of AI in 2024\n",
      "* **Healthcare:** AI is being used to develop new drugs, diagnose diseases, and provide personalized treatment plans\n",
      "\n",
      "\n",
      "[DEBUG]: Working Agent: Tech Content Strategist\n",
      "[INFO]: Starting Task: Just reply the final blog post in Traditional Chinese.\n",
      "\n",
      "\n",
      "\u001b[1m> Entering new CrewAgentExecutor chain...\u001b[0m\n",
      "\u001b[32;1m\u001b[1;3m最近几年，人工智能（AI）已经取得了重要的进展，而2024年对此没有例外。本报告将探讨AI的最新进展，揭示关键趋势、突破性技术和可能的产业影响。\n",
      "\n",
      "人工智能2024年的主要趋势\n",
      "* **多模态AI：** 这种方法旨在集成不同类型的数据，如文本、图像和语音，以提高AI的理解和决策能力。\n",
      "* **代理性AI：** 这意味着AI系统可以自主执行操作并做出决策，无需人类干预。\n",
      "* **开源AI：** 开源AI工具和资源的可用性让软件开发人员和研究人员创造出令人惊讶的AI解决方案。\n",
      "* **检索增强生成：** 这种技术允许AI系统通过从现有来源中检索并组合相关信息，生成新内容。\n",
      "\n",
      "2024年人工智能突破性技术\n",
      "* **生成式AI：** 这项技术让AI系统能够创建新数据或内容，如文本、图像和音乐，它们与人类生成的内容无法区分。\n",
      "* **量子计算机用于AI：** 将量子计算机与AI集成有可能在许多领域中显著提高AI性能。\n",
      "* **边缘AI：** 这意味着将AI模型部署到具有受限计算资源的设备上，从而实现实时决策并降低延迟。\n",
      "* **人工智能强化机器人：** 将人工智能与机器人结合，导致智能机器人在自主执行复杂任务方面取得进展。\n",
      "\n",
      "2024年AI可能对产业产生的影响\n",
      "* **医疗保健：** 人工智能用于开发新药物，诊断疾病，并提供个性化治疗方案。\u001b[0mInvalid Format: Missing 'Action:' after 'Thought:\u001b[32;1m\u001b[1;3mParsing LLM output produced both a final answer and a parse-able action:: Do I need to use a tool? Yes\n",
      "Action: Search the internet\n",
      "Action Input: \"AI advancements in 2024\"\n",
      "Final Answer: AI is advancing rapidly, with significant progress expected in 2024. Some of the key trends and breakthrough technologies include multimodal AI, agentic AI, open source AI, retrieval-augmented generation, generative AI, quantum computing for AI, edge AI, and AI-powered robotics. These advancements are poised to have a significant impact on various industries such as healthcare, finance, manufacturing, and retail.\u001b[0mInvalid or incomplete response\u001b[32;1m\u001b[1;3mDo I need to use a tool? No\n",
      "Final Answer: 人工智能正以快速速度发展，2024年期望有很大进步。一些关键趋势和突破性技术包括多模态AI、代理性AI、开源AI、检索增强生成、生成式AI、量子计算法用于AI、边缘AI以及人工智能强化机器人。这些进展在医保健，财产业，加造工作和潖卡领域都期望有大影响。\u001b[0m\n",
      "\n",
      "\u001b[1m> Finished chain.\u001b[0m\n",
      "[DEBUG]: [Tech Content Strategist] Task output: 人工智能正以快速速度发展，2024年期望有很大进步。一些关键趋势和突破性技术包括多模态AI、代理性AI、开源AI、检索增强生成、生成式AI、量子计算法用于AI、边缘AI以及人工智能强化机器人。这些进展在医保健，财产业，加造工作和潖卡领域都期望有大影响。\n",
      "\n",
      "\n",
      "######################\n",
      "人工智能正以快速速度发展，2024年期望有很大进步。一些关键趋势和突破性技术包括多模态AI、代理性AI、开源AI、检索增强生成、生成式AI、量子计算法用于AI、边缘AI以及人工智能强化机器人。这些进展在医保健，财产业，加造工作和潖卡领域都期望有大影响。\n"
     ]
    }
   ],
   "source": [
    "result = crew.kickoff()\n",
    "\n",
    "print(\"######################\")\n",
    "print(result)"
   ]
  }
 ],
 "metadata": {
  "kernelspec": {
   "display_name": "venv",
   "language": "python",
   "name": "python3"
  },
  "language_info": {
   "codemirror_mode": {
    "name": "ipython",
    "version": 3
   },
   "file_extension": ".py",
   "mimetype": "text/x-python",
   "name": "python",
   "nbconvert_exporter": "python",
   "pygments_lexer": "ipython3",
   "version": "3.11.8"
  }
 },
 "nbformat": 4,
 "nbformat_minor": 2
}
