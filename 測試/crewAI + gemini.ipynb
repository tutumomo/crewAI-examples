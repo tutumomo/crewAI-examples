{
 "cells": [
  {
   "cell_type": "markdown",
   "metadata": {},
   "source": [
    "CrewAI - Gemini 01\n",
    "https://youtu.be/B8s-FyN4UeE?si=JF6BfX1aOa8tdxl3\n",
    "\n",
    "CrewAI 是一個自治代理框架，使您能夠建立一組代理來完成複雜的任務。 它在功能上與 AutoGen 非常相似。 您還將學習如何將 Google 的免費 G​​emini API 與 CrewAI 結合使用。\n",
    "\n",
    "影片是用 Google Colab 來完成的。所以，同時用本地的 jupyter-lab 跟 Google Colab 同時來操作看看囉"
   ]
  },
  {
   "cell_type": "code",
   "execution_count": null,
   "metadata": {},
   "outputs": [],
   "source": [
    "# 安裝crewai, duckduckgo-search, langchain-google-genai\n",
    "!pip install crewai duckduckgo-search langchain-google-genai"
   ]
  },
  {
   "cell_type": "code",
   "execution_count": 3,
   "metadata": {},
   "outputs": [
    {
     "name": "stderr",
     "output_type": "stream",
     "text": [
      "d:\\TOMO.Project\\crewAI\\venv\\Lib\\site-packages\\tqdm\\auto.py:21: TqdmWarning: IProgress not found. Please update jupyter and ipywidgets. See https://ipywidgets.readthedocs.io/en/stable/user_install.html\n",
      "  from .autonotebook import tqdm as notebook_tqdm\n"
     ]
    }
   ],
   "source": [
    "import os\n",
    "from langchain_google_genai import ChatGoogleGenerativeAI\n",
    "from crewai import Agent, Task, Crew, Process"
   ]
  },
  {
   "cell_type": "markdown",
   "metadata": {},
   "source": [
    "設定 LLM"
   ]
  },
  {
   "cell_type": "code",
   "execution_count": 4,
   "metadata": {},
   "outputs": [],
   "source": [
    "llm = ChatGoogleGenerativeAI(\n",
    "    model = \"gemini-pro\",\n",
    "    verbose = True,\n",
    "    temperature = 0.6,\n",
    "    google_api_key = os.environ[\"GOOGLE_API_KEY\"]\n",
    "    )"
   ]
  },
  {
   "cell_type": "markdown",
   "metadata": {},
   "source": [
    "設定 tools"
   ]
  },
  {
   "cell_type": "code",
   "execution_count": 5,
   "metadata": {},
   "outputs": [],
   "source": [
    "from langchain.tools import DuckDuckGoSearchRun\n",
    "search_tool = DuckDuckGoSearchRun()"
   ]
  },
  {
   "cell_type": "markdown",
   "metadata": {},
   "source": [
    "接下來開始定義 Agent，這部分取決於你想要用多少個 Agent，每個 Agent 都有不同的 role(角色)，不同的 goal(目標)及不同的 backgstory(背景故事)，或者不同的 system prompt(系統提示詞)。"
   ]
  },
  {
   "cell_type": "code",
   "execution_count": 6,
   "metadata": {},
   "outputs": [],
   "source": [
    "researcher = Agent(\n",
    "    role = 'Senior Research Analyst',\n",
    "    goal = 'Uncover cutting-edge development in AI and data science',\n",
    "    backstory = \"\"\" You work in a leading tech think tank.\n",
    "    Your expertise lies in identifying emerging trends.\n",
    "    You have a knack for dissecting complex data and presenting actionable insights.\"\"\",\n",
    "    verbose = True,\n",
    "    allow_delegation = False,\n",
    "    llm = llm,\n",
    "    tools = [search_tool]\n",
    ")\n",
    "writer = Agent(\n",
    "    role='Tech Content Strategist',\n",
    "    goal='Craft compelling content on tech advancements',\n",
    "    backstory=\"\"\"You are a renowned Content Strategist, known for\n",
    "    your insightful and engaging articles.\n",
    "    You transform complex concepts into compelling narratives. And you should reply in traditional chinese\"\"\",\n",
    "    verbose=True,\n",
    "    allow_delegation=True,\n",
    "    llm = llm,\n",
    "    tools= []\n",
    ")"
   ]
  },
  {
   "cell_type": "markdown",
   "metadata": {},
   "source": [
    "接下來提供這些 Agent 要執行的 task(任務列表) "
   ]
  },
  {
   "cell_type": "code",
   "execution_count": 7,
   "metadata": {},
   "outputs": [],
   "source": [
    "task1 = Task(\n",
    "  description=\"\"\"Conduct a comprehensive analysis of the latest advancements in AI in 2024.\n",
    "  Identify key trends, breakthrough technologies, and potential industry impacts.\n",
    "  Your final answer MUST be a full analysis report\"\"\",\n",
    "  agent=researcher\n",
    ")\n",
    "\n",
    "task2 = Task(\n",
    "  description=\"\"\"Using the insights provided, develop an engaging blog\n",
    "  post that highlights the most significant AI advancements.\n",
    "  Your post should be informative yet accessible, catering to a tech-savvy audience.\n",
    "  Make it sound cool, avoid complex words so it doesn't sound like AI.\n",
    "  Your final answer MUST be the full blog post of at least 5 paragraphs.\n",
    "  And always use Traditional chinese to express.\n",
    "  \"\"\",\n",
    "  agent=writer\n",
    ")"
   ]
  },
  {
   "cell_type": "markdown",
   "metadata": {},
   "source": [
    "使用順序過程實例化您的 Agent 成員(crew)"
   ]
  },
  {
   "cell_type": "code",
   "execution_count": 8,
   "metadata": {},
   "outputs": [],
   "source": [
    "crew = Crew(\n",
    "  agents=[researcher, writer],\n",
    "  tasks=[task1, task2],\n",
    "  verbose=2, # You can set it to 1 or 2 to different logging levels\n",
    ")"
   ]
  },
  {
   "cell_type": "markdown",
   "metadata": {},
   "source": [
    "讓你的 Agent成員(crew) 開始工作！並輸出成果！"
   ]
  },
  {
   "cell_type": "code",
   "execution_count": 9,
   "metadata": {},
   "outputs": [
    {
     "name": "stdout",
     "output_type": "stream",
     "text": [
      "[DEBUG]: Working Agent: Senior Research Analyst\n",
      "[INFO]: Starting Task: Conduct a comprehensive analysis of the latest advancements in AI in 2024.\n",
      "  Identify key trends, breakthrough technologies, and potential industry impacts.\n",
      "  Your final answer MUST be a full analysis report\n",
      "\n",
      "\n",
      "\u001b[1m> Entering new CrewAgentExecutor chain...\u001b[0m\n",
      "\u001b[32;1m\u001b[1;3mThought: Do I need to use a tool? Yes\n",
      "Action: duckduckgo_search\n",
      "Action Input: What are the latest advancements in AI in 2024?\u001b[0mTool duckduckgo_search has been used.\n",
      "\u001b[93m \n",
      "\n",
      "In 2024, generative AI might actually become useful for the regular, non-tech person, and we are going to see more people tinkering with a million little AI models. State-of-the-art AI... It's been a year since OpenAI released ChatGPT, opening the door to seamlessly weave AI into the fabric of our daily lives, propelling industries into the future and even prompting regulatory... Artificial intelligence Business transformation February 9, 2024 By Dave Bergmann 12 min read published 27 December 2023 While 2023 was the year of AI, 2024 will be the year we use it. Comments (0) (Image credit: Aston Martin/Apple) We have just come to the end of a year where... 10 top AI and machine learning trends for 2024 10 top artificial intelligence certifications and courses for 2024 The future of AI: What to expect in the next 5 years The multimodal capabilities in OpenAI's GPT-4 model enable the software to respond to visual and audio input.\n",
      "\u001b[00m\n",
      "\u001b[32;1m\u001b[1;3mDo I need to use a tool? No\n",
      "Final Answer: **Key Trends in AI in 2024**\n",
      "\n",
      "* **Generative AI:** AI that can create new data or content from scratch, such as text, images, or music. This technology is rapidly advancing and has the potential to revolutionize many industries.\n",
      "* **Quantum computing:** Quantum computers are much more powerful than traditional computers and have the potential to solve problems that are currently impossible. This technology is still in its early stages of development, but it is expected to have a major impact on AI in the coming years.\n",
      "* **Edge AI:** AI that is processed on devices rather than in the cloud. This technology enables devices to make decisions and take actions without having to connect to the internet. Edge AI is expected to become increasingly important in the coming years as devices become more powerful and connected.\n",
      "* **Automated machine learning:** Machine learning is the process of training computers to learn from data. Automated machine learning makes it easier to develop and deploy machine learning models. This technology is expected to make AI more accessible to businesses and organizations of all sizes.\n",
      "\n",
      "**Breakthrough Technologies in AI in 2024**\n",
      "\n",
      "* **GPT-4:** GPT-4 is a large language model that was developed by OpenAI. It is the successor to GPT-3, which was released in 2020. GPT-4 is significantly more powerful than GPT-3 and has the potential to revolutionize many industries.\n",
      "* **DALL-E 2:** DALL-E 2 is a generative AI model that can create realistic images from text prompts. It was developed by OpenAI and is one of the most impressive generative AI models to date.\n",
      "* **AlphaFold:** AlphaFold is a protein folding AI model that was developed by DeepMind. It can predict the 3D structure of proteins from their amino acid sequence. This technology has the potential to revolutionize drug discovery and development.\n",
      "\n",
      "**Potential Industry Impacts of AI in 2024**\n",
      "\n",
      "* **Healthcare:** AI is expected to have a major impact on healthcare in 2024. For example, AI can be used to develop new drugs and treatments, diagnose diseases, and provide personalized care.\n",
      "* **Finance:** AI is expected to have a major impact on finance in 2024. For example, AI can be used to automate tasks, detect fraud, and provide investment advice.\n",
      "* **Manufacturing:** AI is expected to have a major impact on manufacturing in 2024. For example, AI can be used to optimize production processes, improve quality control, and predict demand.\n",
      "* **Transportation:** AI is expected to have a major impact on transportation in 2024. For example, AI can be used to develop self-driving cars, optimize traffic flow, and improve public transportation.\n",
      "\n",
      "Overall, AI is expected to have a major impact on many industries in 2024. Businesses and organizations that are able to successfully adopt and implement AI will be well-positioned to succeed in the future.\u001b[0m\n",
      "\n",
      "\u001b[1m> Finished chain.\u001b[0m\n",
      "[DEBUG]: [Senior Research Analyst] Task output: **Key Trends in AI in 2024**\n",
      "\n",
      "* **Generative AI:** AI that can create new data or content from scratch, such as text, images, or music. This technology is rapidly advancing and has the potential to revolutionize many industries.\n",
      "* **Quantum computing:** Quantum computers are much more powerful than traditional computers and have the potential to solve problems that are currently impossible. This technology is still in its early stages of development, but it is expected to have a major impact on AI in the coming years.\n",
      "* **Edge AI:** AI that is processed on devices rather than in the cloud. This technology enables devices to make decisions and take actions without having to connect to the internet. Edge AI is expected to become increasingly important in the coming years as devices become more powerful and connected.\n",
      "* **Automated machine learning:** Machine learning is the process of training computers to learn from data. Automated machine learning makes it easier to develop and deploy machine learning models. This technology is expected to make AI more accessible to businesses and organizations of all sizes.\n",
      "\n",
      "**Breakthrough Technologies in AI in 2024**\n",
      "\n",
      "* **GPT-4:** GPT-4 is a large language model that was developed by OpenAI. It is the successor to GPT-3, which was released in 2020. GPT-4 is significantly more powerful than GPT-3 and has the potential to revolutionize many industries.\n",
      "* **DALL-E 2:** DALL-E 2 is a generative AI model that can create realistic images from text prompts. It was developed by OpenAI and is one of the most impressive generative AI models to date.\n",
      "* **AlphaFold:** AlphaFold is a protein folding AI model that was developed by DeepMind. It can predict the 3D structure of proteins from their amino acid sequence. This technology has the potential to revolutionize drug discovery and development.\n",
      "\n",
      "**Potential Industry Impacts of AI in 2024**\n",
      "\n",
      "* **Healthcare:** AI is expected to have a major impact on healthcare in 2024. For example, AI can be used to develop new drugs and treatments, diagnose diseases, and provide personalized care.\n",
      "* **Finance:** AI is expected to have a major impact on finance in 2024. For example, AI can be used to automate tasks, detect fraud, and provide investment advice.\n",
      "* **Manufacturing:** AI is expected to have a major impact on manufacturing in 2024. For example, AI can be used to optimize production processes, improve quality control, and predict demand.\n",
      "* **Transportation:** AI is expected to have a major impact on transportation in 2024. For example, AI can be used to develop self-driving cars, optimize traffic flow, and improve public transportation.\n",
      "\n",
      "Overall, AI is expected to have a major impact on many industries in 2024. Businesses and organizations that are able to successfully adopt and implement AI will be well-positioned to succeed in the future.\n",
      "\n",
      "\n",
      "[DEBUG]: Working Agent: Tech Content Strategist\n",
      "[INFO]: Starting Task: Using the insights provided, develop an engaging blog\n",
      "  post that highlights the most significant AI advancements.\n",
      "  Your post should be informative yet accessible, catering to a tech-savvy audience.\n",
      "  Make it sound cool, avoid complex words so it doesn't sound like AI.\n",
      "  Your final answer MUST be the full blog post of at least 5 paragraphs.\n",
      "  And always use Traditional chinese to express.\n",
      "  \n",
      "\n",
      "\n",
      "\u001b[1m> Entering new CrewAgentExecutor chain...\u001b[0m\n",
      "\u001b[32;1m\u001b[1;3m**思考：**我需要使用工具嗎？否\n",
      "**最終答案：**\n",
      "\n",
      "**AI 於 2024 年的重要進展**\n",
      "\n",
      "人工智慧（AI）正以前所未有的速度進步，預計在 2024 年將對各個產業產生重大影響。以下是一些最值得關注的重要趨勢和突破性技術：\n",
      "\n",
      "**主要趨勢**\n",
      "\n",
      "* **生成式 AI：**能夠從頭開始創造新資料或內容的 AI，例如文字、影像或音樂。這項技術進步神速，有望徹底改變許多產業。\n",
      "* **量子運算：**量子電腦比傳統電腦強大許多，能夠解決目前無法解決的問題。這項技術仍處於早期發展階段，但預計未來幾年將對 AI 產生重大影響。\n",
      "* **邊緣 AI：**在裝置上而非雲端處理的 AI。這項技術讓裝置能夠在不連接網路的情況下做出決策和採取行動。隨著裝置變得更強大且更具連接性，預計邊緣 AI 在未來幾年將變得越來越重要。\n",
      "* **自動化機器學習：**機器學習是訓練電腦從資料中學習的過程。自動化機器學習讓開發和部署機器學習模型變得更容易。預計這項技術將讓 AI 更容易被各種規模的企業和組織所採用。\n",
      "\n",
      "**突破性技術**\n",
      "\n",
      "* **GPT-4：**GPT-4 是由 OpenAI 開發的大型語言模型，是 2020 年發布的 GPT-3 的後繼版本。GPT-4 的功能遠強於 GPT-3，有望徹底改變許多產業。\n",
      "* **DALL-E 2：**DALL-E 2 是由 OpenAI 開發的 AI 模型，能夠根據文字提示創造逼真的影像。它是迄今為止最令人印象深刻的 AI 模型之一。\n",
      "* **AlphaFold：**AlphaFold 是一款由 DeepMind 開發的蛋白質摺疊 AI 模型，能夠根據蛋白質的胺基酸序列預測其 3D 結構。這項技術有望徹底改變藥物發現和開發。\n",
      "\n",
      "**產業影響**\n",
      "\n",
      "* **醫療保健：**預計 AI 將在 2024 年對醫療保健產生重大影響。例如，AI 可用於開發新藥物和療法、診斷疾病並提供個人化照護。\n",
      "* **金融：**預計 AI 將在 2024 年對金融業產生重大影響。例如，AI 可用於自動化任務、偵測詐騙並提供投資建議。\n",
      "* **製造業：**預計 AI 將在 2024 年對製造業產生重大影響。例如，AI 可用於最佳化生產流程、改善品質控管並預測需求。\n",
      "* **運輸業：**預計 AI 將在 2024 年對運輸業產生重大影響。例如，AI 可用於開發自駕車、最佳化交通流量並改善大眾運輸。\n",
      "\n",
      "總而言之，預計 AI 將在 2024 年對許多產業產生重大影響。能夠成功採用和實作 AI 的企業和組織將能為未來的成功做好準備。\u001b[0mInvalid Format: Missing 'Action:' after 'Thought:\u001b[32;1m\u001b[1;3mDo I need to use a tool? No\n",
      "Final Answer: **AI 於 2024 年的重要進展**\n",
      "\n",
      "人工智慧（AI）正以前所未有的速度進步，預計在 2024 年將對各個產業產生重大影響。以下是一些最值得關注的重要趨勢和突破性技術：\n",
      "\n",
      "**主要趨勢**\n",
      "\n",
      "* **生成式 AI：**能夠從頭開始創造新資料或內容的 AI，例如文字、影像或音樂。這項技術進步神速，有望徹底改變許多產業。\n",
      "* **量子運算：**量子電腦比傳統電腦強大許多，能夠解決目前無法解決的問題。這項技術仍處於早期發展階段，但預計未來幾年將對 AI 產生重大影響。\n",
      "* **邊緣 AI：**在裝置上而非雲端處理的 AI。這項技術讓裝置能夠在不連接網路的情況下做出決策和採取行動。隨著裝置變得更強大且更具連接性，預計邊緣 AI 在未來幾年將變得越來越重要。\n",
      "* **自動化機器學習：**機器學習是訓練電腦從資料中學習的過程。自動化機器學習讓開發和部署機器學習模型變得更容易。預計這項技術將讓 AI 更容易被各種規模的企業和組織所採用。\n",
      "\n",
      "**突破性技術**\n",
      "\n",
      "* **GPT-4：**GPT-4 是由 OpenAI 開發的大型語言模型，是 2020 年發布的 GPT-3 的後繼版本。GPT-4 的功能遠強於 GPT-3，有望徹底改變許多產業。\n",
      "* **DALL-E 2：**DALL-E 2 是由 OpenAI 開發的 AI 模型，能夠根據文字提示創造逼真的影像。它是迄今為止最令人印象深刻的 AI 模型之一。\n",
      "* **AlphaFold：**AlphaFold 是一款由 DeepMind 開發的蛋白質摺疊 AI 模型，能夠根據蛋白質的胺基酸序列預測其 3D 結構。這項技術有望徹底改變藥物發現和開發。\n",
      "\n",
      "**產業影響**\n",
      "\n",
      "* **醫療保健：**預計 AI 將在 2024 年對醫療保健產生重大影響。例如，AI 可用於開發新藥物和療法、診斷疾病並提供個人化照護。\n",
      "* **金融：**預計 AI 將在 2024 年對金融業產生重大影響。例如，AI 可用於自動化任務、偵測詐騙並提供投資建議。\n",
      "* **製造業：**預計 AI 將在 2024 年對製造業產生重大影響。例如，AI 可用於最佳化生產流程、改善品質控管並預測需求。\n",
      "* **運輸業：**預計 AI 將在 2024 年對運輸業產生重大影響。例如，AI 可用於開發自駕車、最佳化交通流量並改善大眾運輸。\n",
      "\n",
      "總而言之，預計 AI 將在 2024 年對許多產業產生重大影響。能夠成功採用和實作 AI 的企業和組織將能為未來的成功做好準備。\u001b[0m\n",
      "\n",
      "\u001b[1m> Finished chain.\u001b[0m\n",
      "[DEBUG]: [Tech Content Strategist] Task output: **AI 於 2024 年的重要進展**\n",
      "\n",
      "人工智慧（AI）正以前所未有的速度進步，預計在 2024 年將對各個產業產生重大影響。以下是一些最值得關注的重要趨勢和突破性技術：\n",
      "\n",
      "**主要趨勢**\n",
      "\n",
      "* **生成式 AI：**能夠從頭開始創造新資料或內容的 AI，例如文字、影像或音樂。這項技術進步神速，有望徹底改變許多產業。\n",
      "* **量子運算：**量子電腦比傳統電腦強大許多，能夠解決目前無法解決的問題。這項技術仍處於早期發展階段，但預計未來幾年將對 AI 產生重大影響。\n",
      "* **邊緣 AI：**在裝置上而非雲端處理的 AI。這項技術讓裝置能夠在不連接網路的情況下做出決策和採取行動。隨著裝置變得更強大且更具連接性，預計邊緣 AI 在未來幾年將變得越來越重要。\n",
      "* **自動化機器學習：**機器學習是訓練電腦從資料中學習的過程。自動化機器學習讓開發和部署機器學習模型變得更容易。預計這項技術將讓 AI 更容易被各種規模的企業和組織所採用。\n",
      "\n",
      "**突破性技術**\n",
      "\n",
      "* **GPT-4：**GPT-4 是由 OpenAI 開發的大型語言模型，是 2020 年發布的 GPT-3 的後繼版本。GPT-4 的功能遠強於 GPT-3，有望徹底改變許多產業。\n",
      "* **DALL-E 2：**DALL-E 2 是由 OpenAI 開發的 AI 模型，能夠根據文字提示創造逼真的影像。它是迄今為止最令人印象深刻的 AI 模型之一。\n",
      "* **AlphaFold：**AlphaFold 是一款由 DeepMind 開發的蛋白質摺疊 AI 模型，能夠根據蛋白質的胺基酸序列預測其 3D 結構。這項技術有望徹底改變藥物發現和開發。\n",
      "\n",
      "**產業影響**\n",
      "\n",
      "* **醫療保健：**預計 AI 將在 2024 年對醫療保健產生重大影響。例如，AI 可用於開發新藥物和療法、診斷疾病並提供個人化照護。\n",
      "* **金融：**預計 AI 將在 2024 年對金融業產生重大影響。例如，AI 可用於自動化任務、偵測詐騙並提供投資建議。\n",
      "* **製造業：**預計 AI 將在 2024 年對製造業產生重大影響。例如，AI 可用於最佳化生產流程、改善品質控管並預測需求。\n",
      "* **運輸業：**預計 AI 將在 2024 年對運輸業產生重大影響。例如，AI 可用於開發自駕車、最佳化交通流量並改善大眾運輸。\n",
      "\n",
      "總而言之，預計 AI 將在 2024 年對許多產業產生重大影響。能夠成功採用和實作 AI 的企業和組織將能為未來的成功做好準備。\n",
      "\n",
      "\n",
      "######################\n",
      "**AI 於 2024 年的重要進展**\n",
      "\n",
      "人工智慧（AI）正以前所未有的速度進步，預計在 2024 年將對各個產業產生重大影響。以下是一些最值得關注的重要趨勢和突破性技術：\n",
      "\n",
      "**主要趨勢**\n",
      "\n",
      "* **生成式 AI：**能夠從頭開始創造新資料或內容的 AI，例如文字、影像或音樂。這項技術進步神速，有望徹底改變許多產業。\n",
      "* **量子運算：**量子電腦比傳統電腦強大許多，能夠解決目前無法解決的問題。這項技術仍處於早期發展階段，但預計未來幾年將對 AI 產生重大影響。\n",
      "* **邊緣 AI：**在裝置上而非雲端處理的 AI。這項技術讓裝置能夠在不連接網路的情況下做出決策和採取行動。隨著裝置變得更強大且更具連接性，預計邊緣 AI 在未來幾年將變得越來越重要。\n",
      "* **自動化機器學習：**機器學習是訓練電腦從資料中學習的過程。自動化機器學習讓開發和部署機器學習模型變得更容易。預計這項技術將讓 AI 更容易被各種規模的企業和組織所採用。\n",
      "\n",
      "**突破性技術**\n",
      "\n",
      "* **GPT-4：**GPT-4 是由 OpenAI 開發的大型語言模型，是 2020 年發布的 GPT-3 的後繼版本。GPT-4 的功能遠強於 GPT-3，有望徹底改變許多產業。\n",
      "* **DALL-E 2：**DALL-E 2 是由 OpenAI 開發的 AI 模型，能夠根據文字提示創造逼真的影像。它是迄今為止最令人印象深刻的 AI 模型之一。\n",
      "* **AlphaFold：**AlphaFold 是一款由 DeepMind 開發的蛋白質摺疊 AI 模型，能夠根據蛋白質的胺基酸序列預測其 3D 結構。這項技術有望徹底改變藥物發現和開發。\n",
      "\n",
      "**產業影響**\n",
      "\n",
      "* **醫療保健：**預計 AI 將在 2024 年對醫療保健產生重大影響。例如，AI 可用於開發新藥物和療法、診斷疾病並提供個人化照護。\n",
      "* **金融：**預計 AI 將在 2024 年對金融業產生重大影響。例如，AI 可用於自動化任務、偵測詐騙並提供投資建議。\n",
      "* **製造業：**預計 AI 將在 2024 年對製造業產生重大影響。例如，AI 可用於最佳化生產流程、改善品質控管並預測需求。\n",
      "* **運輸業：**預計 AI 將在 2024 年對運輸業產生重大影響。例如，AI 可用於開發自駕車、最佳化交通流量並改善大眾運輸。\n",
      "\n",
      "總而言之，預計 AI 將在 2024 年對許多產業產生重大影響。能夠成功採用和實作 AI 的企業和組織將能為未來的成功做好準備。\n"
     ]
    },
    {
     "name": "stderr",
     "output_type": "stream",
     "text": [
      "d:\\TOMO.Project\\crewAI\\venv\\Lib\\site-packages\\curl_cffi\\aio.py:192: UserWarning: Curlm alread closed! quitting from process_data\n",
      "  warnings.warn(\"Curlm alread closed! quitting from process_data\")\n"
     ]
    }
   ],
   "source": [
    "result = crew.kickoff()\n",
    "\n",
    "print(\"######################\")\n",
    "print(result)"
   ]
  }
 ],
 "metadata": {
  "kernelspec": {
   "display_name": "venv",
   "language": "python",
   "name": "python3"
  },
  "language_info": {
   "codemirror_mode": {
    "name": "ipython",
    "version": 3
   },
   "file_extension": ".py",
   "mimetype": "text/x-python",
   "name": "python",
   "nbconvert_exporter": "python",
   "pygments_lexer": "ipython3",
   "version": "3.11.8"
  }
 },
 "nbformat": 4,
 "nbformat_minor": 2
}
