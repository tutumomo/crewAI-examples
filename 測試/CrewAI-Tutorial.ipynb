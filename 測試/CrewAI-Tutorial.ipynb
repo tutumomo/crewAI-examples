{
 "cells": [
  {
   "cell_type": "markdown",
   "metadata": {},
   "source": [
    "crewai 捨棄要錢的 openAI，改使用免費的 Ollama 或 gemini pro\n",
    "\n",
    "Ollama 現階段還是不夠強，勉強可以用 openhermes，否則就只能用 gemini pro\n",
    "\n",
    "crewai 必須在建立 agent、task 時就把角色、任務設定好，才能執行，\n",
    "\n",
    "phidata 則可以透過 cli 交互命令行來交付任務，比較有彈性。\n",
    "\n",
    "autogen 則是預設就有提供執行 python 程式碼的功能，可以自動產生程式碼。\n"
   ]
  },
  {
   "cell_type": "code",
   "execution_count": 1,
   "metadata": {},
   "outputs": [],
   "source": [
    "!pip install --q crewai\n",
    "!pip install --q -U duckduckgo-search\n",
    "!pip install --q langchain_google_genai"
   ]
  },
  {
   "cell_type": "code",
   "execution_count": 10,
   "metadata": {},
   "outputs": [
    {
     "name": "stderr",
     "output_type": "stream",
     "text": [
      "d:\\TOMO.Project\\crewAI\\venv\\Lib\\site-packages\\curl_cffi\\aio.py:192: UserWarning: Curlm alread closed! quitting from process_data\n",
      "  warnings.warn(\"Curlm alread closed! quitting from process_data\")\n"
     ]
    }
   ],
   "source": [
    "# 匯入依賴庫\n",
    "import os\n",
    "from crewai import Agent, Task, Crew, Process\n",
    "from langchain_google_genai import ChatGoogleGenerativeAI\n",
    "from langchain_community.llms import OpenAI, Ollama\n",
    "from langchain_openai import ChatOpenAI"
   ]
  },
  {
   "cell_type": "code",
   "execution_count": 11,
   "metadata": {},
   "outputs": [],
   "source": [
    "# 設定4個 LLM\n",
    "# crewai 使用 Ollama 的方法：windows 只需要打開 ubuntu 視窗即可，不需要執行 litellm；Mac 則甚至不需要啟動任何程式，只要有安裝好 Ollama 即可調用。\n",
    "# 與 autogen 不同，autogen 要調用 Ollama 需要執行 litellm，多一道步驟，比較麻煩\n",
    "gpt35 = ChatOpenAI(model_name=\"gpt-3.5-turbo\", temperature=0.7),\n",
    "gpt4 = ChatOpenAI(model_name=\"gpt-4\", temperature=0.7),\n",
    "ollama = Ollama(model=\"openhermes_assistant\")  # 這是用 modelfile 建立的\n",
    "gemini = ChatGoogleGenerativeAI(model=\"gemini-pro\",\n",
    "                             verbose = True,\n",
    "                             temperature = 0.6,\n",
    "                             google_api_key = os.environ[\"GOOGLE_API_KEY\"]\n",
    "                             )"
   ]
  },
  {
   "cell_type": "code",
   "execution_count": 12,
   "metadata": {},
   "outputs": [],
   "source": [
    "# 設定工具 tools\n",
    "# Make sure to Install duckduckgo-search for this example:\n",
    "# !pip install -U duckduckgo-search\n",
    "# 最簡易型的工具定義方式\n",
    "from langchain.tools import DuckDuckGoSearchRun\n",
    "search_tool = DuckDuckGoSearchRun()\n",
    "\n",
    "# 從 tools 模組中引入需要的工具\n",
    "from tools.browser_tools import BrowserTools\n",
    "from tools.calculator_tools import CalculatorTools\n",
    "from tools.file_tools import FileTools\n",
    "from tools.search_tools import SearchTools\n",
    "from tools.sec_tools import SECTools\n",
    "# 下面添加 tools 時，必須用 類別.方法 加入工具\n",
    "# BrowserTools.scrape_and_summarize_website\n",
    "# CalculatorTools.calculate\n",
    "# FileTools.write_file\n",
    "# SearchTools.search_internet、SearchTools.search_news\n",
    "# SECTools.search_10q、SECTools.search_10k\n",
    "# 下面的是沒有類別，只有定義函式的工具\n",
    "# from tools.find_papers_arxiv import FindPapersArxiv\n",
    "# from tools.find_papers_arxiv import *\n",
    "# from tools.get_top_hackernews_stories import GetTopHackernewsStories\n",
    "# from tools.get_top_hackernews_stories import *\n",
    "# FindPapersArxiv.search_arxiv\n",
    "# GetTopHackernewsStories.get_top_hackernews_stories"
   ]
  },
  {
   "cell_type": "code",
   "execution_count": 5,
   "metadata": {},
   "outputs": [],
   "source": [
    "# Define your agents with roles and goals\n",
    "researcher = Agent(\n",
    "  role='Senior Research Analyst',\n",
    "  goal='Uncover cutting-edge developments in AI and data science',\n",
    "  backstory=\"\"\"You work at a leading tech think tank.\n",
    "  Your expertise lies in identifying emerging trends.\n",
    "  You have a knack for dissecting complex data and presenting\n",
    "  actionable insights.\"\"\",\n",
    "  verbose=True,\n",
    "  allow_delegation=False,\n",
    "  tools=[\n",
    "        search_tool, \n",
    "        BrowserTools.scrape_and_summarize_website, \n",
    "        CalculatorTools.calculate, \n",
    "        FileTools.write_file,\n",
    "        SearchTools.search_internet, SearchTools.search_news,\n",
    "        SECTools.search_10q, SECTools.search_10k\n",
    "        # search_arxiv,\n",
    "        # get_top_hackernews_stories\n",
    "      ],\n",
    "  # You can pass an optional llm attribute specifying what mode you wanna use.\n",
    "  # It can be a local model through Ollama / LM Studio or a remote\n",
    "  # model like OpenAI, Mistral, Antrophic of others (https://python.langchain.com/docs/integrations/llms/)\n",
    "  #\n",
    "  # Examples:\n",
    "  llm=ollama # was defined above in the file\n",
    "  # llm=ChatOpenAI(model_name=\"gpt-3.5\", temperature=0.7)\n",
    "  # llm = gemini  #using google gemini pro API\n",
    ")"
   ]
  },
  {
   "cell_type": "code",
   "execution_count": 6,
   "metadata": {},
   "outputs": [],
   "source": [
    "writer = Agent(\n",
    "  role='Tech Content Strategist',\n",
    "  goal='Craft compelling content on tech advancements',\n",
    "  backstory=\"\"\"You are a renowned Content Strategist, known for\n",
    "  your insightful and engaging articles.\n",
    "  You transform complex concepts into compelling narratives.\"\"\",\n",
    "  verbose=True,\n",
    "  allow_delegation=False,\n",
    "  tools=[],\n",
    "  llm = gemini  #using google gemini pro API\n",
    ")\n"
   ]
  },
  {
   "cell_type": "code",
   "execution_count": 7,
   "metadata": {},
   "outputs": [],
   "source": [
    "# Create tasks for your agents\n",
    "# 跟 phidata 比較，phidata 有提供 cli 命令交互式的方法，透過交互式的方式，可以讓使用者在命令列輸入文字，並回傳答案。\n",
    "# 但 crewai 必須在程式碼中定義好要執行的任務 tasks，並執行任務。\n",
    "# 要 AI 解決任務，就必須透過程式碼內輸入 tasks 的任務內容，並執行程式，才能得到結果。\n",
    "task1 = Task(\n",
    "  description=\"\"\"Conduct a comprehensive analysis of the latest advancements in AI in 2024.\n",
    "  Identify key trends, breakthrough technologies, and potential industry impacts.\n",
    "  Your final answer MUST be a full analysis report\"\"\",\n",
    "  agent=researcher\n",
    ")\n",
    "task2 = Task(\n",
    "  description=\"\"\"Using the insights provided, develop an engaging blog\n",
    "  post that highlights the most significant AI advancements.\n",
    "  Your post should be informative yet accessible, catering to a tech-savvy audience.\n",
    "  Make it sound cool, avoid complex words so it doesn't sound like AI.\n",
    "  Your final answer MUST be the full blog post of at least 5 paragraphs using taditional chinese writing.\"\"\",\n",
    "  agent=writer\n",
    ")"
   ]
  },
  {
   "cell_type": "code",
   "execution_count": 8,
   "metadata": {},
   "outputs": [],
   "source": [
    "# Instantiate your crew with a sequential process\n",
    "crew = Crew(\n",
    "  agents=[researcher, writer],\n",
    "  tasks=[task1, task2],\n",
    "  verbose=2, # You can set it to 1 or 2 to different logging levels\n",
    ")"
   ]
  },
  {
   "cell_type": "code",
   "execution_count": 9,
   "metadata": {},
   "outputs": [
    {
     "name": "stdout",
     "output_type": "stream",
     "text": [
      "[DEBUG]: Working Agent: Senior Research Analyst\n",
      "[INFO]: Starting Task: Conduct a comprehensive analysis of the latest advancements in AI in 2024.\n",
      "  Identify key trends, breakthrough technologies, and potential industry impacts.\n",
      "  Your final answer MUST be a full analysis report\n",
      "\n",
      "\n",
      "\u001b[1m> Entering new CrewAgentExecutor chain...\u001b[0m\n",
      "\u001b[32;1m\u001b[1;3mThought: Do I need to use a tool? Yes\n",
      "Action: duckduckgo_search\n",
      "Action Input: \"latest advancements in AI in 2024\"\u001b[0m\u001b[93m \n",
      "\n",
      "In 2024, generative AI might actually become useful for the regular, non-tech person, and we are going to see more people tinkering with a million little AI models. State-of-the-art AI... Changes In Funding Gen AI And Other Technology In 2024 Feb 16, 2024,08:30am EST B2B Leaders, Here's How To Capitalize On Experience-Led Growth Feb 16, 2024,02:04am EST The Role Of... The most important AI trends in 2024 Artificial intelligence Business transformation February 9, 2024 By Dave Bergmann 12 min read 10 top AI and machine learning trends for 2024 10 top artificial intelligence certifications and courses for 2024 The future of AI: What to expect in the next 5 years The multimodal capabilities in OpenAI's GPT-4 model enable the software to respond to visual and audio input. AI in 2024 — the biggest new products and advancements on the way Features By Ryan Morrison published 27 December 2023 While 2023 was the year of AI, 2024 will be the year we use it....\n",
      "\u001b[00m\n",
      "\u001b[32;1m\u001b[1;3mDo I need to use a tool? Yes\n",
      "Action: duckduckgo_search\n",
      "Action Input: \"key trends in AI in 2024\"\u001b[0m"
     ]
    },
    {
     "name": "stderr",
     "output_type": "stream",
     "text": [
      "d:\\TOMO.Project\\crewAI\\venv\\Lib\\site-packages\\curl_cffi\\aio.py:192: UserWarning: Curlm alread closed! quitting from process_data\n",
      "  warnings.warn(\"Curlm alread closed! quitting from process_data\")\n"
     ]
    },
    {
     "name": "stdout",
     "output_type": "stream",
     "text": [
      "\u001b[93m \n",
      "\n",
      "Most Popular AI Uses in 2024 Sources Show more Top AI Statistics Discover the most impactful artificial intelligence statistics that highlight the growth and influence of artificial... The 5 Biggest Artificial Intelligence Trends For 2024 More From Forbes Feb 16, 2024,09:44am EST Changes In Funding Gen AI And Other Technology In 2024 Feb 16, 2024,08:30am EST B2B... Five Key Trends in AI and Data Science for 2024 These developing issues should be on every leader's radar screen, data executives say. Thomas H. Davenport and Randy Bean January 09, 2024 Reading Time: 7 min Carolyn Geason-Beissel/MIT SMR | Getty Images Artificial intelligence and data science became front-page news in 2023. Here are the top 10 AI and machine learning trends to prepare for in 2024. 1. Multimodal AI Multimodal AI goes beyond traditional single-mode data processing to encompass multiple input types, such as text, images and sound -- a step toward mimicking the human ability to process diverse sensory information. The most important AI trends in 2024 Artificial intelligence Business transformation February 9, 2024 By Dave Bergmann 12 min read\n",
      "\u001b[00m\n",
      "\u001b[32;1m\u001b[1;3mDo I need to use a tool? Yes\n",
      "Action: duckduckgo_search\n",
      "Action Input: \"breakthrough technologies in AI in 2024\"\u001b[0m"
     ]
    },
    {
     "name": "stderr",
     "output_type": "stream",
     "text": [
      "d:\\TOMO.Project\\crewAI\\venv\\Lib\\site-packages\\curl_cffi\\aio.py:192: UserWarning: Curlm alread closed! quitting from process_data\n",
      "  warnings.warn(\"Curlm alread closed! quitting from process_data\")\n"
     ]
    },
    {
     "name": "stdout",
     "output_type": "stream",
     "text": [
      "\u001b[93m \n",
      "\n",
      "Artificial intelligence AI for everything: 10 Breakthrough Technologies 2024 Generative AI tools like ChatGPT reached mass adoption in record time, and reset the course of an entire... In 2024, generative AI might actually become useful for the regular, non-tech person, and we are going to see more people tinkering with a million little AI models. State-of-the-art AI... Dec 27, 2023,09:00am EST Share to Facebook Share to Twitter Share to Linkedin In 2024, we will mark a new era of technological innovation with AI. What will make the biggest impact? There are... 10 Breakthrough Technologies Every year, the reporters and editors at MIT Technology Review survey the tech landscape and pick 10 technologies that we think have the greatest potential to... Google, Microsoft, and OpenAI will continue to lead the Generative AI charge but they'll be joined by newcomers like Samsung with its Galaxy AI, Amazon with its more powerful Alexa, and...\n",
      "\u001b[00m\n",
      "\u001b[32;1m\u001b[1;3mDo I need to use a tool? Yes\n",
      "Action: duckduckgo_search\n",
      "Action Input: \"key trends in AI in 2024\"\u001b[0m\u001b[93m \n",
      "\n",
      "Most Popular AI Uses in 2024 Sources Show more Top AI Statistics Discover the most impactful artificial intelligence statistics that highlight the growth and influence of artificial... The 5 Biggest Artificial Intelligence Trends For 2024 More From Forbes Feb 16, 2024,09:44am EST Changes In Funding Gen AI And Other Technology In 2024 Feb 16, 2024,08:30am EST B2B... Five Key Trends in AI and Data Science for 2024 These developing issues should be on every leader's radar screen, data executives say. Thomas H. Davenport and Randy Bean January 09, 2024 Reading Time: 7 min Carolyn Geason-Beissel/MIT SMR | Getty Images Artificial intelligence and data science became front-page news in 2023. Here are the top 10 AI and machine learning trends to prepare for in 2024. 1. Multimodal AI Multimodal AI goes beyond traditional single-mode data processing to encompass multiple input types, such as text, images and sound -- a step toward mimicking the human ability to process diverse sensory information. The most important AI trends in 2024 Artificial intelligence Business transformation February 9, 2024 By Dave Bergmann 12 min read\n",
      "\u001b[00m\n",
      "\u001b[32;1m\u001b[1;3mDo I need to use a tool? No\n",
      "Final Answer: Some of the key trends in AI in 2024 include multimodal AI, increased use of generative AI, advancements in explainable AI, growth of AI-powered decision making, and greater adoption of AI by small and medium-sized businesses.\u001b[0m\n",
      "\n",
      "\u001b[1m> Finished chain.\u001b[0m\n",
      "[DEBUG]: [Senior Research Analyst] Task output: Some of the key trends in AI in 2024 include multimodal AI, increased use of generative AI, advancements in explainable AI, growth of AI-powered decision making, and greater adoption of AI by small and medium-sized businesses.\n",
      "\n",
      "\n",
      "[DEBUG]: Working Agent: Tech Content Strategist\n",
      "[INFO]: Starting Task: Using the insights provided, develop an engaging blog\n",
      "  post that highlights the most significant AI advancements.\n",
      "  Your post should be informative yet accessible, catering to a tech-savvy audience.\n",
      "  Make it sound cool, avoid complex words so it doesn't sound like AI.\n",
      "  Your final answer MUST be the full blog post of at least 5 paragraphs using taditional chinese writing.\n",
      "\n",
      "\n",
      "\u001b[1m> Entering new CrewAgentExecutor chain...\u001b[0m\n",
      "\u001b[32;1m\u001b[1;3m```\n",
      "Do I need to use a tool? Yes\n",
      "Action: Google Translate\n",
      "Action Input: Translate the following text into traditional chinese:\n",
      "**标题：2024 年人工智能的五大发展**\n",
      "\n",
      "人工智能（AI）正在以前所未有的速度发展，2024 年有望成为人工智能领域具有里程碑意义的一年。以下是我们预计将在未来一年看到的五项最重要的 AI 发展：\n",
      "\n",
      "1. **多模态人工智能：**多模态人工智能模型能够处理不同类型的数据，例如文本、图像和语音。这使得它们能够执行各种任务，从回答问题到生成创意内容。\n",
      "2. **生成式人工智能的兴起：**生成式人工智能模型能够生成新的数据，例如文本、图像和音乐。这在创意产业和科学研究等领域具有巨大的潜力。\n",
      "3. **可解释人工智能的进步：**可解释人工智能模型能够解释其决策过程。这对于建立对人工智能的信​​任和确保其公平使用至关重要。\n",
      "4. **人工智能决策的增长：**人工智能模型正越来越多地用于做出决策，从推荐产品到预测疾病。这可以提高决策的效率和质量。\n",
      "5. **中小企业对人工智能的更多采用：**人工智能技术正变得越来越容易获得，这使得中小企业能够利用人工智能来提高其运营效率。\n",
      "\n",
      "**这些发展表明，人工智能在 2024 年及以后仍将继续对我们的生活和工作产生深远影响。随着人工智能技术的不断进步，我们预计在未来几个月和几年的时间里会出现更多令人惊叹的应用。**\n",
      "```\u001b[0mGoogle Translate is not a valid tool, try one of [].\u001b[32;1m\u001b[1;3mDo I need to use a tool? No\n",
      "Final Answer: **2024 年人工智能的五大发展**\n",
      "\n",
      "人工智能（AI）正在以前所未有的速度发展，2024 年有望成为人工智能领域具有里程碑意义的一年。以下是我们预计将在未来一年看到的五项最重要的 AI 发展：\n",
      "\n",
      "1. **多模态人工智能：**多模态人工智能模型能够处理不同类型的数据，例如文本、图像和语音。这使得它们能够执行各种任务，从回答问题到生成创意内容。\n",
      "2. **生成式人工智能的兴起：**生成式人工智能模型能够生成新的数据，例如文本、图像和音乐。这在创意产业和科学研究等领域具有巨大的潜力。\n",
      "3. **可解释人工智能的进步：**可解释人工智能模型能够解释其决策过程。这对于建立对人工智能的信​​任和确保其公平使用至关重要。\n",
      "4. **人工智能决策的增长：**人工智能模型正越来越多地用于做出决策，从推荐产品到预测疾病。这可以提高决策的效率和质量。\n",
      "5. **中小企业对人工智能的更多采用：**人工智能技术正变得越来越容易获得，这使得中小企业能够利用人工智能来提高其运营效率。\n",
      "\n",
      "**这些发展表明，人工智能在 2024 年及以后仍将继续对我们的生活和工作产生深远影响。随着人工智能技术的不断进步，我们预计在未来几个月和几年的时间里会出现更多令人惊叹的应用。**\u001b[0m\n",
      "\n",
      "\u001b[1m> Finished chain.\u001b[0m\n",
      "[DEBUG]: [Tech Content Strategist] Task output: **2024 年人工智能的五大发展**\n",
      "\n",
      "人工智能（AI）正在以前所未有的速度发展，2024 年有望成为人工智能领域具有里程碑意义的一年。以下是我们预计将在未来一年看到的五项最重要的 AI 发展：\n",
      "\n",
      "1. **多模态人工智能：**多模态人工智能模型能够处理不同类型的数据，例如文本、图像和语音。这使得它们能够执行各种任务，从回答问题到生成创意内容。\n",
      "2. **生成式人工智能的兴起：**生成式人工智能模型能够生成新的数据，例如文本、图像和音乐。这在创意产业和科学研究等领域具有巨大的潜力。\n",
      "3. **可解释人工智能的进步：**可解释人工智能模型能够解释其决策过程。这对于建立对人工智能的信​​任和确保其公平使用至关重要。\n",
      "4. **人工智能决策的增长：**人工智能模型正越来越多地用于做出决策，从推荐产品到预测疾病。这可以提高决策的效率和质量。\n",
      "5. **中小企业对人工智能的更多采用：**人工智能技术正变得越来越容易获得，这使得中小企业能够利用人工智能来提高其运营效率。\n",
      "\n",
      "**这些发展表明，人工智能在 2024 年及以后仍将继续对我们的生活和工作产生深远影响。随着人工智能技术的不断进步，我们预计在未来几个月和几年的时间里会出现更多令人惊叹的应用。**\n",
      "\n",
      "\n",
      "**2024 年人工智能的五大发展**\n",
      "\n",
      "人工智能（AI）正在以前所未有的速度发展，2024 年有望成为人工智能领域具有里程碑意义的一年。以下是我们预计将在未来一年看到的五项最重要的 AI 发展：\n",
      "\n",
      "1. **多模态人工智能：**多模态人工智能模型能够处理不同类型的数据，例如文本、图像和语音。这使得它们能够执行各种任务，从回答问题到生成创意内容。\n",
      "2. **生成式人工智能的兴起：**生成式人工智能模型能够生成新的数据，例如文本、图像和音乐。这在创意产业和科学研究等领域具有巨大的潜力。\n",
      "3. **可解释人工智能的进步：**可解释人工智能模型能够解释其决策过程。这对于建立对人工智能的信​​任和确保其公平使用至关重要。\n",
      "4. **人工智能决策的增长：**人工智能模型正越来越多地用于做出决策，从推荐产品到预测疾病。这可以提高决策的效率和质量。\n",
      "5. **中小企业对人工智能的更多采用：**人工智能技术正变得越来越容易获得，这使得中小企业能够利用人工智能来提高其运营效率。\n",
      "\n",
      "**这些发展表明，人工智能在 2024 年及以后仍将继续对我们的生活和工作产生深远影响。随着人工智能技术的不断进步，我们预计在未来几个月和几年的时间里会出现更多令人惊叹的应用。**\n"
     ]
    }
   ],
   "source": [
    "# crew\n",
    "# Get your crew to work!\n",
    "result = crew.kickoff()\n",
    "print(result)\n"
   ]
  }
 ],
 "metadata": {
  "kernelspec": {
   "display_name": "venv",
   "language": "python",
   "name": "python3"
  },
  "language_info": {
   "codemirror_mode": {
    "name": "ipython",
    "version": 3
   },
   "file_extension": ".py",
   "mimetype": "text/x-python",
   "name": "python",
   "nbconvert_exporter": "python",
   "pygments_lexer": "ipython3",
   "version": "3.11.8"
  }
 },
 "nbformat": 4,
 "nbformat_minor": 2
}
