{
 "cells": [
  {
   "cell_type": "code",
   "execution_count": 2,
   "metadata": {},
   "outputs": [
    {
     "name": "stderr",
     "output_type": "stream",
     "text": [
      "d:\\TOMO.Project\\crewAI\\venv\\Lib\\site-packages\\tqdm\\auto.py:21: TqdmWarning: IProgress not found. Please update jupyter and ipywidgets. See https://ipywidgets.readthedocs.io/en/stable/user_install.html\n",
      "  from .autonotebook import tqdm as notebook_tqdm\n"
     ]
    }
   ],
   "source": [
    "import os\n",
    "from crewai import Agent, Task, Crew, Process\n",
    "from langchain_google_genai import ChatGoogleGenerativeAI\n",
    "from langchain_community.llms import OpenAI, Ollama\n",
    "from langchain_openai import ChatOpenAI"
   ]
  },
  {
   "cell_type": "markdown",
   "metadata": {},
   "source": [
    "You can choose to use a local model through Ollama for example.\n",
    "\n",
    "from langchain.llms import Ollama\n",
    "\n",
    "ollama_llm = Ollama(model=\"openhermes\") # 或是 mistral, codellama2, llama2\n",
    "\n",
    "- 以下是 家裡桌機有下載的大模型, 20240210 推薦使用 mistral\n",
    "- nexusraven 說明文件有強調它函數調用功能強化, 但目前我沒有測試過\n",
    "- llava 是支援多模態的大模型, 但目前我沒有測試過\n",
    "---\n",
    "- codellama:latest                8fdf8f752f6e    3.8 GB  7 weeks ago\n",
    "- llama2:latest                   78e26419b446    3.8 GB  2 weeks ago\n",
    "- llama2-uncensored:latest        44040b922233    3.8 GB  10 days ago\n",
    "- llava:latest                    cd3274b81a85    4.5 GB  11 days ago\n",
    "- mistral:latest                  1ab49bc0b6a8    4.1 GB  7 weeks ago\n",
    "- neural-chat:latest              f4c6a8e532e8    4.1 GB  7 weeks ago\n",
    "- nexusraven:latest               483a8282af74    7.4 GB  2 weeks ago\n",
    "- qwen:latest                     d53d04290064    2.3 GB  3 days ago\n",
    "- starling-lm:latest              ff4752739ae4    4.1 GB  7 weeks ago"
   ]
  },
  {
   "cell_type": "code",
   "execution_count": 3,
   "metadata": {},
   "outputs": [],
   "source": [
    "# crewai 使用 Ollama 的方法：windows 只需要打開 ubuntu 視窗即可，不需要執行 litellm；Mac 則甚至不需要啟動任何程式，只要有安裝好 Ollama 即可調用。\n",
    "# 與 autogen 不同，autogen 要調用 Ollama 需要執行 litellm，多一道步驟，比較麻煩\n",
    "gpt35 = ChatOpenAI(model_name=\"gpt-3.5-turbo\", temperature=0.7),\n",
    "gpt4 = ChatOpenAI(model_name=\"gpt-4\", temperature=0.7),\n",
    "ollama = Ollama(model=\"mistral\") \n",
    "gemini = ChatGoogleGenerativeAI(model = \"gemini-pro\", verbose = True, temperature = 0.6, google_api_key = os.environ[\"GOOGLE_API_KEY\"]),"
   ]
  },
  {
   "cell_type": "code",
   "execution_count": 4,
   "metadata": {},
   "outputs": [
    {
     "name": "stdout",
     "output_type": "stream",
     "text": [
      "Requirement already satisfied: duckduckgo-search in d:\\tomo.project\\crewai\\venv\\lib\\site-packages (4.4.3)\n",
      "Requirement already satisfied: click>=8.1.7 in d:\\tomo.project\\crewai\\venv\\lib\\site-packages (from duckduckgo-search) (8.1.7)\n",
      "Requirement already satisfied: curl-cffi>=0.6.0b9 in d:\\tomo.project\\crewai\\venv\\lib\\site-packages (from duckduckgo-search) (0.6.0b9)\n",
      "Requirement already satisfied: lxml>=5.1.0 in d:\\tomo.project\\crewai\\venv\\lib\\site-packages (from duckduckgo-search) (5.1.0)\n",
      "Requirement already satisfied: nest-asyncio>=1.6.0 in d:\\tomo.project\\crewai\\venv\\lib\\site-packages (from duckduckgo-search) (1.6.0)\n",
      "Requirement already satisfied: colorama in d:\\tomo.project\\crewai\\venv\\lib\\site-packages (from click>=8.1.7->duckduckgo-search) (0.4.6)\n",
      "Requirement already satisfied: cffi>=1.12.0 in d:\\tomo.project\\crewai\\venv\\lib\\site-packages (from curl-cffi>=0.6.0b9->duckduckgo-search) (1.16.0)\n",
      "Requirement already satisfied: certifi in d:\\tomo.project\\crewai\\venv\\lib\\site-packages (from curl-cffi>=0.6.0b9->duckduckgo-search) (2024.2.2)\n",
      "Requirement already satisfied: pycparser in d:\\tomo.project\\crewai\\venv\\lib\\site-packages (from cffi>=1.12.0->curl-cffi>=0.6.0b9->duckduckgo-search) (2.21)\n",
      "Note: you may need to restart the kernel to use updated packages.\n"
     ]
    }
   ],
   "source": [
    "# 簡易型的 tools 建立。就是從類別建立一個物件就可以使用。\n",
    "%pip install -U duckduckgo-search\n",
    "from langchain.tools import DuckDuckGoSearchRun\n",
    "search_tool = DuckDuckGoSearchRun()"
   ]
  },
  {
   "cell_type": "code",
   "execution_count": 5,
   "metadata": {},
   "outputs": [],
   "source": [
    "# 建立 agents、tasks\n",
    "researcher = Agent(\n",
    "  role='Senior Research Analyst',\n",
    "  goal='Uncover cutting-edge developments in AI and data science',\n",
    "  backstory=\"\"\"You work at a leading tech think tank.\n",
    "  Your expertise lies in identifying emerging trends.\n",
    "  You have a knack for dissecting complex data and presenting\n",
    "  actionable insights.\"\"\",\n",
    "  verbose=True,\n",
    "  allow_delegation=False,\n",
    "  llm = ollama,\n",
    "  tools=[search_tool]\n",
    "   # You can pass an optional llm attribute specifying what mode you wanna use.\n",
    "  # It can be a local model through Ollama / LM Studio or a remote\n",
    "  # model like OpenAI, Mistral, Antrophic of others (https://python.langchain.com/docs/integrations/llms/)\n",
    "  #\n",
    "  # Examples:\n",
    "  # llm=ollama_llm # was defined above in the file\n",
    "  # llm=ChatOpenAI(model_name=\"gpt-3.5\", temperature=0.7)\n",
    ")\n",
    "writer = Agent(\n",
    "  role='Tech Content Strategist',\n",
    "  goal='Craft compelling content on tech advancements',\n",
    "  backstory=\"\"\"You are a renowned Content Strategist, known for\n",
    "  your insightful and engaging articles.\n",
    "  You transform complex concepts into compelling narratives. 你專長以繁體中文寫作文章\"\"\",\n",
    "  verbose=True,\n",
    "  allow_delegation=True,\n",
    "  llm = ollama\n",
    "  # (optional) llm=ollama_llm\n",
    ")\n",
    "\n",
    "# Create tasks for your agents\n",
    "task1 = Task(\n",
    "  description=\"\"\"Conduct a comprehensive analysis of the latest advancements in AI in 2024.\n",
    "  Identify key trends, breakthrough technologies, and potential industry impacts.\n",
    "  Your final answer MUST be a full analysis report\"\"\",\n",
    "  agent=researcher\n",
    ")\n",
    "\n",
    "task2 = Task(\n",
    "  description=\"\"\"Using the insights provided, develop an engaging blog\n",
    "  post that highlights the most significant AI advancements.\n",
    "  Your post should be informative yet accessible, catering to a tech-savvy audience.\n",
    "  Make it sound cool, avoid complex words so it doesn't sound like AI.\n",
    "  Your final answer MUST be the full blog post of at least 4 paragraphs.\n",
    "  And always use Traditional chinese to express.\n",
    "  \"\"\",\n",
    "  agent=writer\n",
    ")\n"
   ]
  },
  {
   "cell_type": "code",
   "execution_count": 6,
   "metadata": {},
   "outputs": [],
   "source": [
    "# Instantiate your crew with a sequential process 使用順序過程實例化您的船員\n",
    "crew = Crew(\n",
    "  agents=[researcher, writer],\n",
    "  tasks=[task1, task2],\n",
    "  verbose=2, # You can set it to 1 or 2 to different logging levels\n",
    ")"
   ]
  },
  {
   "cell_type": "code",
   "execution_count": 7,
   "metadata": {},
   "outputs": [
    {
     "name": "stdout",
     "output_type": "stream",
     "text": [
      "[DEBUG]: Working Agent: Senior Research Analyst\n",
      "[INFO]: Starting Task: Conduct a comprehensive analysis of the latest advancements in AI in 2024.\n",
      "  Identify key trends, breakthrough technologies, and potential industry impacts.\n",
      "  Your final answer MUST be a full analysis report\n",
      "\n",
      "\n",
      "\u001b[1m> Entering new CrewAgentExecutor chain...\u001b[0m\n"
     ]
    }
   ],
   "source": [
    "# Get your crew to work! kickoff(開球)開始工作~\n",
    "result = crew.kickoff()\n",
    "\n",
    "print(\"######################\")\n",
    "print(result)"
   ]
  }
 ],
 "metadata": {
  "kernelspec": {
   "display_name": "venv",
   "language": "python",
   "name": "python3"
  },
  "language_info": {
   "codemirror_mode": {
    "name": "ipython",
    "version": 3
   },
   "file_extension": ".py",
   "mimetype": "text/x-python",
   "name": "python",
   "nbconvert_exporter": "python",
   "pygments_lexer": "ipython3",
   "version": "3.11.8"
  }
 },
 "nbformat": 4,
 "nbformat_minor": 2
}
