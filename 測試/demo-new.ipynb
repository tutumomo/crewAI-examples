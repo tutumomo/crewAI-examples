{
 "cells": [
  {
   "cell_type": "markdown",
   "metadata": {},
   "source": [
    "為什麼這個老是報錯? 即便從別的可以正常執行的複製過來還是報錯?\n",
    "\n",
    "結果是因為 \n",
    "\n",
    "gemini = ChatGoogleGenerativeAI(model = \"gemini-pro\", verbose = True, temperature = 0.6, google_api_key = os.environ[\"GOOGLE_API_KEY\"]),\n",
    "\n",
    "# 最後面多了一個\",\"造成的，切記！！！！！！！"
   ]
  },
  {
   "cell_type": "code",
   "execution_count": 2,
   "metadata": {},
   "outputs": [],
   "source": [
    "import os\n",
    "from crewai import Agent, Task, Crew, Process"
   ]
  },
  {
   "cell_type": "code",
   "execution_count": 3,
   "metadata": {},
   "outputs": [],
   "source": [
    "import textwrap\n",
    "from IPython.display import HTML, display, Markdown\n",
    "\n",
    "def to_markdown(text):\n",
    "  text = text.replace('•', '  *')\n",
    "  return Markdown(textwrap.indent(text, '> ', predicate=lambda _: True))"
   ]
  },
  {
   "cell_type": "code",
   "execution_count": 5,
   "metadata": {},
   "outputs": [
    {
     "name": "stderr",
     "output_type": "stream",
     "text": [
      "d:\\TOMO.Project\\crewAI\\venv\\Lib\\site-packages\\tqdm\\auto.py:21: TqdmWarning: IProgress not found. Please update jupyter and ipywidgets. See https://ipywidgets.readthedocs.io/en/stable/user_install.html\n",
      "  from .autonotebook import tqdm as notebook_tqdm\n"
     ]
    }
   ],
   "source": [
    "# 設定4個 LLM\n",
    "from langchain_google_genai import ChatGoogleGenerativeAI\n",
    "from langchain_community.llms import OpenAI, Ollama\n",
    "from langchain_openai import ChatOpenAI\n",
    "# crewai 使用 Ollama 的方法：windows 只需要打開 ubuntu 視窗即可，不需要執行 litellm；Mac 則甚至不需要啟動任何程式，只要有安裝好 Ollama 即可調用。\n",
    "# 與 autogen 不同，autogen 要調用 Ollama 需要執行 litellm，多一道步驟，比較麻煩\n",
    "gpt35 = ChatOpenAI(model_name=\"gpt-3.5-turbo\", temperature=0.7),\n",
    "gpt4 = ChatOpenAI(model_name=\"gpt-4\", temperature=0.7),\n",
    "# Ollama 大模型，可以看要用哪一個\n",
    "# ollama = Ollama(model=\"openhermes_assistant\")  # 這是用 modelfile 建立的\n",
    "# ollama 2024/03/12 最強大模型 nous-hermes2\n",
    "ollama = Ollama(model=\"nous-hermes2\")\n",
    "\n",
    "gemini = ChatGoogleGenerativeAI(model=\"gemini-pro\",\n",
    "                             verbose = True,\n",
    "                             temperature = 0.6,\n",
    "                             google_api_key = os.environ[\"GOOGLE_API_KEY\"]\n",
    "                             )\n"
   ]
  },
  {
   "cell_type": "code",
   "execution_count": 10,
   "metadata": {},
   "outputs": [],
   "source": [
    "# 設定工具 tools\n",
    "# Make sure to Install duckduckgo-search for this example:\n",
    "# !pip install -U duckduckgo-search\n",
    "# 最簡易型的工具定義方式\n",
    "from langchain.tools import DuckDuckGoSearchRun\n",
    "search_tool = DuckDuckGoSearchRun()\n",
    "\n",
    "# 從 tools 模組中引入需要的工具\n",
    "from tools.browser_tools import BrowserTools\n",
    "from tools.calculator_tools import CalculatorTools\n",
    "from tools.file_tools import FileTools\n",
    "from tools.search_tools import SearchTools\n",
    "from tools.sec_tools import SECTools\n",
    "# 下面添加 tools 時，必須用 類別.方法 加入工具\n",
    "# BrowserTools.scrape_and_summarize_website\n",
    "# CalculatorTools.calculate\n",
    "# FileTools.write_file\n",
    "# SearchTools.search_internet、SearchTools.search_news\n",
    "# SECTools.search_10q、SECTools.search_10k\n",
    "# 下面的是依樣畫葫蘆自行加入2行定義類別，親測可以匯入\n",
    "from tools.find_papers_arxiv import FindPapersArxiv\n",
    "from tools.get_top_hackernews_stories import GetTopHackernewsStories\n",
    "# 然後就可以用下面的函式來使用工具，已測試可以~~~\n",
    "# FindPapersArxiv.search_arxiv\n",
    "# GetTopHackernewsStories.get_top_hackernews_stories"
   ]
  },
  {
   "cell_type": "code",
   "execution_count": 11,
   "metadata": {},
   "outputs": [],
   "source": [
    "# Define your agents with roles and goals\n",
    "researcher = Agent(\n",
    "  role='Senior Research Analyst',\n",
    "  goal='Uncover cutting-edge developments in AI and data science',\n",
    "  backstory=\"\"\"You work at a leading tech think tank.\n",
    "  Your expertise lies in identifying emerging trends.\n",
    "  You have a knack for dissecting complex data and presenting \n",
    "  actionable insights.\"\"\",\n",
    "  verbose=True,\n",
    "  allow_delegation=False,\n",
    "  tools=[search_tool],\n",
    "  debug_mode=True,\n",
    "  # You can pass an optional llm attribute specifying what mode you wanna use.\n",
    "  # It can be a local model through Ollama / LM Studio or a remote\n",
    "  # model like OpenAI, Mistral, Antrophic or others (https://python.langchain.com/docs/integrations/llms/)\n",
    "  #\n",
    "  # Examples:\n",
    "  #\n",
    "  # from langchain_community.llms import Ollama\n",
    "  # llm=gemini # was defined above in the file\n",
    "  #\n",
    "  # from langchain_openai import ChatOpenAI\n",
    "  # llm=ChatOpenAI(model_name=\"gpt-3.5\", temperature=0.7)\n",
    ")\n",
    "writer = Agent(\n",
    "  role='Tech Content Strategist',\n",
    "  goal='Craft compelling content on tech advancements',\n",
    "  backstory=\"\"\"You are a renowned Content Strategist, known for your insightful and engaging articles.\n",
    "  You transform complex concepts into compelling narratives.\"\"\",\n",
    "  verbose=True,\n",
    "  allow_delegation=True,\n",
    "  debug_mode=True,\n",
    "  # llm=gemini\n",
    "  # (optional) llm=ollama_llm\n",
    ")"
   ]
  },
  {
   "cell_type": "code",
   "execution_count": 12,
   "metadata": {},
   "outputs": [],
   "source": [
    "# 上面建立 agent 時，可以不指定 llm，這裡才指定\n",
    "researcher.llm = ollama\n",
    "writer.llm = ollama"
   ]
  },
  {
   "cell_type": "code",
   "execution_count": 13,
   "metadata": {},
   "outputs": [
    {
     "ename": "ValidationError",
     "evalue": "1 validation error for Task\nexpected_output\n  Field required [type=missing, input_value=<unprintable dict object>, input_type=dict]\n    For further information visit https://errors.pydantic.dev/2.6/v/missing",
     "output_type": "error",
     "traceback": [
      "\u001b[1;31m---------------------------------------------------------------------------\u001b[0m",
      "\u001b[1;31mValidationError\u001b[0m                           Traceback (most recent call last)",
      "Cell \u001b[1;32mIn[13], line 2\u001b[0m\n\u001b[0;32m      1\u001b[0m \u001b[38;5;66;03m# Create tasks for your agents\u001b[39;00m\n\u001b[1;32m----> 2\u001b[0m task1 \u001b[38;5;241m=\u001b[39m \u001b[43mTask\u001b[49m\u001b[43m(\u001b[49m\n\u001b[0;32m      3\u001b[0m \u001b[43m  \u001b[49m\u001b[43mdescription\u001b[49m\u001b[38;5;241;43m=\u001b[39;49m\u001b[38;5;124;43m\"\"\"\u001b[39;49m\u001b[38;5;124;43mConduct a comprehensive analysis of the latest advancements in AI in 2024.\u001b[39;49m\n\u001b[0;32m      4\u001b[0m \u001b[38;5;124;43m  Identify key trends, breakthrough technologies, and potential industry impacts.\u001b[39;49m\n\u001b[0;32m      5\u001b[0m \u001b[38;5;124;43m  Your final answer MUST be a full analysis report\u001b[39;49m\u001b[38;5;124;43m\"\"\"\u001b[39;49m\u001b[43m,\u001b[49m\n\u001b[0;32m      6\u001b[0m \u001b[43m  \u001b[49m\u001b[43magent\u001b[49m\u001b[38;5;241;43m=\u001b[39;49m\u001b[43mresearcher\u001b[49m\n\u001b[0;32m      7\u001b[0m \u001b[43m)\u001b[49m\n\u001b[0;32m      9\u001b[0m task2 \u001b[38;5;241m=\u001b[39m Task(\n\u001b[0;32m     10\u001b[0m   description\u001b[38;5;241m=\u001b[39m\u001b[38;5;124m\"\"\"\u001b[39m\u001b[38;5;124mUsing the insights provided, develop an engaging blog\u001b[39m\n\u001b[0;32m     11\u001b[0m \u001b[38;5;124m  post that highlights the most significant AI advancements.\u001b[39m\n\u001b[1;32m   (...)\u001b[0m\n\u001b[0;32m     15\u001b[0m   agent\u001b[38;5;241m=\u001b[39mwriter\n\u001b[0;32m     16\u001b[0m )\n",
      "File \u001b[1;32md:\\TOMO.Project\\crewAI\\venv\\Lib\\site-packages\\pydantic\\main.py:171\u001b[0m, in \u001b[0;36mBaseModel.__init__\u001b[1;34m(self, **data)\u001b[0m\n\u001b[0;32m    169\u001b[0m \u001b[38;5;66;03m# `__tracebackhide__` tells pytest and some other tools to omit this function from tracebacks\u001b[39;00m\n\u001b[0;32m    170\u001b[0m __tracebackhide__ \u001b[38;5;241m=\u001b[39m \u001b[38;5;28;01mTrue\u001b[39;00m\n\u001b[1;32m--> 171\u001b[0m \u001b[38;5;28;43mself\u001b[39;49m\u001b[38;5;241;43m.\u001b[39;49m\u001b[43m__pydantic_validator__\u001b[49m\u001b[38;5;241;43m.\u001b[39;49m\u001b[43mvalidate_python\u001b[49m\u001b[43m(\u001b[49m\u001b[43mdata\u001b[49m\u001b[43m,\u001b[49m\u001b[43m \u001b[49m\u001b[43mself_instance\u001b[49m\u001b[38;5;241;43m=\u001b[39;49m\u001b[38;5;28;43mself\u001b[39;49m\u001b[43m)\u001b[49m\n",
      "\u001b[1;31mValidationError\u001b[0m: 1 validation error for Task\nexpected_output\n  Field required [type=missing, input_value=<unprintable dict object>, input_type=dict]\n    For further information visit https://errors.pydantic.dev/2.6/v/missing"
     ]
    }
   ],
   "source": [
    "# Create tasks for your agents\n",
    "task1 = Task(\n",
    "  description=\"\"\"Conduct a comprehensive analysis of the latest advancements in AI in 2024.\n",
    "  Identify key trends, breakthrough technologies, and potential industry impacts.\n",
    "  Your final answer MUST be a full analysis report\"\"\",\n",
    "  agent=researcher\n",
    ")\n",
    "\n",
    "task2 = Task(\n",
    "  description=\"\"\"Using the insights provided, develop an engaging blog\n",
    "  post that highlights the most significant AI advancements.\n",
    "  Your post should be informative yet accessible, catering to a tech-savvy audience.\n",
    "  Make it sound cool, avoid complex words so it doesn't sound like AI.\n",
    "  Your answer MUST be the full blog post of at least 5 paragraphs and finally using taditional chinese writing.\"\"\",\n",
    "  agent=writer\n",
    ")"
   ]
  },
  {
   "cell_type": "code",
   "execution_count": 1,
   "metadata": {},
   "outputs": [
    {
     "ename": "NameError",
     "evalue": "name 'Crew' is not defined",
     "output_type": "error",
     "traceback": [
      "\u001b[1;31m---------------------------------------------------------------------------\u001b[0m",
      "\u001b[1;31mNameError\u001b[0m                                 Traceback (most recent call last)",
      "Cell \u001b[1;32mIn[1], line 2\u001b[0m\n\u001b[0;32m      1\u001b[0m \u001b[38;5;66;03m# Instantiate your crew with a sequential process\u001b[39;00m\n\u001b[1;32m----> 2\u001b[0m crew \u001b[38;5;241m=\u001b[39m \u001b[43mCrew\u001b[49m(\n\u001b[0;32m      3\u001b[0m   agents\u001b[38;5;241m=\u001b[39m[researcher, writer],\n\u001b[0;32m      4\u001b[0m   tasks\u001b[38;5;241m=\u001b[39m[task1, task2],\n\u001b[0;32m      5\u001b[0m   verbose\u001b[38;5;241m=\u001b[39m\u001b[38;5;241m2\u001b[39m, \u001b[38;5;66;03m# You can set it to 1 or 2 to different logging levels\u001b[39;00m\n\u001b[0;32m      6\u001b[0m )\n",
      "\u001b[1;31mNameError\u001b[0m: name 'Crew' is not defined"
     ]
    }
   ],
   "source": [
    "# Instantiate your crew with a sequential process\n",
    "crew = Crew(\n",
    "  agents=[researcher, writer],\n",
    "  tasks=[task1, task2],\n",
    "  verbose=2, # You can set it to 1 or 2 to different logging levels\n",
    ")"
   ]
  },
  {
   "cell_type": "code",
   "execution_count": 23,
   "metadata": {},
   "outputs": [
    {
     "name": "stdout",
     "output_type": "stream",
     "text": [
      "[DEBUG]: Working Agent: Senior Research Analyst\n",
      "[INFO]: Starting Task: Conduct a comprehensive analysis of the latest advancements in AI in 2024.\n",
      "  Identify key trends, breakthrough technologies, and potential industry impacts.\n",
      "  Your final answer MUST be a full analysis report\n",
      "\n",
      "\n",
      "\u001b[1m> Entering new CrewAgentExecutor chain...\u001b[0m\n",
      "\u001b[32;1m\u001b[1;3mI tried to use a tool and give a final answer at the same time, I must choose only one.\u001b[0m\u001b[32;1m\u001b[1;3m```\n",
      "Use Tool: duckduckgo_search\n",
      "Input: \"latest advancements in AI in 2024\"\n",
      "```\u001b[0m\u001b[93m \n",
      "\n",
      "In 2024, generative AI might actually become useful for the regular, non-tech person, and we are going to see more people tinkering with a million little AI models. State-of-the-art AI models ... Contributor. Nov 1, 2023,03:43am EDT. Share to Facebook. Share to Twitter. Share to Linkedin. The Top 5 Artificial Intelligence (AI) Trends For 2024. Adobe Stock. It's been a year since OpenAI ... This year's trends reflect a deepening sophistication and caution in AI development and deployment strategies, with an eye to ethics, safety and the evolving regulatory landscape. Here are the top 10 AI and machine learning trends to prepare for in 2024. 1. Multimodal AI. Multimodal AI goes beyond traditional single-mode data processing to ... AI has been in products for years. From the smart fridge capable of reminding you to buy milk to the card with Apple's Siri enabled. What they don't have is the processing and reasoning ... Generative AI took the world by storm in 2023. Its future—and ours—will be shaped by what we do next. Microsoft and Google have since moved beyond search to put chatbot-based assistants into ...\n",
      "\u001b[00m\n",
      "\u001b[32;1m\u001b[1;3mFinal Answer: In 2024, AI advancements will continue to grow and impact various industries. Multimodal AI is expected to become more prevalent, allowing AI systems to process multiple forms of data at once. Quantum computing will also contribute to the development of more sophisticated AI algorithms. Edge AI will enable smaller, more energy-efficient devices, making AI applications more accessible.\n",
      "\n",
      "In the healthcare industry, AI will play a significant role in improving patient outcomes and reducing costs. Precision medicine will become increasingly common, utilizing AI for personalized treatment plans based on individual genetic information. Robotics and AI will also be utilized in surgeries, enhancing accuracy and reducing recovery times.\n",
      "\n",
      "The financial sector will continue to integrate AI into fraud detection systems, risk analysis, and investment strategies. Natural Language Processing (NLP) advancements will improve customer service chatbots, voice assistants, and sentiment analysis tools.\n",
      "\n",
      "In the logistics industry, AI will optimize supply chain management, routing, and warehouse operations, reducing costs and increasing efficiency. Autonomous vehicles will also become more common, improving transportation and delivery services.\n",
      "\n",
      "The energy sector will utilize AI for predictive maintenance of infrastructure, preventing breakdowns and increasing productivity. Renewable energy sources will be optimized using AI, making them more cost-effective and sustainable.\n",
      "\n",
      "Overall, the development and deployment of AI will continue to prioritize ethics, safety, and regulatory compliance in 2024. As these technologies mature, their potential impacts on various industries will become more significant, driving innovation and growth.\u001b[0m\n",
      "\n",
      "\u001b[1m> Finished chain.\u001b[0m\n",
      "[DEBUG]: [Senior Research Analyst] Task output: In 2024, AI advancements will continue to grow and impact various industries. Multimodal AI is expected to become more prevalent, allowing AI systems to process multiple forms of data at once. Quantum computing will also contribute to the development of more sophisticated AI algorithms. Edge AI will enable smaller, more energy-efficient devices, making AI applications more accessible.\n",
      "\n",
      "In the healthcare industry, AI will play a significant role in improving patient outcomes and reducing costs. Precision medicine will become increasingly common, utilizing AI for personalized treatment plans based on individual genetic information. Robotics and AI will also be utilized in surgeries, enhancing accuracy and reducing recovery times.\n",
      "\n",
      "The financial sector will continue to integrate AI into fraud detection systems, risk analysis, and investment strategies. Natural Language Processing (NLP) advancements will improve customer service chatbots, voice assistants, and sentiment analysis tools.\n",
      "\n",
      "In the logistics industry, AI will optimize supply chain management, routing, and warehouse operations, reducing costs and increasing efficiency. Autonomous vehicles will also become more common, improving transportation and delivery services.\n",
      "\n",
      "The energy sector will utilize AI for predictive maintenance of infrastructure, preventing breakdowns and increasing productivity. Renewable energy sources will be optimized using AI, making them more cost-effective and sustainable.\n",
      "\n",
      "Overall, the development and deployment of AI will continue to prioritize ethics, safety, and regulatory compliance in 2024. As these technologies mature, their potential impacts on various industries will become more significant, driving innovation and growth.\n",
      "\n",
      "\n",
      "[DEBUG]: Working Agent: Tech Content Strategist\n",
      "[INFO]: Starting Task: Using the insights provided, develop an engaging blog\n",
      "  post that highlights the most significant AI advancements.\n",
      "  Your post should be informative yet accessible, catering to a tech-savvy audience.\n",
      "  Make it sound cool, avoid complex words so it doesn't sound like AI.\n",
      "  Your answer MUST be the full blog post of at least 5 paragraphs and finally using taditional chinese writing.\n",
      "\n",
      "\n",
      "\u001b[1m> Entering new CrewAgentExecutor chain...\u001b[0m\n",
      "\u001b[32;1m\u001b[1;3mUse Tool: Delegate work to co-worker\n",
      "Coworker: Senior Research Analyst\n",
      "Task: Explain in detail the most significant AI advancements in 2024.\n",
      "Context: In 2024, AI advancements will continue to grow and impact various industries. Multimodal AI is expected to become more prevalent, allowing AI systems to process multiple forms of data at once. Quantum computing will also contribute to the development of more sophisticated AI algorithms. Edge AI will enable smaller, more energy-efficient devices, making AI applications more accessible.\n",
      "In healthcare, AI will improve patient outcomes and reduce costs through precision medicine and enhanced robotics in surgeries. The financial sector will integrate AI into fraud detection systems, risk analysis, and investment strategies, while NLP advancements will enhance customer service chatbots, voice assistants, and sentiment analysis tools. In logistics, AI will optimize supply chain management, routing, and warehouse operations, reducing costs and increasing efficiency. Autonomous vehicles will become more common, improving transportation and delivery services. The energy sector will utilize AI for predictive maintenance of infrastructure and optimizing renewable energy sources to make them more cost-effective and sustainable. Overall, the development and deployment of AI will prioritize ethics, safety, and regulatory compliance in 2024.\u001b[0m\n",
      "\n",
      "\u001b[1m> Entering new CrewAgentExecutor chain...\u001b[0m\n",
      "\u001b[32;1m\u001b[1;3mUse Tool: duckduckgo_search\n",
      "Input: \"most significant AI advancements in 2024\"\u001b[0m\u001b[93m \n",
      "\n",
      "In 2024, generative AI might actually become useful for the regular, non-tech person, and we are going to see more people tinkering with a million little AI models. State-of-the-art AI models ... Here are some important current AI trends to look out for in the coming year. Reality check: more realistic expectations. Multimodal AI. Small (er) language models and open source advancements. GPU shortages and cloud costs. Model optimization is getting more accessible. Customized local models and data pipelines. More powerful virtual agents. Running AI models locally. One of the most significant changes we saw in the second half of 2023 was the arrival of open-source, fully capable small language models that can run on phones, laptops ... Contributor. Nov 1, 2023,03:43am EDT. Share to Facebook. Share to Twitter. Share to Linkedin. The Top 5 Artificial Intelligence (AI) Trends For 2024. Adobe Stock. It's been a year since OpenAI ... Low-Code And No-Code Software Engineering. Back in 2019, Gartner predicted that 65 percent of application development would be done with low-code/no-code tools by 2024. This may very well turn out ...\n",
      "\u001b[00m\n",
      "\u001b[32;1m\u001b[1;3mFinal Answer: In 2024, significant AI advancements include generative AI becoming more useful for non-tech individuals, realistic expectations, multimodal AI, smaller language models and open source advancements, GPU shortages and cloud costs, model optimization accessibility, customized local models and data pipelines, powerful virtual agents, running AI models locally, and the continued growth of low-code/no-code software engineering. These developments will impact various industries, including healthcare, finance, logistics, transportation, and energy, with a focus on ethics, safety, and regulatory compliance.\u001b[0m\n",
      "\n",
      "\u001b[1m> Finished chain.\u001b[0m\n",
      "\u001b[93m \n",
      "\n",
      "In 2024, significant AI advancements include generative AI becoming more useful for non-tech individuals, realistic expectations, multimodal AI, smaller language models and open source advancements, GPU shortages and cloud costs, model optimization accessibility, customized local models and data pipelines, powerful virtual agents, running AI models locally, and the continued growth of low-code/no-code software engineering. These developments will impact various industries, including healthcare, finance, logistics, transportation, and energy, with a focus on ethics, safety, and regulatory compliance.\n",
      "\u001b[00m\n",
      "\u001b[32;1m\u001b[1;3mFinal Answer: 在2024年，AI技术将继续发展并影响各种行业。多模式人工智能将成为更加普遍的事实，使人工智能系统能够同时处理不同类型的数据。量子计算也将贡献于开发更为复杂的人工智能算法。边缘AI将使AI应用更加可访问和节能。\n",
      "\n",
      "在医疗行业，人工智能将通过精准医学并提高患者结果来改善病患经历。金融行业将集成人工智能进 fraud detection系统, risk analysis和投资策略, 而自然语言处理（NLP）的前沿发展将提升客户服务聊天机器人、语音助手和情感分析工具。\n",
      "\n",
      "物流行业将使用AI优化供应链管理，路由和仓库操作，从而降低成本并增加效率。自动汽车也将更为普遍，改善交通和送货服务。能源领域将利用人工智能进行设施保养的预测，防止故障并提高生产率。\n",
      "\n",
      "总之，在2024年，人工智能的发展和部署将强调道德、安全和监管合规方面。随着这些技术成熟，其对各种行业的潜力影响将更加显著，驱动创新和增长。\n",
      "\n",
      "在2024年，重要的人工智能进展包括生成性AI成为非技术个体的更多有用，实际预期，多模态人工智能，较小的语言模型和开源前沿，GPU短缺和云成本，模型优化的可访问性，定制的本地模型和数据管道以及强大的虚拟代理，使用AI模型本地运行。这些发展将影响各种行业，包括医疗、金融、物流、交通和能源，并重新强调道德、安全和监管合规方面。\u001b[0m\n",
      "\n",
      "\u001b[1m> Finished chain.\u001b[0m\n",
      "[DEBUG]: [Tech Content Strategist] Task output: 在2024年，AI技术将继续发展并影响各种行业。多模式人工智能将成为更加普遍的事实，使人工智能系统能够同时处理不同类型的数据。量子计算也将贡献于开发更为复杂的人工智能算法。边缘AI将使AI应用更加可访问和节能。\n",
      "\n",
      "在医疗行业，人工智能将通过精准医学并提高患者结果来改善病患经历。金融行业将集成人工智能进 fraud detection系统, risk analysis和投资策略, 而自然语言处理（NLP）的前沿发展将提升客户服务聊天机器人、语音助手和情感分析工具。\n",
      "\n",
      "物流行业将使用AI优化供应链管理，路由和仓库操作，从而降低成本并增加效率。自动汽车也将更为普遍，改善交通和送货服务。能源领域将利用人工智能进行设施保养的预测，防止故障并提高生产率。\n",
      "\n",
      "总之，在2024年，人工智能的发展和部署将强调道德、安全和监管合规方面。随着这些技术成熟，其对各种行业的潜力影响将更加显著，驱动创新和增长。\n",
      "\n",
      "在2024年，重要的人工智能进展包括生成性AI成为非技术个体的更多有用，实际预期，多模态人工智能，较小的语言模型和开源前沿，GPU短缺和云成本，模型优化的可访问性，定制的本地模型和数据管道以及强大的虚拟代理，使用AI模型本地运行。这些发展将影响各种行业，包括医疗、金融、物流、交通和能源，并重新强调道德、安全和监管合规方面。\n",
      "\n",
      "\n"
     ]
    },
    {
     "data": {
      "text/markdown": [
       "> 在2024年，AI技术将继续发展并影响各种行业。多模式人工智能将成为更加普遍的事实，使人工智能系统能够同时处理不同类型的数据。量子计算也将贡献于开发更为复杂的人工智能算法。边缘AI将使AI应用更加可访问和节能。\n",
       "> \n",
       "> 在医疗行业，人工智能将通过精准医学并提高患者结果来改善病患经历。金融行业将集成人工智能进 fraud detection系统, risk analysis和投资策略, 而自然语言处理（NLP）的前沿发展将提升客户服务聊天机器人、语音助手和情感分析工具。\n",
       "> \n",
       "> 物流行业将使用AI优化供应链管理，路由和仓库操作，从而降低成本并增加效率。自动汽车也将更为普遍，改善交通和送货服务。能源领域将利用人工智能进行设施保养的预测，防止故障并提高生产率。\n",
       "> \n",
       "> 总之，在2024年，人工智能的发展和部署将强调道德、安全和监管合规方面。随着这些技术成熟，其对各种行业的潜力影响将更加显著，驱动创新和增长。\n",
       "> \n",
       "> 在2024年，重要的人工智能进展包括生成性AI成为非技术个体的更多有用，实际预期，多模态人工智能，较小的语言模型和开源前沿，GPU短缺和云成本，模型优化的可访问性，定制的本地模型和数据管道以及强大的虚拟代理，使用AI模型本地运行。这些发展将影响各种行业，包括医疗、金融、物流、交通和能源，并重新强调道德、安全和监管合规方面。"
      ],
      "text/plain": [
       "<IPython.core.display.Markdown object>"
      ]
     },
     "execution_count": 23,
     "metadata": {},
     "output_type": "execute_result"
    }
   ],
   "source": [
    "# Get your crew to work!\n",
    "result = crew.kickoff()\n",
    "\n",
    "# print(\"######################\")\n",
    "# print(result)\n",
    "to_markdown(result)"
   ]
  }
 ],
 "metadata": {
  "kernelspec": {
   "display_name": "venv",
   "language": "python",
   "name": "python3"
  },
  "language_info": {
   "codemirror_mode": {
    "name": "ipython",
    "version": 3
   },
   "file_extension": ".py",
   "mimetype": "text/x-python",
   "name": "python",
   "nbconvert_exporter": "python",
   "pygments_lexer": "ipython3",
   "version": "3.11.8"
  }
 },
 "nbformat": 4,
 "nbformat_minor": 2
}
