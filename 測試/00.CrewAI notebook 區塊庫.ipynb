{
 "cells": [
  {
   "cell_type": "code",
   "execution_count": 2,
   "metadata": {},
   "outputs": [
    {
     "data": {
      "text/plain": [
       "'\\nhttps://docs.crewai.com/how-to/LLM-Connections/\\nCrewAI 支援 openAI gemini ollama，是 agent 框架裏面對 gemini pro 的支援度比較好的一個框架\\n- Setting Up Ollama\\nEnvironment Variables Configuration: To integrate Ollama, set the following environment variables:\\nOPENAI_API_BASE=\\'http://localhost:11434/v1\\'\\nOPENAI_MODEL_NAME=\\'openhermes\\'  # Adjust based on available model\\nOPENAI_API_KEY=\\'\\'\\n\\n其他本地端大模型待測試(OpenAI Compatible API Endpoints)\\n- LM Studio\\nOPENAI_API_BASE=\"http://localhost:8000/v1\"\\nOPENAI_MODEL_NAME=NA\\nOPENAI_API_KEY=NA\\n\\n- Mistral API\\nOPENAI_API_KEY=your-mistral-api-key\\nOPENAI_API_BASE=https://api.mistral.ai/v1\\nOPENAI_MODEL_NAME=\"mistral-small\"\\n\\n- FastChat\\nOPENAI_API_BASE=\"http://localhost:8001/v1\"\\nOPENAI_MODEL_NAME=\\'oh-2.5m7b-q51\\'\\nOPENAI_API_KEY=NA\\n\\n'"
      ]
     },
     "execution_count": 2,
     "metadata": {},
     "output_type": "execute_result"
    }
   ],
   "source": [
    "\"\"\"\n",
    "https://docs.crewai.com/how-to/LLM-Connections/\n",
    "CrewAI 支援 openAI gemini ollama，是 agent 框架裏面對 gemini pro 的支援度比較好的一個框架\n",
    "- Setting Up Ollama\n",
    "Environment Variables Configuration: To integrate Ollama, set the following environment variables:\n",
    "OPENAI_API_BASE='http://localhost:11434/v1'\n",
    "OPENAI_MODEL_NAME='openhermes'  # Adjust based on available model\n",
    "OPENAI_API_KEY=''\n",
    "\n",
    "其他本地端大模型待測試(OpenAI Compatible API Endpoints)\n",
    "- LM Studio\n",
    "OPENAI_API_BASE=\"http://localhost:8000/v1\"\n",
    "OPENAI_MODEL_NAME=NA\n",
    "OPENAI_API_KEY=NA\n",
    "\n",
    "- Mistral API\n",
    "OPENAI_API_KEY=your-mistral-api-key\n",
    "OPENAI_API_BASE=https://api.mistral.ai/v1\n",
    "OPENAI_MODEL_NAME=\"mistral-small\"\n",
    "\n",
    "- FastChat\n",
    "OPENAI_API_BASE=\"http://localhost:8001/v1\"\n",
    "OPENAI_MODEL_NAME='oh-2.5m7b-q51'\n",
    "OPENAI_API_KEY=NA\n",
    "\n",
    "\"\"\""
   ]
  },
  {
   "cell_type": "code",
   "execution_count": 3,
   "metadata": {},
   "outputs": [],
   "source": [
    "# 匯入依賴庫\n",
    "import os\n",
    "from crewai import Agent, Task, Crew, Process\n"
   ]
  },
  {
   "cell_type": "code",
   "execution_count": 4,
   "metadata": {},
   "outputs": [],
   "source": [
    "import textwrap\n",
    "from IPython.display import HTML, display, Markdown\n",
    "\n",
    "def to_markdown(text):\n",
    "  text = text.replace('•', '  *')\n",
    "  return Markdown(textwrap.indent(text, '> ', predicate=lambda _: True))"
   ]
  },
  {
   "cell_type": "code",
   "execution_count": 5,
   "metadata": {},
   "outputs": [],
   "source": [
    "# 設定4個 LLM\n",
    "from langchain_google_genai import ChatGoogleGenerativeAI\n",
    "from langchain_community.llms import OpenAI, Ollama\n",
    "from langchain_openai import ChatOpenAI\n",
    "# crewai 使用 Ollama 的方法：ollama 已推出 windows 版本，不需要執行 litellm；Mac 則也不需要啟動任何程式，只要有安裝好 Ollama 即可調用。\n",
    "# (autogen 要調用 Ollama 需要執行 litellm，多一道步驟，比較麻煩)\n",
    "gpt35 = ChatOpenAI(model_name=\"gpt-3.5-turbo\", temperature=0.7),\n",
    "gpt4 = ChatOpenAI(model_name=\"gpt-4\", temperature=0.7),\n",
    "# Ollama 大模型，用 modelfile 建立的，可以在 modelfile 設定溫度，但切勿在系統提示詞要它使用中文回復，會造成函數調用不正常\n",
    "# 除此之外，ollama 的 openhermes 模型表現不錯`\n",
    "ollama = Ollama(model=\"openhermes\")\n",
    "# gemini 感覺相容性不好，常出現莫名的錯誤\n",
    "gemini = ChatGoogleGenerativeAI(model=\"gemini-pro\",\n",
    "                             verbose = True,\n",
    "                             temperature = 0.6,\n",
    "                             google_api_key = os.environ[\"GOOGLE_API_KEY\"]\n",
    "                             )"
   ]
  },
  {
   "cell_type": "code",
   "execution_count": 7,
   "metadata": {},
   "outputs": [
    {
     "data": {
      "text/plain": [
       "'\\n這裡要仿照 crewAI-examples 提供範例的做法。\\nagents、tasks 都寫成外部的檔案，並從這裡讀取。\\ntools 可以全部放在 tools 資料夾內，另外匯入。\\n或是，crewAI-tools 的做法\\n'"
      ]
     },
     "execution_count": 7,
     "metadata": {},
     "output_type": "execute_result"
    }
   ],
   "source": [
    "\"\"\"\n",
    "這裡要仿照 crewAI-examples 提供範例的做法。\n",
    "agents、tasks 都寫成外部的檔案，並從這裡讀取。\n",
    "tools 可以全部放在 tools 資料夾內，另外匯入。\n",
    "或是，crewAI-tools 的做法\n",
    "\"\"\"\n",
    "# from tasks import MarketingAnalysisTasks\n",
    "# from agents import MarketingAnalysisAgents"
   ]
  },
  {
   "cell_type": "code",
   "execution_count": 8,
   "metadata": {},
   "outputs": [
    {
     "name": "stderr",
     "output_type": "stream",
     "text": [
      "d:\\TOMO.Project\\crewAI\\venv\\Lib\\site-packages\\langchain_core\\_api\\deprecation.py:117: LangChainDeprecationWarning: The class `langchain_community.chat_models.openai.ChatOpenAI` was deprecated in langchain-community 0.0.10 and will be removed in 0.2.0. An updated version of the class exists in the langchain-openai package and should be used instead. To use it run `pip install -U langchain-openai` and import as `from langchain_openai import ChatOpenAI`.\n",
      "  warn_deprecated(\n",
      "WARNING! top_p is not default parameter.\n",
      "                    top_p was transferred to model_kwargs.\n",
      "                    Please confirm that top_p is what you intended.\n"
     ]
    }
   ],
   "source": [
    "import os\n",
    "from langchain.chat_models.openai import ChatOpenAI\n",
    "\n",
    "defalut_llm = ChatOpenAI(openai_api_base=os.environ.get(\"OPENAI_API_BASE_URL\", \"https://api.openai.com/v1\"),\n",
    "                        openai_api_key=os.environ.get(\"OPENAI_API_KEY\"),\n",
    "                        temperature=0.1,                        \n",
    "                        model_name=os.environ.get(\"MODEL_NAME\", \"gpt-3.5-turbo\"),\n",
    "                        top_p=0.3)"
   ]
  },
  {
   "cell_type": "code",
   "execution_count": 9,
   "metadata": {},
   "outputs": [],
   "source": [
    "# 設定工具 tools\n",
    "# Make sure to Install duckduckgo-search for this example:\n",
    "# !pip install -U duckduckgo-search\n",
    "# 最簡易型的工具定義方式\n",
    "from langchain.tools import DuckDuckGoSearchRun\n",
    "search_tool = DuckDuckGoSearchRun()\n",
    "\n",
    "# 從 tools 模組中引入需要的工具\n",
    "from tools.browser_tools import BrowserTools\n",
    "from tools.calculator_tools import CalculatorTools\n",
    "from tools.file_tools import FileTools\n",
    "from tools.search_tools import SearchTools\n",
    "from tools.sec_tools import SECTools\n",
    "# 下面添加 tools 時，必須用 類別.方法 加入工具\n",
    "# BrowserTools.scrape_and_summarize_website\n",
    "# CalculatorTools.calculate\n",
    "# FileTools.write_file\n",
    "# SearchTools.search_internet、SearchTools.search_news\n",
    "# SECTools.search_10q、SECTools.search_10k\n",
    "# 下面的是依樣畫葫蘆自行加入2行定義類別，親測可以匯入\n",
    "from tools.find_papers_arxiv import FindPapersArxiv\n",
    "from tools.get_top_hackernews_stories import GetTopHackernewsStories\n",
    "# 然後就可以用下面的函式來使用工具，已測試可以~~~\n",
    "# FindPapersArxiv.search_arxiv\n",
    "# GetTopHackernewsStories.get_top_hackernews_stories"
   ]
  },
  {
   "cell_type": "code",
   "execution_count": 10,
   "metadata": {},
   "outputs": [],
   "source": [
    "# crewai_tools 工具的匯入方法\n",
    "from crewai import Agent\n",
    "from crewai_tools.tools import WebsiteSearchTool, SeperDevTool, FileReadTool\n",
    "\n",
    "web_search_tool = WebsiteSearchTool()\n",
    "seper_dev_tool = SeperDevTool()\n",
    "file_read_tool = FileReadTool(\n",
    "\tfile_path='job_description_example.md',\n",
    "\tdescription='A tool to read the job description example file.'\n",
    ")\n",
    "\n",
    "class Agents():\n",
    "\tdef research_agent(self):\n",
    "\t\treturn Agent(\n",
    "\t\t\trole='Research Analyst',\n",
    "\t\t\tgoal='Analyze the company website and provided description to extract insights on culture, values, and specific needs.',\n",
    "\t\t\ttools=[web_search_tool, seper_dev_tool],\n",
    "\t\t\tbackstory='Expert in analyzing company cultures and identifying key values and needs from various sources, including websites and brief descriptions.',\n",
    "\t\t\tverbose=True\n",
    "\t\t)\n",
    "\n",
    "\tdef writer_agent(self):\n",
    "\t\t\treturn Agent(\n",
    "\t\t\t\trole='Job Description Writer',\n",
    "\t\t\t\tgoal='Use insights from the Research Analyst to create a detailed, engaging, and enticing job posting.',\n",
    "\t\t\t\ttools=[web_search_tool, seper_dev_tool, file_read_tool],\n",
    "\t\t\t\tbackstory='Skilled in crafting compelling job descriptions that resonate with the company\\'s values and attract the right candidates.',\n",
    "\t\t\t\tverbose=True\n",
    "\t\t\t)\n",
    "\n",
    "\tdef review_agent(self):\n",
    "\t\t\treturn Agent(\n",
    "\t\t\t\trole='Review and Editing Specialist',\n",
    "\t\t\t\tgoal='Review the job posting for clarity, engagement, grammatical accuracy, and alignment with company values and refine it to ensure perfection.',\n",
    "\t\t\t\ttools=[web_search_tool, seper_dev_tool, file_read_tool],\n",
    "\t\t\t\tbackstory='A meticulous editor with an eye for detail, ensuring every piece of content is clear, engaging, and grammatically perfect.',\n",
    "\t\t\t\tverbose=True\n",
    "\t\t\t)"
   ]
  },
  {
   "cell_type": "code",
   "execution_count": 11,
   "metadata": {},
   "outputs": [],
   "source": [
    "# Define your agents with roles and goals\n",
    "# allow_delegation=True, 打開測試看看\n",
    "researcher = Agent(\n",
    "  role='Senior Research Analyst',\n",
    "  goal='Uncover cutting-edge developments in AI and data science',\n",
    "  backstory=\"\"\"You work at a leading tech think tank.\n",
    "  Your expertise lies in identifying emerging trends.\n",
    "  You have a knack for dissecting complex data and presenting\n",
    "  actionable insights.\"\"\",\n",
    "  verbose=True,\n",
    "  allow_delegation=True,\n",
    "  tools=[\n",
    "        search_tool, \n",
    "        BrowserTools.scrape_and_summarize_website, \n",
    "        CalculatorTools.calculate, \n",
    "        FileTools.write_file,\n",
    "        SearchTools.search_internet, SearchTools.search_news,\n",
    "        SECTools.search_10q, SECTools.search_10k,\n",
    "        FindPapersArxiv.search_arxiv,\n",
    "        GetTopHackernewsStories.get_top_hackernews_stories\n",
    "      ],\n",
    "  # You can pass an optional llm attribute specifying what mode you wanna use.\n",
    "  # It can be a local model through Ollama / LM Studio or a remote\n",
    "  # model like OpenAI, Mistral, Antrophic of others (https://python.langchain.com/docs/integrations/llms/)\n",
    "  #\n",
    "  # Examples:\n",
    "  # llm=ollama # was defined above in the file\n",
    "  # llm=ChatOpenAI(model_name=\"gpt-3.5\", temperature=0.7)\n",
    "  # llm = gemini  #using google gemini pro API\n",
    "  # 或在定義後，使用 researcher.llm = ollama 或 gemini 來更改模型\n",
    ")"
   ]
  },
  {
   "cell_type": "code",
   "execution_count": 12,
   "metadata": {},
   "outputs": [],
   "source": [
    "# 寫手應該不需要掛太多 tools，單純測試看看。\n",
    "writer = Agent(\n",
    "  role='Tech Content Strategist',\n",
    "  goal='Craft compelling content on tech advancements',\n",
    "  backstory=\"\"\"You are a renowned Content Strategist, known for\n",
    "  your insightful and engaging articles.\n",
    "  You transform complex concepts into compelling narratives.\"\"\",\n",
    "  verbose=True,\n",
    "  allow_delegation=True,\n",
    "  tools=[\n",
    "        search_tool, \n",
    "        BrowserTools.scrape_and_summarize_website, \n",
    "        CalculatorTools.calculate, \n",
    "        FileTools.write_file,\n",
    "        SearchTools.search_internet, SearchTools.search_news,\n",
    "        SECTools.search_10q, SECTools.search_10k,\n",
    "        FindPapersArxiv.search_arxiv,\n",
    "        GetTopHackernewsStories.get_top_hackernews_stories\n",
    "      ],\n",
    "  # llm = gemini  #using google gemini pro API\n",
    ")\n"
   ]
  },
  {
   "cell_type": "code",
   "execution_count": 17,
   "metadata": {},
   "outputs": [],
   "source": [
    "# 上面可以先不指定用哪一個 llm，這裡再指定就可以\n",
    "# 但是如果分 main.py、agents.py、tasks.py 三個檔案，就必須先指定用哪一個 llm\n",
    "researcher.llm = ollama\n",
    "writer.llm = ollama"
   ]
  },
  {
   "cell_type": "code",
   "execution_count": 18,
   "metadata": {},
   "outputs": [],
   "source": [
    "# Create tasks for your agents\n",
    "# 跟 phidata 比較，phidata 有提供 cli 命令交互式的方法，透過交互式的方式，可以讓使用者在命令列輸入文字，並回傳答案。\n",
    "# 但 crewai 必須在程式碼中定義好要執行的任務 tasks，並執行任務。\n",
    "# 要 AI 解決任務，就必須透過程式碼內輸入 tasks 的任務內容，並執行程式，才能得到結果。\n",
    "task1 = Task(\n",
    "  description=\"\"\"Conduct a comprehensive analysis of the latest advancements in AI in 2024.\n",
    "  Identify key trends, breakthrough technologies, and potential industry impacts.\n",
    "  Your final answer MUST be a full analysis report\"\"\",\n",
    "  agent=researcher\n",
    ")\n",
    "task2 = Task(\n",
    "  description=\"\"\"Using the insights provided, develop an engaging blog\n",
    "  post that highlights the most significant AI advancements.\n",
    "  Your post should be informative yet accessible, catering to a tech-savvy audience.\n",
    "  Make it sound cool, avoid complex words so it doesn't sound like AI.\n",
    "  Your final answer MUST be the full blog post of at least 5 paragraphs.\"\"\",\n",
    "  agent=writer\n",
    ")\n",
    "task3 = Task(\n",
    "  description=\"\"\"express the final blog post provided in traditional chinese。 and write it to a file AI_2024.md\"\"\",\n",
    "  agent=writer\n",
    ")"
   ]
  },
  {
   "cell_type": "code",
   "execution_count": 19,
   "metadata": {},
   "outputs": [
    {
     "name": "stderr",
     "output_type": "stream",
     "text": [
      "2024-03-03 01:38:59,184 - 24012 - __init__.py-__init__:521 - WARNING: Overriding of current TracerProvider is not allowed\n"
     ]
    }
   ],
   "source": [
    "# Instantiate your crew with a sequential process\n",
    "crew = Crew(\n",
    "  agents=[researcher, writer],\n",
    "  tasks=[task1, task2, task3],\n",
    "  verbose=2, # You can set it to 1 or 2 to different logging levels\n",
    ")"
   ]
  },
  {
   "cell_type": "code",
   "execution_count": 20,
   "metadata": {},
   "outputs": [
    {
     "name": "stdout",
     "output_type": "stream",
     "text": [
      "[DEBUG]: Working Agent: Senior Research Analyst\n",
      "[INFO]: Starting Task: Conduct a comprehensive analysis of the latest advancements in AI in 2024.\n",
      "  Identify key trends, breakthrough technologies, and potential industry impacts.\n",
      "  Your final answer MUST be a full analysis report\n",
      "\n",
      "\n",
      "\u001b[1m> Entering new CrewAgentExecutor chain...\u001b[0m\n",
      "\u001b[32;1m\u001b[1;3mUse Tool: duckduckgo_search\n",
      "Query: \"latest advancements in AI 2024\"\u001b[0m\u001b[93m \n",
      "\n",
      "In 2024, generative AI might actually become useful for the regular, non-tech person, and we are going to see more people tinkering with a million little AI models. State-of-the-art AI models ... This year's trends reflect a deepening sophistication and caution in AI development and deployment strategies, with an eye to ethics, safety and the evolving regulatory landscape. Here are the top 10 AI and machine learning trends to prepare for in 2024. 1. Multimodal AI. Multimodal AI goes beyond traditional single-mode data processing to ... Generative AI took the world by storm in 2023. Its future—and ours—will be shaped by what we do next. Microsoft and Google have since moved beyond search to put chatbot-based assistants into ... Contributor. Nov 1, 2023,03:43am EDT. Share to Facebook. Share to Twitter. Share to Linkedin. The Top 5 Artificial Intelligence (AI) Trends For 2024. Adobe Stock. It's been a year since OpenAI ... AI has been in products for years. From the smart fridge capable of reminding you to buy milk to the card with Apple's Siri enabled. What they don't have is the processing and reasoning ...\n",
      "\u001b[00m\n",
      "\u001b[32;1m\u001b[1;3mFinal Answer: In 2024, the latest advancements in AI will continue to shape various industries and sectors. One key trend is Multimodal AI, which combines data from different sources such as text, image, audio, and video to improve decision-making and automate tasks more effectively. Another breakthrough technology is Generative AI, which has shown significant potential in natural language processing and content generation.\n",
      "\n",
      "The use of reinforcement learning, a type of machine learning, will also continue to grow, enabling autonomous agents to make decisions based on their environment and interactions with it. Edge computing, where data processing happens at the source rather than relying on cloud storage, is becoming increasingly important for real-time AI applications.\n",
      "\n",
      "In terms of potential industry impacts, AI continues to revolutionize fields such as healthcare, finance, marketing, transportation, and manufacturing. In healthcare, AI is being used to develop personalized treatments and improve patient outcomes. In finance, it's helping to detect fraud and automate financial analysis. In marketing, AI is enhancing customer engagement through personalized content generation. The autonomous vehicles industry relies heavily on AI for safer and more efficient transportation.\n",
      "\n",
      "Moreover, AI-powered chatbots will continue to evolve and become more integrated with various platforms, improving customer service and support. AI also plays a crucial role in climate change mitigation efforts through predictive analytics and resource optimization.\n",
      "\n",
      "As AI development continues to grow, it is essential to prioritize safety, ethics, and regulatory compliance. This includes addressing concerns around data privacy, transparency, and the potential for job displacement. The industry must work together with policymakers and stakeholders to establish guidelines that promote responsible innovation.\u001b[0m\n",
      "\n",
      "\u001b[1m> Finished chain.\u001b[0m\n",
      "[DEBUG]: [Senior Research Analyst] Task output: In 2024, the latest advancements in AI will continue to shape various industries and sectors. One key trend is Multimodal AI, which combines data from different sources such as text, image, audio, and video to improve decision-making and automate tasks more effectively. Another breakthrough technology is Generative AI, which has shown significant potential in natural language processing and content generation.\n",
      "\n",
      "The use of reinforcement learning, a type of machine learning, will also continue to grow, enabling autonomous agents to make decisions based on their environment and interactions with it. Edge computing, where data processing happens at the source rather than relying on cloud storage, is becoming increasingly important for real-time AI applications.\n",
      "\n",
      "In terms of potential industry impacts, AI continues to revolutionize fields such as healthcare, finance, marketing, transportation, and manufacturing. In healthcare, AI is being used to develop personalized treatments and improve patient outcomes. In finance, it's helping to detect fraud and automate financial analysis. In marketing, AI is enhancing customer engagement through personalized content generation. The autonomous vehicles industry relies heavily on AI for safer and more efficient transportation.\n",
      "\n",
      "Moreover, AI-powered chatbots will continue to evolve and become more integrated with various platforms, improving customer service and support. AI also plays a crucial role in climate change mitigation efforts through predictive analytics and resource optimization.\n",
      "\n",
      "As AI development continues to grow, it is essential to prioritize safety, ethics, and regulatory compliance. This includes addressing concerns around data privacy, transparency, and the potential for job displacement. The industry must work together with policymakers and stakeholders to establish guidelines that promote responsible innovation.\n",
      "\n",
      "\n",
      "[DEBUG]: Working Agent: Tech Content Strategist\n",
      "[INFO]: Starting Task: Using the insights provided, develop an engaging blog\n",
      "  post that highlights the most significant AI advancements.\n",
      "  Your post should be informative yet accessible, catering to a tech-savvy audience.\n",
      "  Make it sound cool, avoid complex words so it doesn't sound like AI.\n",
      "  Your final answer MUST be the full blog post of at least 5 paragraphs.\n",
      "\n",
      "\n",
      "\u001b[1m> Entering new CrewAgentExecutor chain...\u001b[0m\n",
      "\u001b[32;1m\u001b[1;3mFinal Answer: In 2024, AI will continue to reshape our world in profound ways. One exciting advancement is Multimodal AI, which seamlessly combines data from different sources like text, images, audio, and video. This powerful tool improves decision-making processes and automates tasks more effectively than ever before.\n",
      "\n",
      "Another game-changer on the horizon is Generative AI, which has shown remarkable potential in areas such as natural language processing and content generation. It's almost like having a superpowered writer or artist at your fingertips!\n",
      "\n",
      "Reinforcement learning, a type of machine learning, will also see significant growth. This enables autonomous agents to make decisions based on their environment and interactions with it – kind of like a self-learning robot.\n",
      "\n",
      "Edge computing, where data processing happens right at the source instead of relying on cloud storage, is becoming increasingly vital for real-time AI applications. It's all about instant gratification!\n",
      "\n",
      "Across various industries, AI is making waves. In healthcare, it's helping doctors develop personalized treatments and improve patient outcomes. In finance, AI helps detect fraud and automate financial analysis – think of it as a superhero accountant. Marketing sees enhanced customer engagement through personalized content generation, while the autonomous vehicles industry relies heavily on AI for safer and more efficient transportation.\n",
      "\n",
      "AI-powered chatbots are also evolving rapidly and becoming integrated into various platforms, improving customer service and support. But let's not forget that with great power comes responsibility. As AI development continues to grow, we must prioritize safety, ethics, and regulatory compliance. This means addressing concerns around data privacy, transparency, and job displacement. The industry needs to work closely with policymakers and stakeholders to establish guidelines for responsible innovation – think of it like a superhero's code of conduct.\n",
      "\n",
      "So buckle up, because 2024 is shaping up to be an exciting year in the world of AI!\u001b[0m\n",
      "\n",
      "\u001b[1m> Finished chain.\u001b[0m\n",
      "[DEBUG]: [Tech Content Strategist] Task output: In 2024, AI will continue to reshape our world in profound ways. One exciting advancement is Multimodal AI, which seamlessly combines data from different sources like text, images, audio, and video. This powerful tool improves decision-making processes and automates tasks more effectively than ever before.\n",
      "\n",
      "Another game-changer on the horizon is Generative AI, which has shown remarkable potential in areas such as natural language processing and content generation. It's almost like having a superpowered writer or artist at your fingertips!\n",
      "\n",
      "Reinforcement learning, a type of machine learning, will also see significant growth. This enables autonomous agents to make decisions based on their environment and interactions with it – kind of like a self-learning robot.\n",
      "\n",
      "Edge computing, where data processing happens right at the source instead of relying on cloud storage, is becoming increasingly vital for real-time AI applications. It's all about instant gratification!\n",
      "\n",
      "Across various industries, AI is making waves. In healthcare, it's helping doctors develop personalized treatments and improve patient outcomes. In finance, AI helps detect fraud and automate financial analysis – think of it as a superhero accountant. Marketing sees enhanced customer engagement through personalized content generation, while the autonomous vehicles industry relies heavily on AI for safer and more efficient transportation.\n",
      "\n",
      "AI-powered chatbots are also evolving rapidly and becoming integrated into various platforms, improving customer service and support. But let's not forget that with great power comes responsibility. As AI development continues to grow, we must prioritize safety, ethics, and regulatory compliance. This means addressing concerns around data privacy, transparency, and job displacement. The industry needs to work closely with policymakers and stakeholders to establish guidelines for responsible innovation – think of it like a superhero's code of conduct.\n",
      "\n",
      "So buckle up, because 2024 is shaping up to be an exciting year in the world of AI!\n",
      "\n",
      "\n",
      "[DEBUG]: Working Agent: Tech Content Strategist\n",
      "[INFO]: Starting Task: express the final blog post provided in traditional chinese。 and write it to a file AI_2024.md\n",
      "\n",
      "\n",
      "\u001b[1m> Entering new CrewAgentExecutor chain...\u001b[0m\n",
      "\u001b[32;1m\u001b[1;3mUse Tool: Searches arXiv for the given query\n",
      "query: \"AI in 2024\"\n",
      "max_results: 1\u001b[0m\u001b[32;1m\u001b[1;3mUse Tool: duckduckgo_search\n",
      "query: \"AI in 2024\"\u001b[0m\u001b[93m \n",
      "\n",
      "The article predicts four hot trends for artificial intelligence in 2024, such as customized chatbots, generative AI, AI-generated election disinformation, and AI-powered drug discovery. It also discusses the challenges and opportunities of these trends, such as the need for user-friendly platforms, the impact of biases and copyright, and the use of AI in film and marketing. Seven Stanford HAI experts share their insights on the biggest stories and trends for artificial intelligence in 2024, from multimodal models to deepfakes, from GPU shortage to helpful agents. Learn how they expect AI to affect white collar work, creative work, and the U.S. regulation in the next year. The Top 5 Artificial Intelligence (AI) Trends For 2024. Adobe Stock. It's been a year since OpenAI released ChatGPT, opening the door to seamlessly weave AI into the fabric of our daily lives ... The combination of AI vendor overhype, increasing regulation, and the watering down of generative AI solutions will lead to a more realistic perspective on AI solutions in 2024. The overwhelming ... In 2024, electricity demands will become the second, predicts Dan Hendrycks, executive director of the Center for AI Safety, a San Francisco-based nonprofit. Data centers account for roughly 1% ...\n",
      "\u001b[00m\n",
      "\u001b[32;1m\u001b[1;3mFinal Answer: In 2024, AI is expected to reshape various industries with advancements such as Multimodal AI, Generative AI, Reinforcement Learning, and Edge Computing. Multimodal AI integrates data from text, images, audio, and video, improving decision-making processes and task automation. Generative AI shows remarkable potential in natural language processing and content generation. Reinforcement learning enables autonomous agents to make decisions based on their environment and interactions. Edge computing allows for real-time AI applications by processing data at the source.\n",
      "\n",
      "Across industries, AI is making significant strides: healthcare sees personalized treatments and improved patient outcomes; finance benefits from fraud detection and financial analysis; marketing experiences enhanced customer engagement through personalized content generation; and the autonomous vehicles industry relies on AI for safer and more efficient transportation.\n",
      "\n",
      "AI-powered chatbots are evolving rapidly, integrating into various platforms to improve customer service and support. However, safety, ethics, and regulatory compliance must be prioritized as AI development grows. Concerns such as data privacy, transparency, and job displacement need addressing through collaboration with policymakers and stakeholders to establish guidelines for responsible innovation.\n",
      "\n",
      "In summary, 2024 is expected to bring exciting advancements in AI that reshape various industries, but it also requires responsible innovation and consideration of potential impacts on society.\u001b[0m\n",
      "\n",
      "\u001b[1m> Finished chain.\u001b[0m\n",
      "[DEBUG]: [Tech Content Strategist] Task output: In 2024, AI is expected to reshape various industries with advancements such as Multimodal AI, Generative AI, Reinforcement Learning, and Edge Computing. Multimodal AI integrates data from text, images, audio, and video, improving decision-making processes and task automation. Generative AI shows remarkable potential in natural language processing and content generation. Reinforcement learning enables autonomous agents to make decisions based on their environment and interactions. Edge computing allows for real-time AI applications by processing data at the source.\n",
      "\n",
      "Across industries, AI is making significant strides: healthcare sees personalized treatments and improved patient outcomes; finance benefits from fraud detection and financial analysis; marketing experiences enhanced customer engagement through personalized content generation; and the autonomous vehicles industry relies on AI for safer and more efficient transportation.\n",
      "\n",
      "AI-powered chatbots are evolving rapidly, integrating into various platforms to improve customer service and support. However, safety, ethics, and regulatory compliance must be prioritized as AI development grows. Concerns such as data privacy, transparency, and job displacement need addressing through collaboration with policymakers and stakeholders to establish guidelines for responsible innovation.\n",
      "\n",
      "In summary, 2024 is expected to bring exciting advancements in AI that reshape various industries, but it also requires responsible innovation and consideration of potential impacts on society.\n",
      "\n",
      "\n"
     ]
    },
    {
     "data": {
      "text/markdown": [
       "> In 2024, AI is expected to reshape various industries with advancements such as Multimodal AI, Generative AI, Reinforcement Learning, and Edge Computing. Multimodal AI integrates data from text, images, audio, and video, improving decision-making processes and task automation. Generative AI shows remarkable potential in natural language processing and content generation. Reinforcement learning enables autonomous agents to make decisions based on their environment and interactions. Edge computing allows for real-time AI applications by processing data at the source.\n",
       "> \n",
       "> Across industries, AI is making significant strides: healthcare sees personalized treatments and improved patient outcomes; finance benefits from fraud detection and financial analysis; marketing experiences enhanced customer engagement through personalized content generation; and the autonomous vehicles industry relies on AI for safer and more efficient transportation.\n",
       "> \n",
       "> AI-powered chatbots are evolving rapidly, integrating into various platforms to improve customer service and support. However, safety, ethics, and regulatory compliance must be prioritized as AI development grows. Concerns such as data privacy, transparency, and job displacement need addressing through collaboration with policymakers and stakeholders to establish guidelines for responsible innovation.\n",
       "> \n",
       "> In summary, 2024 is expected to bring exciting advancements in AI that reshape various industries, but it also requires responsible innovation and consideration of potential impacts on society."
      ],
      "text/plain": [
       "<IPython.core.display.Markdown object>"
      ]
     },
     "execution_count": 20,
     "metadata": {},
     "output_type": "execute_result"
    }
   ],
   "source": [
    "# crew\n",
    "# Get your crew to work!\n",
    "result = crew.kickoff()\n",
    "# print(result)\n",
    "to_markdown(result)\n"
   ]
  }
 ],
 "metadata": {
  "kernelspec": {
   "display_name": "venv",
   "language": "python",
   "name": "python3"
  },
  "language_info": {
   "codemirror_mode": {
    "name": "ipython",
    "version": 3
   },
   "file_extension": ".py",
   "mimetype": "text/x-python",
   "name": "python",
   "nbconvert_exporter": "python",
   "pygments_lexer": "ipython3",
   "version": "3.11.8"
  }
 },
 "nbformat": 4,
 "nbformat_minor": 2
}
