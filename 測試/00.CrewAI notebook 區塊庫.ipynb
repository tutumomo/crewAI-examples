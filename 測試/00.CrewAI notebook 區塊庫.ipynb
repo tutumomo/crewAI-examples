{
 "cells": [
  {
   "cell_type": "code",
   "execution_count": 1,
   "metadata": {},
   "outputs": [
    {
     "data": {
      "text/plain": [
       "'\\nCrewAI 支援 openAI gemini ollama，是 agent 框架裏面對 gemini pro 的支援度比較好的一個框架\\n其他本地端大模型待測試\\n'"
      ]
     },
     "execution_count": 1,
     "metadata": {},
     "output_type": "execute_result"
    }
   ],
   "source": [
    "\"\"\"\n",
    "https://docs.crewai.com/how-to/LLM-Connections/\n",
    "CrewAI 支援 openAI gemini ollama，是 agent 框架裏面對 gemini pro 的支援度比較好的一個框架\n",
    "- Setting Up Ollama\n",
    "Environment Variables Configuration: To integrate Ollama, set the following environment variables:\n",
    "OPENAI_API_BASE='http://localhost:11434/v1'\n",
    "OPENAI_MODEL_NAME='openhermes'  # Adjust based on available model\n",
    "OPENAI_API_KEY=''\n",
    "\n",
    "其他本地端大模型待測試(OpenAI Compatible API Endpoints)\n",
    "- LM Studio\n",
    "OPENAI_API_BASE=\"http://localhost:8000/v1\"\n",
    "OPENAI_MODEL_NAME=NA\n",
    "OPENAI_API_KEY=NA\n",
    "\n",
    "- Mistral API\n",
    "OPENAI_API_KEY=your-mistral-api-key\n",
    "OPENAI_API_BASE=https://api.mistral.ai/v1\n",
    "OPENAI_MODEL_NAME=\"mistral-small\"\n",
    "\n",
    "- FastChat\n",
    "OPENAI_API_BASE=\"http://localhost:8001/v1\"\n",
    "OPENAI_MODEL_NAME='oh-2.5m7b-q51'\n",
    "OPENAI_API_KEY=NA\n",
    "\n",
    "\"\"\""
   ]
  },
  {
   "cell_type": "code",
   "execution_count": 1,
   "metadata": {},
   "outputs": [],
   "source": [
    "# 匯入依賴庫\n",
    "import os\n",
    "from crewai import Agent, Task, Crew, Process\n"
   ]
  },
  {
   "cell_type": "code",
   "execution_count": 2,
   "metadata": {},
   "outputs": [],
   "source": [
    "import textwrap\n",
    "from IPython.display import HTML, display, Markdown\n",
    "\n",
    "def to_markdown(text):\n",
    "  text = text.replace('•', '  *')\n",
    "  return Markdown(textwrap.indent(text, '> ', predicate=lambda _: True))"
   ]
  },
  {
   "cell_type": "code",
   "execution_count": 3,
   "metadata": {},
   "outputs": [],
   "source": [
    "# 設定4個 LLM\n",
    "from langchain_google_genai import ChatGoogleGenerativeAI\n",
    "from langchain_community.llms import OpenAI, Ollama\n",
    "from langchain_openai import ChatOpenAI\n",
    "# crewai 使用 Ollama 的方法：ollama 已推出 windows 版本，不需要執行 litellm；Mac 則也不需要啟動任何程式，只要有安裝好 Ollama 即可調用。\n",
    "# (autogen 要調用 Ollama 需要執行 litellm，多一道步驟，比較麻煩)\n",
    "gpt35 = ChatOpenAI(model_name=\"gpt-3.5-turbo\", temperature=0.7),\n",
    "gpt4 = ChatOpenAI(model_name=\"gpt-4\", temperature=0.7),\n",
    "# Ollama 大模型，用 modelfile 建立的，可以在 modelfile 設定溫度，但切勿在系統提示詞要它使用中文回復，會造成函數調用不正常\n",
    "ollama = Ollama(model=\"openhermes\")\n",
    "\n",
    "gemini = ChatGoogleGenerativeAI(model=\"gemini-pro\",\n",
    "                             verbose = True,\n",
    "                             temperature = 0.6,\n",
    "                             google_api_key = os.environ[\"GOOGLE_API_KEY\"]\n",
    "                             )"
   ]
  },
  {
   "cell_type": "code",
   "execution_count": null,
   "metadata": {},
   "outputs": [],
   "source": [
    "\"\"\"\n",
    "這裡要仿照 crewAI-examples 提供範例的做法。\n",
    "agents、tasks 都寫成外部的檔案，並從這裡讀取。\n",
    "tools 可以全部放在 tools 資料夾內，另外匯入。\n",
    "或是，crewAI-tools 的做法\n",
    "\"\"\"\n",
    "from tasks import MarketingAnalysisTasks\n",
    "from agents import MarketingAnalysisAgents"
   ]
  },
  {
   "cell_type": "code",
   "execution_count": 4,
   "metadata": {},
   "outputs": [
    {
     "name": "stderr",
     "output_type": "stream",
     "text": [
      "d:\\TOMO.Project\\crewAI\\venv\\Lib\\site-packages\\langchain_core\\_api\\deprecation.py:117: LangChainDeprecationWarning: The class `langchain_community.chat_models.openai.ChatOpenAI` was deprecated in langchain-community 0.0.10 and will be removed in 0.2.0. An updated version of the class exists in the langchain-openai package and should be used instead. To use it run `pip install -U langchain-openai` and import as `from langchain_openai import ChatOpenAI`.\n",
      "  warn_deprecated(\n",
      "WARNING! top_p is not default parameter.\n",
      "                    top_p was transferred to model_kwargs.\n",
      "                    Please confirm that top_p is what you intended.\n"
     ]
    }
   ],
   "source": [
    "import os\n",
    "from langchain.chat_models.openai import ChatOpenAI\n",
    "\n",
    "defalut_llm = ChatOpenAI(openai_api_base=os.environ.get(\"OPENAI_API_BASE_URL\", \"https://api.openai.com/v1\"),\n",
    "                        openai_api_key=os.environ.get(\"OPENAI_API_KEY\"),\n",
    "                        temperature=0.1,                        \n",
    "                        model_name=os.environ.get(\"MODEL_NAME\", \"gpt-3.5-turbo\"),\n",
    "                        top_p=0.3)"
   ]
  },
  {
   "cell_type": "code",
   "execution_count": 5,
   "metadata": {},
   "outputs": [],
   "source": [
    "# 設定工具 tools\n",
    "# Make sure to Install duckduckgo-search for this example:\n",
    "# !pip install -U duckduckgo-search\n",
    "# 最簡易型的工具定義方式\n",
    "from langchain.tools import DuckDuckGoSearchRun\n",
    "search_tool = DuckDuckGoSearchRun()\n",
    "\n",
    "# 從 tools 模組中引入需要的工具\n",
    "from tools.browser_tools import BrowserTools\n",
    "from tools.calculator_tools import CalculatorTools\n",
    "from tools.file_tools import FileTools\n",
    "from tools.search_tools import SearchTools\n",
    "from tools.sec_tools import SECTools\n",
    "# 下面添加 tools 時，必須用 類別.方法 加入工具\n",
    "# BrowserTools.scrape_and_summarize_website\n",
    "# CalculatorTools.calculate\n",
    "# FileTools.write_file\n",
    "# SearchTools.search_internet、SearchTools.search_news\n",
    "# SECTools.search_10q、SECTools.search_10k\n",
    "# 下面的是依樣畫葫蘆自行加入2行定義類別，親測可以匯入\n",
    "from tools.find_papers_arxiv import FindPapersArxiv\n",
    "from tools.get_top_hackernews_stories import GetTopHackernewsStories\n",
    "# 然後就可以用下面的函式來使用工具，已測試可以~~~\n",
    "# FindPapersArxiv.search_arxiv\n",
    "# GetTopHackernewsStories.get_top_hackernews_stories"
   ]
  },
  {
   "cell_type": "code",
   "execution_count": 6,
   "metadata": {},
   "outputs": [],
   "source": [
    "# crewai_tools 工具的匯入方法\n",
    "from crewai import Agent\n",
    "from crewai_tools.tools import WebsiteSearchTool, SeperDevTool, FileReadTool\n",
    "\n",
    "web_search_tool = WebsiteSearchTool()\n",
    "seper_dev_tool = SeperDevTool()\n",
    "file_read_tool = FileReadTool(\n",
    "\tfile_path='job_description_example.md',\n",
    "\tdescription='A tool to read the job description example file.'\n",
    ")\n",
    "\n",
    "class Agents():\n",
    "\tdef research_agent(self):\n",
    "\t\treturn Agent(\n",
    "\t\t\trole='Research Analyst',\n",
    "\t\t\tgoal='Analyze the company website and provided description to extract insights on culture, values, and specific needs.',\n",
    "\t\t\ttools=[web_search_tool, seper_dev_tool],\n",
    "\t\t\tbackstory='Expert in analyzing company cultures and identifying key values and needs from various sources, including websites and brief descriptions.',\n",
    "\t\t\tverbose=True\n",
    "\t\t)\n",
    "\n",
    "\tdef writer_agent(self):\n",
    "\t\t\treturn Agent(\n",
    "\t\t\t\trole='Job Description Writer',\n",
    "\t\t\t\tgoal='Use insights from the Research Analyst to create a detailed, engaging, and enticing job posting.',\n",
    "\t\t\t\ttools=[web_search_tool, seper_dev_tool, file_read_tool],\n",
    "\t\t\t\tbackstory='Skilled in crafting compelling job descriptions that resonate with the company\\'s values and attract the right candidates.',\n",
    "\t\t\t\tverbose=True\n",
    "\t\t\t)\n",
    "\n",
    "\tdef review_agent(self):\n",
    "\t\t\treturn Agent(\n",
    "\t\t\t\trole='Review and Editing Specialist',\n",
    "\t\t\t\tgoal='Review the job posting for clarity, engagement, grammatical accuracy, and alignment with company values and refine it to ensure perfection.',\n",
    "\t\t\t\ttools=[web_search_tool, seper_dev_tool, file_read_tool],\n",
    "\t\t\t\tbackstory='A meticulous editor with an eye for detail, ensuring every piece of content is clear, engaging, and grammatically perfect.',\n",
    "\t\t\t\tverbose=True\n",
    "\t\t\t)"
   ]
  },
  {
   "cell_type": "code",
   "execution_count": 7,
   "metadata": {},
   "outputs": [],
   "source": [
    "# Define your agents with roles and goals\n",
    "# allow_delegation=True, 打開測試看看\n",
    "researcher = Agent(\n",
    "  role='Senior Research Analyst',\n",
    "  goal='Uncover cutting-edge developments in AI and data science',\n",
    "  backstory=\"\"\"You work at a leading tech think tank.\n",
    "  Your expertise lies in identifying emerging trends.\n",
    "  You have a knack for dissecting complex data and presenting\n",
    "  actionable insights.\"\"\",\n",
    "  verbose=True,\n",
    "  allow_delegation=True,\n",
    "  tools=[\n",
    "        search_tool, \n",
    "        BrowserTools.scrape_and_summarize_website, \n",
    "        CalculatorTools.calculate, \n",
    "        FileTools.write_file,\n",
    "        SearchTools.search_internet, SearchTools.search_news,\n",
    "        SECTools.search_10q, SECTools.search_10k,\n",
    "        FindPapersArxiv.search_arxiv,\n",
    "        GetTopHackernewsStories.get_top_hackernews_stories\n",
    "      ],\n",
    "  # You can pass an optional llm attribute specifying what mode you wanna use.\n",
    "  # It can be a local model through Ollama / LM Studio or a remote\n",
    "  # model like OpenAI, Mistral, Antrophic of others (https://python.langchain.com/docs/integrations/llms/)\n",
    "  #\n",
    "  # Examples:\n",
    "  # llm=ollama # was defined above in the file\n",
    "  # llm=ChatOpenAI(model_name=\"gpt-3.5\", temperature=0.7)\n",
    "  # llm = gemini  #using google gemini pro API\n",
    "  # 或在定義後，使用 researcher.llm = ollama 或 gemini 來更改模型\n",
    ")"
   ]
  },
  {
   "cell_type": "code",
   "execution_count": 8,
   "metadata": {},
   "outputs": [],
   "source": [
    "# 寫手應該不需要掛太多 tools，單純測試看看。\n",
    "writer = Agent(\n",
    "  role='Tech Content Strategist',\n",
    "  goal='Craft compelling content on tech advancements',\n",
    "  backstory=\"\"\"You are a renowned Content Strategist, known for\n",
    "  your insightful and engaging articles.\n",
    "  You transform complex concepts into compelling narratives.\"\"\",\n",
    "  verbose=True,\n",
    "  allow_delegation=True,\n",
    "  tools=[\n",
    "        search_tool, \n",
    "        BrowserTools.scrape_and_summarize_website, \n",
    "        CalculatorTools.calculate, \n",
    "        FileTools.write_file,\n",
    "        SearchTools.search_internet, SearchTools.search_news,\n",
    "        SECTools.search_10q, SECTools.search_10k,\n",
    "        FindPapersArxiv.search_arxiv,\n",
    "        GetTopHackernewsStories.get_top_hackernews_stories\n",
    "      ],\n",
    "  # llm = gemini  #using google gemini pro API\n",
    ")\n"
   ]
  },
  {
   "cell_type": "code",
   "execution_count": 9,
   "metadata": {},
   "outputs": [],
   "source": [
    "# 上面可以先不指定用哪一個 llm，這裡再指定就可以\n",
    "# 但是如果分 main.py、agents.py、tasks.py 三個檔案，就必須先指定用哪一個 llm\n",
    "researcher.llm = ollama\n",
    "writer.llm = ollama"
   ]
  },
  {
   "cell_type": "code",
   "execution_count": 10,
   "metadata": {},
   "outputs": [],
   "source": [
    "# Create tasks for your agents\n",
    "# 跟 phidata 比較，phidata 有提供 cli 命令交互式的方法，透過交互式的方式，可以讓使用者在命令列輸入文字，並回傳答案。\n",
    "# 但 crewai 必須在程式碼中定義好要執行的任務 tasks，並執行任務。\n",
    "# 要 AI 解決任務，就必須透過程式碼內輸入 tasks 的任務內容，並執行程式，才能得到結果。\n",
    "task1 = Task(\n",
    "  description=\"\"\"Conduct a comprehensive analysis of the latest advancements in AI in 2024.\n",
    "  Identify key trends, breakthrough technologies, and potential industry impacts.\n",
    "  Your final answer MUST be a full analysis report\"\"\",\n",
    "  agent=researcher\n",
    ")\n",
    "task2 = Task(\n",
    "  description=\"\"\"Using the insights provided, develop an engaging blog\n",
    "  post that highlights the most significant AI advancements.\n",
    "  Your post should be informative yet accessible, catering to a tech-savvy audience.\n",
    "  Make it sound cool, avoid complex words so it doesn't sound like AI.\n",
    "  Your final answer MUST be the full blog post of at least 5 paragraphs.\"\"\",\n",
    "  agent=writer\n",
    ")\n",
    "task3 = Task(\n",
    "  description=\"\"\"express the final blog post provided in traditional chinese。 and write it to a file AI_2024.md\"\"\",\n",
    "  agent=writer\n",
    ")"
   ]
  },
  {
   "cell_type": "code",
   "execution_count": 11,
   "metadata": {},
   "outputs": [],
   "source": [
    "# Instantiate your crew with a sequential process\n",
    "crew = Crew(\n",
    "  agents=[researcher, writer],\n",
    "  tasks=[task1, task2, task3],\n",
    "  verbose=2, # You can set it to 1 or 2 to different logging levels\n",
    ")"
   ]
  },
  {
   "cell_type": "code",
   "execution_count": 12,
   "metadata": {},
   "outputs": [
    {
     "name": "stdout",
     "output_type": "stream",
     "text": [
      "[DEBUG]: Working Agent: Senior Research Analyst\n",
      "[INFO]: Starting Task: Conduct a comprehensive analysis of the latest advancements in AI in 2024.\n",
      "  Identify key trends, breakthrough technologies, and potential industry impacts.\n",
      "  Your final answer MUST be a full analysis report\n",
      "\n",
      "\n",
      "\u001b[1m> Entering new CrewAgentExecutor chain...\u001b[0m\n",
      "\u001b[32;1m\u001b[1;3mUse Tool: duckduckgo_search\n",
      "Input: \"Latest advancements in AI 2024\"\u001b[0m\u001b[93m \n",
      "\n",
      "In 2024, generative AI might actually become useful for the regular, non-tech person, and we are going to see more people tinkering with a million little AI models. State-of-the-art AI models ... This year's trends reflect a deepening sophistication and caution in AI development and deployment strategies, with an eye to ethics, safety and the evolving regulatory landscape. Here are the top 10 AI and machine learning trends to prepare for in 2024. 1. Multimodal AI. Multimodal AI goes beyond traditional single-mode data processing to ... Generative AI took the world by storm in 2023. Its future—and ours—will be shaped by what we do next. Microsoft and Google have since moved beyond search to put chatbot-based assistants into ... Contributor. Nov 1, 2023,03:43am EDT. Share to Facebook. Share to Twitter. Share to Linkedin. The Top 5 Artificial Intelligence (AI) Trends For 2024. Adobe Stock. It's been a year since OpenAI ... AI has been in products for years. From the smart fridge capable of reminding you to buy milk to the card with Apple's Siri enabled. What they don't have is the processing and reasoning ...\n",
      "\u001b[00m\n",
      "\u001b[32;1m\u001b[1;3mFinal Answer: In 2024, the latest advancements in AI are expected to focus on multimodal AI, generative AI, and a deeper understanding of the potential impacts of these technologies. Multimodal AI will expand beyond single-mode data processing, integrating multiple sources of information to provide more comprehensive insights. Generative AI will continue to evolve, with Microsoft and Google incorporating chatbot-based assistants into their products. Other trends include the increased use of AI in finance, healthcare, and cybersecurity, as well as a greater emphasis on ethics and safety in AI development and deployment strategies. The regulatory landscape is also expected to play a significant role in shaping the future of AI, with countries around the world implementing laws and guidelines to govern its use. Ultimately, 2024 will be a year of growth and sophistication for AI technology, impacting various industries and reshaping our daily lives.\u001b[0m\n",
      "\n",
      "\u001b[1m> Finished chain.\u001b[0m\n",
      "[DEBUG]: [Senior Research Analyst] Task output: In 2024, the latest advancements in AI are expected to focus on multimodal AI, generative AI, and a deeper understanding of the potential impacts of these technologies. Multimodal AI will expand beyond single-mode data processing, integrating multiple sources of information to provide more comprehensive insights. Generative AI will continue to evolve, with Microsoft and Google incorporating chatbot-based assistants into their products. Other trends include the increased use of AI in finance, healthcare, and cybersecurity, as well as a greater emphasis on ethics and safety in AI development and deployment strategies. The regulatory landscape is also expected to play a significant role in shaping the future of AI, with countries around the world implementing laws and guidelines to govern its use. Ultimately, 2024 will be a year of growth and sophistication for AI technology, impacting various industries and reshaping our daily lives.\n",
      "\n",
      "\n",
      "[DEBUG]: Working Agent: Tech Content Strategist\n",
      "[INFO]: Starting Task: Using the insights provided, develop an engaging blog\n",
      "  post that highlights the most significant AI advancements.\n",
      "  Your post should be informative yet accessible, catering to a tech-savvy audience.\n",
      "  Make it sound cool, avoid complex words so it doesn't sound like AI.\n",
      "  Your final answer MUST be the full blog post of at least 5 paragraphs.\n",
      "\n",
      "\n",
      "\u001b[1m> Entering new CrewAgentExecutor chain...\u001b[0m\n",
      "\u001b[32;1m\u001b[1;3mUse Tool: duckduckgo_search\n",
      "Input: \"latest advancements in AI\"\u001b[0m\u001b[93m \n",
      "\n",
      "In 2024, generative AI might actually become useful for the regular, non-tech person, and we are going to see more people tinkering with a million little AI models. State-of-the-art AI models ... The 2023 Gartner Hype Cycle for Artificial Intelligence (AI) identifies innovations and techniques that offer significant and even transformational benefits while also addressing the limitations and risks of fallible systems. Learn about the two types of GenAI innovations (generative AI and decision intelligence) and how they will fuel AI strategies in the next two to five years. Dec. 1, 2023 — Electronic nanomaterials experts have imagined how recent advances in artificial intelligence (AI) and machine learning (ML) could aid scientific brainstorming and ideation. To ... Write to billy.perrigo@time.com. Multimodality, constitutional AI and text-to-video were three of the biggest innovations in artificial intelligence in the past year. The latest annual McKinsey Global Survey on the current state of AI confirms the explosive growth of generative AI (gen AI) tools. Less than a year after many of these tools debuted, one-third of our survey respondents say their organizations are using gen AI regularly in at least one business function. Amid recent advances, AI has risen from a ...\n",
      "\u001b[00m\n",
      "\u001b[32;1m\u001b[1;3mFinal Answer: In 2024, AI technology is set to witness remarkable advancements that will redefine industries and our daily lives. Among the most significant developments are multimodal AI, generative AI, and a deeper understanding of their potential impacts. Multimodal AI will progress beyond single-mode data processing, integrating various sources of information for more comprehensive insights. Generative AI will continue to evolve, with companies like Microsoft and Google incorporating chatbot-based assistants into their products.\n",
      "\n",
      "AI is also set to make significant inroads in sectors such as finance, healthcare, and cybersecurity, bringing about transformational changes in these fields. However, the emphasis on ethics and safety in AI development and deployment strategies will remain crucial, with countries around the world implementing laws and guidelines to govern its use.\n",
      "\n",
      "The future of AI is one marked by growth, sophistication, and an increasingly human-like approach to problem-solving. As these advancements unfold, we can expect AI to become a more integral part of our daily lives, shaping the way we work, communicate, and interact with the world around us. The potential for AI to revolutionize various industries is immense, making it an exciting time to witness and participate in the ongoing evolution of this transformative technology.\u001b[0m\n",
      "\n",
      "\u001b[1m> Finished chain.\u001b[0m\n",
      "[DEBUG]: [Tech Content Strategist] Task output: In 2024, AI technology is set to witness remarkable advancements that will redefine industries and our daily lives. Among the most significant developments are multimodal AI, generative AI, and a deeper understanding of their potential impacts. Multimodal AI will progress beyond single-mode data processing, integrating various sources of information for more comprehensive insights. Generative AI will continue to evolve, with companies like Microsoft and Google incorporating chatbot-based assistants into their products.\n",
      "\n",
      "AI is also set to make significant inroads in sectors such as finance, healthcare, and cybersecurity, bringing about transformational changes in these fields. However, the emphasis on ethics and safety in AI development and deployment strategies will remain crucial, with countries around the world implementing laws and guidelines to govern its use.\n",
      "\n",
      "The future of AI is one marked by growth, sophistication, and an increasingly human-like approach to problem-solving. As these advancements unfold, we can expect AI to become a more integral part of our daily lives, shaping the way we work, communicate, and interact with the world around us. The potential for AI to revolutionize various industries is immense, making it an exciting time to witness and participate in the ongoing evolution of this transformative technology.\n",
      "\n",
      "\n",
      "[DEBUG]: Working Agent: Tech Content Strategist\n",
      "[INFO]: Starting Task: express the final blog post provided in traditional chinese。 and write it to a file AI_2024.md\n",
      "\n",
      "\n",
      "\u001b[1m> Entering new CrewAgentExecutor chain...\u001b[0m\n",
      "\u001b[32;1m\u001b[1;3mI tried to use a tool and give a final answer at the same time, I must choose only one.\u001b[0m\u001b[32;1m\u001b[1;3mI tried to use a tool and give a final answer at the same time, I must choose only one.\u001b[0m\u001b[32;1m\u001b[1;3mI tried to use a tool and give a final answer at the same time, I must choose only one.\u001b[0m\u001b[32;1m\u001b[1;3mI tried to use a tool and give a final answer at the same time, I must choose only one.\u001b[0m\u001b[32;1m\u001b[1;3mI tried to use a tool and give a final answer at the same time, I must choose only one.\u001b[0m\u001b[32;1m\u001b[1;3mUse Tool: Scrape website content, Scrape website content, Scrape website content, Scrape website content, Scrape website content\n",
      "Link: https://www.forbes.com/sites/forbestechcouncil/2021/10/29/the-future-of-artificial-intelligence--how-far-will-it-go/?sh=54a873f663e6\u001b[0m\u001b[93m \n",
      "\n",
      "A string is a sequence of characters, terminated by a null character, in contiguous memory locations. Strings have ordered, indexable, and comparable properties, and are widely used in data structures and algorithms. Learn about the characteristics, applications, advantages, disadvantages, and examples of strings. A string is an object of type String whose value is text. Learn how to declare, initialze, manipulate, and compare strings in C# with the string keyword, the String class, and the StringInfo object. See examples of quoted, verbatim, and raw string literals. Learn about string data structure, a fundamental concept in programming and data storage. Find out how to declare, manipulate, and process strings using different languages and operations. Explore various problems on string data structure, such as concatenation, substring, pattern searching, binary string, and more. Learn how to create, manipulate and use strings in Java with examples and explanations. Strings are immutable sequences of characters that can be created from literals, new keyword, or arrays. String methods include length, charAt, substring, concat, indexOf, lastIndexOf, equals, and more. In this tutorial, we'll provide a quick cheat sheet of common String operations. Additionally, we'll shed some light on the differences between equals and \"==\" and between StringUtils#isBlank and # isEmpty. 2. Transforming a Char into a String. A char represents one character in Java. But in most cases, we need a String.\n",
      "\u001b[00m\n",
      "\u001b[32;1m\u001b[1;3mFinal Answer: 在2024年，人工智能技術將歷經驚人進步，重新定義行業和我們的日常生活。其中最具代表性的進步有多模式AI、生成AI以及它們的影響的更深入理解。多模式AI將超越單一模式的數據處理，集成各種資訊來獲得更全面的洞察力。生成AI將持續發展，企業如Microsoft和Google將Chatbot基於助手整合其產品中。\n",
      "\n",
      "人工智能將在金融、健康、遞送安全等各個行業中見大改變，對這些行業帶來徹底的轉型。然而，人工智能開發和部署策略的伦理和安全方面仍將保持重要性，世界各地的國家將實施法律和指導原則來管治它的使用。\n",
      "\n",
      "人工智能未來是蓬勃發展、進步高大上、以人類風格解決問題的方向。這些進步展開時，我們將看到AI成為我們日常生活的更加紮實的一部分，形塑工作、溝通和與周圍世界的互動的方式。人工智能在各種行業中的潛力巨大，這是觀察和參與人工智能發展過程的奮鬥時期。\u001b[0m\n",
      "\n",
      "\u001b[1m> Finished chain.\u001b[0m\n",
      "[DEBUG]: [Tech Content Strategist] Task output: 在2024年，人工智能技術將歷經驚人進步，重新定義行業和我們的日常生活。其中最具代表性的進步有多模式AI、生成AI以及它們的影響的更深入理解。多模式AI將超越單一模式的數據處理，集成各種資訊來獲得更全面的洞察力。生成AI將持續發展，企業如Microsoft和Google將Chatbot基於助手整合其產品中。\n",
      "\n",
      "人工智能將在金融、健康、遞送安全等各個行業中見大改變，對這些行業帶來徹底的轉型。然而，人工智能開發和部署策略的伦理和安全方面仍將保持重要性，世界各地的國家將實施法律和指導原則來管治它的使用。\n",
      "\n",
      "人工智能未來是蓬勃發展、進步高大上、以人類風格解決問題的方向。這些進步展開時，我們將看到AI成為我們日常生活的更加紮實的一部分，形塑工作、溝通和與周圍世界的互動的方式。人工智能在各種行業中的潛力巨大，這是觀察和參與人工智能發展過程的奮鬥時期。\n",
      "\n",
      "\n"
     ]
    },
    {
     "data": {
      "text/markdown": [
       "> 在2024年，人工智能技術將歷經驚人進步，重新定義行業和我們的日常生活。其中最具代表性的進步有多模式AI、生成AI以及它們的影響的更深入理解。多模式AI將超越單一模式的數據處理，集成各種資訊來獲得更全面的洞察力。生成AI將持續發展，企業如Microsoft和Google將Chatbot基於助手整合其產品中。\n",
       "> \n",
       "> 人工智能將在金融、健康、遞送安全等各個行業中見大改變，對這些行業帶來徹底的轉型。然而，人工智能開發和部署策略的伦理和安全方面仍將保持重要性，世界各地的國家將實施法律和指導原則來管治它的使用。\n",
       "> \n",
       "> 人工智能未來是蓬勃發展、進步高大上、以人類風格解決問題的方向。這些進步展開時，我們將看到AI成為我們日常生活的更加紮實的一部分，形塑工作、溝通和與周圍世界的互動的方式。人工智能在各種行業中的潛力巨大，這是觀察和參與人工智能發展過程的奮鬥時期。"
      ],
      "text/plain": [
       "<IPython.core.display.Markdown object>"
      ]
     },
     "execution_count": 12,
     "metadata": {},
     "output_type": "execute_result"
    }
   ],
   "source": [
    "# crew\n",
    "# Get your crew to work!\n",
    "result = crew.kickoff()\n",
    "# print(result)\n",
    "to_markdown(result)\n"
   ]
  }
 ],
 "metadata": {
  "kernelspec": {
   "display_name": "venv",
   "language": "python",
   "name": "python3"
  },
  "language_info": {
   "codemirror_mode": {
    "name": "ipython",
    "version": 3
   },
   "file_extension": ".py",
   "mimetype": "text/x-python",
   "name": "python",
   "nbconvert_exporter": "python",
   "pygments_lexer": "ipython3",
   "version": "3.11.8"
  }
 },
 "nbformat": 4,
 "nbformat_minor": 2
}
